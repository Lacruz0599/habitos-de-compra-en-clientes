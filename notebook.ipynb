{
 "cells": [
  {
   "cell_type": "markdown",
   "id": "mhIvmmkW414q",
   "metadata": {
    "id": "mhIvmmkW414q"
   },
   "source": [
    "# Introducción\n",
    "\n",
    "Instacart es una plataforma de entregas de comestibles donde la clientela puede registrar un pedido y hacer que se lo entreguen, similar a Uber Eats y Door Dash.\n",
    "El conjunto de datos que te hemos proporcionado tiene modificaciones del original. Redujimos el tamaño del conjunto para que tus cálculos se hicieran más rápido e introdujimos valores ausentes y duplicados. Tuvimos cuidado de conservar las distribuciones de los datos originales cuando hicimos los cambios.\n",
    "\n",
    "Debes completar tres pasos. Para cada uno de ellos, escribe una breve introducción que refleje con claridad cómo pretendes resolver cada paso, y escribe párrafos explicatorios que justifiquen tus decisiones al tiempo que avanzas en tu solución.  También escribe una conclusión que resuma tus hallazgos y elecciones.\n"
   ]
  },
  {
   "cell_type": "markdown",
   "id": "3MbyzpOQZ5Or",
   "metadata": {
    "id": "3MbyzpOQZ5Or"
   },
   "source": [
    "## Diccionario de datos\n",
    "\n",
    "Hay cinco tablas en el conjunto de datos, y tendrás que usarlas todas para hacer el preprocesamiento de datos y el análisis exploratorio de datos. A continuación se muestra un diccionario de datos que enumera las columnas de cada tabla y describe los datos que contienen.\n",
    "\n",
    "- `instacart_orders.csv`: cada fila corresponde a un pedido en la aplicación Instacart.\n",
    "    - `'order_id'`: número de ID que identifica de manera única cada pedido.\n",
    "    - `'user_id'`: número de ID que identifica de manera única la cuenta de cada cliente.\n",
    "    - `'order_number'`: el número de veces que este cliente ha hecho un pedido.\n",
    "    - `'order_dow'`: día de la semana en que se hizo el pedido (0 si es domingo).\n",
    "    - `'order_hour_of_day'`: hora del día en que se hizo el pedido.\n",
    "    - `'days_since_prior_order'`: número de días transcurridos desde que este cliente hizo su pedido anterior.\n",
    "- `products.csv`: cada fila corresponde a un producto único que pueden comprar los clientes.\n",
    "    - `'product_id'`: número ID que identifica de manera única cada producto.\n",
    "    - `'product_name'`: nombre del producto.\n",
    "    - `'aisle_id'`: número ID que identifica de manera única cada categoría de pasillo de víveres.\n",
    "    - `'department_id'`: número ID que identifica de manera única cada departamento de víveres.\n",
    "- `order_products.csv`: cada fila corresponde a un artículo pedido en un pedido.\n",
    "    - `'order_id'`: número de ID que identifica de manera única cada pedido.\n",
    "    - `'product_id'`: número ID que identifica de manera única cada producto.\n",
    "    - `'add_to_cart_order'`: el orden secuencial en el que se añadió cada artículo en el carrito.\n",
    "    - `'reordered'`: 0 si el cliente nunca ha pedido este producto antes, 1 si lo ha pedido.\n",
    "- `aisles.csv`\n",
    "    - `'aisle_id'`: número ID que identifica de manera única cada categoría de pasillo de víveres.\n",
    "    - `'aisle'`: nombre del pasillo.\n",
    "- `departments.csv`\n",
    "    - `'department_id'`: número ID que identifica de manera única cada departamento de víveres.\n",
    "    - `'department'`: nombre del departamento."
   ]
  },
  {
   "cell_type": "markdown",
   "id": "n3Ha_cNSZ8lK",
   "metadata": {
    "id": "n3Ha_cNSZ8lK"
   },
   "source": [
    "# Paso 1. Descripción de los datos\n",
    "\n",
    "Lee los archivos de datos (`/datasets/instacart_orders.csv`, `/datasets/products.csv`, `/datasets/aisles.csv`, `/datasets/departments.csv` y `/datasets/order_products.csv`) con `pd.read_csv()` usando los parámetros adecuados para leer los datos correctamente. Verifica la información para cada DataFrame creado.\n"
   ]
  },
  {
   "cell_type": "markdown",
   "id": "OmlQPLlyaAfR",
   "metadata": {
    "id": "OmlQPLlyaAfR"
   },
   "source": [
    "## Plan de solución\n",
    "\n",
    "El primer paso será abrir los archivos csv en un editor de texto para poder observar el tipo de separador del archivo así como otras carácteristicas, posteriormente solo deberemos abrir los archivos con `.read_csv()` introduciendo los parámetros necesarios. Comprobaremos los datos con una muestra aleatoria usando el metodo `.sample()` y visualizaremos información general con `.info()`"
   ]
  },
  {
   "cell_type": "code",
   "execution_count": 10,
   "id": "fbf1adab",
   "metadata": {
    "id": "fbf1adab"
   },
   "outputs": [],
   "source": [
    "# importar librerías\n",
    "import pandas as pd\n",
    "from matplotlib import pyplot as plt"
   ]
  },
  {
   "cell_type": "code",
   "execution_count": null,
   "id": "ad36396d",
   "metadata": {
    "id": "ad36396d"
   },
   "outputs": [],
   "source": [
    "# leer conjuntos de datos en los DataFrames\n",
    "# para facilitar el código nombraré los df con el mismo nombre del archivo\n",
    "df_instacart_orders = pd.read_csv( '/datasets/instacart_orders.csv', sep = ';' )\n",
    "\n",
    "df_products = pd.read_csv( '/datasets/products.csv', sep = ';' )\n",
    "\n",
    "df_aisles = pd.read_csv( '/datasets/aisles.csv', sep = ';' )\n",
    "\n",
    "df_departments = pd.read_csv( '/datasets/departments.csv', sep = ';' )\n",
    "\n",
    "df_order_products = pd.read_csv( '/datasets/order_products.csv', sep = ';' )"
   ]
  },
  {
   "cell_type": "code",
   "execution_count": 3,
   "id": "ad6a1efa",
   "metadata": {
    "id": "ad6a1efa"
   },
   "outputs": [
    {
     "name": "stdout",
     "output_type": "stream",
     "text": [
      "<class 'pandas.core.frame.DataFrame'>\n",
      "RangeIndex: 478967 entries, 0 to 478966\n",
      "Data columns (total 6 columns):\n",
      " #   Column                  Non-Null Count   Dtype  \n",
      "---  ------                  --------------   -----  \n",
      " 0   order_id                478967 non-null  int64  \n",
      " 1   user_id                 478967 non-null  int64  \n",
      " 2   order_number            478967 non-null  int64  \n",
      " 3   order_dow               478967 non-null  int64  \n",
      " 4   order_hour_of_day       478967 non-null  int64  \n",
      " 5   days_since_prior_order  450148 non-null  float64\n",
      "dtypes: float64(1), int64(5)\n",
      "memory usage: 21.9 MB\n",
      "\n"
     ]
    },
    {
     "data": {
      "text/html": [
       "<div>\n",
       "<style scoped>\n",
       "    .dataframe tbody tr th:only-of-type {\n",
       "        vertical-align: middle;\n",
       "    }\n",
       "\n",
       "    .dataframe tbody tr th {\n",
       "        vertical-align: top;\n",
       "    }\n",
       "\n",
       "    .dataframe thead th {\n",
       "        text-align: right;\n",
       "    }\n",
       "</style>\n",
       "<table border=\"1\" class=\"dataframe\">\n",
       "  <thead>\n",
       "    <tr style=\"text-align: right;\">\n",
       "      <th></th>\n",
       "      <th>order_id</th>\n",
       "      <th>user_id</th>\n",
       "      <th>order_number</th>\n",
       "      <th>order_dow</th>\n",
       "      <th>order_hour_of_day</th>\n",
       "      <th>days_since_prior_order</th>\n",
       "    </tr>\n",
       "  </thead>\n",
       "  <tbody>\n",
       "    <tr>\n",
       "      <th>343253</th>\n",
       "      <td>1129016</td>\n",
       "      <td>95882</td>\n",
       "      <td>19</td>\n",
       "      <td>1</td>\n",
       "      <td>17</td>\n",
       "      <td>2.0</td>\n",
       "    </tr>\n",
       "    <tr>\n",
       "      <th>85111</th>\n",
       "      <td>2102207</td>\n",
       "      <td>133384</td>\n",
       "      <td>3</td>\n",
       "      <td>5</td>\n",
       "      <td>7</td>\n",
       "      <td>4.0</td>\n",
       "    </tr>\n",
       "    <tr>\n",
       "      <th>244993</th>\n",
       "      <td>1336224</td>\n",
       "      <td>83230</td>\n",
       "      <td>4</td>\n",
       "      <td>1</td>\n",
       "      <td>8</td>\n",
       "      <td>14.0</td>\n",
       "    </tr>\n",
       "    <tr>\n",
       "      <th>246678</th>\n",
       "      <td>31631</td>\n",
       "      <td>59278</td>\n",
       "      <td>2</td>\n",
       "      <td>0</td>\n",
       "      <td>9</td>\n",
       "      <td>8.0</td>\n",
       "    </tr>\n",
       "    <tr>\n",
       "      <th>284188</th>\n",
       "      <td>589640</td>\n",
       "      <td>38635</td>\n",
       "      <td>6</td>\n",
       "      <td>6</td>\n",
       "      <td>22</td>\n",
       "      <td>6.0</td>\n",
       "    </tr>\n",
       "  </tbody>\n",
       "</table>\n",
       "</div>"
      ],
      "text/plain": [
       "        order_id  user_id  order_number  order_dow  order_hour_of_day  \\\n",
       "343253   1129016    95882            19          1                 17   \n",
       "85111    2102207   133384             3          5                  7   \n",
       "244993   1336224    83230             4          1                  8   \n",
       "246678     31631    59278             2          0                  9   \n",
       "284188    589640    38635             6          6                 22   \n",
       "\n",
       "        days_since_prior_order  \n",
       "343253                     2.0  \n",
       "85111                      4.0  \n",
       "244993                    14.0  \n",
       "246678                     8.0  \n",
       "284188                     6.0  "
      ]
     },
     "execution_count": 3,
     "metadata": {},
     "output_type": "execute_result"
    }
   ],
   "source": [
    "# mostrar información del DataFrame\n",
    "df_instacart_orders.info()\n",
    "print()\n",
    "df_instacart_orders.sample( 5 )"
   ]
  },
  {
   "cell_type": "code",
   "execution_count": 4,
   "id": "5130e05e",
   "metadata": {
    "id": "5130e05e"
   },
   "outputs": [
    {
     "name": "stdout",
     "output_type": "stream",
     "text": [
      "<class 'pandas.core.frame.DataFrame'>\n",
      "RangeIndex: 49694 entries, 0 to 49693\n",
      "Data columns (total 4 columns):\n",
      " #   Column         Non-Null Count  Dtype \n",
      "---  ------         --------------  ----- \n",
      " 0   product_id     49694 non-null  int64 \n",
      " 1   product_name   48436 non-null  object\n",
      " 2   aisle_id       49694 non-null  int64 \n",
      " 3   department_id  49694 non-null  int64 \n",
      "dtypes: int64(3), object(1)\n",
      "memory usage: 1.5+ MB\n",
      "\n"
     ]
    },
    {
     "data": {
      "text/html": [
       "<div>\n",
       "<style scoped>\n",
       "    .dataframe tbody tr th:only-of-type {\n",
       "        vertical-align: middle;\n",
       "    }\n",
       "\n",
       "    .dataframe tbody tr th {\n",
       "        vertical-align: top;\n",
       "    }\n",
       "\n",
       "    .dataframe thead th {\n",
       "        text-align: right;\n",
       "    }\n",
       "</style>\n",
       "<table border=\"1\" class=\"dataframe\">\n",
       "  <thead>\n",
       "    <tr style=\"text-align: right;\">\n",
       "      <th></th>\n",
       "      <th>product_id</th>\n",
       "      <th>product_name</th>\n",
       "      <th>aisle_id</th>\n",
       "      <th>department_id</th>\n",
       "    </tr>\n",
       "  </thead>\n",
       "  <tbody>\n",
       "    <tr>\n",
       "      <th>1136</th>\n",
       "      <td>1137</td>\n",
       "      <td>Cerveza Especial Imported Beer From Mexico</td>\n",
       "      <td>27</td>\n",
       "      <td>5</td>\n",
       "    </tr>\n",
       "    <tr>\n",
       "      <th>13038</th>\n",
       "      <td>13039</td>\n",
       "      <td>Creme Fraiche- Organic</td>\n",
       "      <td>108</td>\n",
       "      <td>16</td>\n",
       "    </tr>\n",
       "    <tr>\n",
       "      <th>16122</th>\n",
       "      <td>16123</td>\n",
       "      <td>Lemon Lime Mexican Soda</td>\n",
       "      <td>77</td>\n",
       "      <td>7</td>\n",
       "    </tr>\n",
       "    <tr>\n",
       "      <th>22279</th>\n",
       "      <td>22280</td>\n",
       "      <td>Gluten Free Three Cheese Pizza</td>\n",
       "      <td>79</td>\n",
       "      <td>1</td>\n",
       "    </tr>\n",
       "    <tr>\n",
       "      <th>14881</th>\n",
       "      <td>14882</td>\n",
       "      <td>2% Milkfat Reduced Fat Milk</td>\n",
       "      <td>84</td>\n",
       "      <td>16</td>\n",
       "    </tr>\n",
       "  </tbody>\n",
       "</table>\n",
       "</div>"
      ],
      "text/plain": [
       "       product_id                                product_name  aisle_id  \\\n",
       "1136         1137  Cerveza Especial Imported Beer From Mexico        27   \n",
       "13038       13039                      Creme Fraiche- Organic       108   \n",
       "16122       16123                     Lemon Lime Mexican Soda        77   \n",
       "22279       22280              Gluten Free Three Cheese Pizza        79   \n",
       "14881       14882                 2% Milkfat Reduced Fat Milk        84   \n",
       "\n",
       "       department_id  \n",
       "1136               5  \n",
       "13038             16  \n",
       "16122              7  \n",
       "22279              1  \n",
       "14881             16  "
      ]
     },
     "execution_count": 4,
     "metadata": {},
     "output_type": "execute_result"
    }
   ],
   "source": [
    "# mostrar información del DataFrame\n",
    "df_products.info()\n",
    "print()\n",
    "df_products.sample( 5 )"
   ]
  },
  {
   "cell_type": "code",
   "execution_count": 5,
   "id": "d8370c05",
   "metadata": {
    "id": "d8370c05"
   },
   "outputs": [
    {
     "name": "stdout",
     "output_type": "stream",
     "text": [
      "<class 'pandas.core.frame.DataFrame'>\n",
      "RangeIndex: 134 entries, 0 to 133\n",
      "Data columns (total 2 columns):\n",
      " #   Column    Non-Null Count  Dtype \n",
      "---  ------    --------------  ----- \n",
      " 0   aisle_id  134 non-null    int64 \n",
      " 1   aisle     134 non-null    object\n",
      "dtypes: int64(1), object(1)\n",
      "memory usage: 2.2+ KB\n",
      "\n"
     ]
    },
    {
     "data": {
      "text/html": [
       "<div>\n",
       "<style scoped>\n",
       "    .dataframe tbody tr th:only-of-type {\n",
       "        vertical-align: middle;\n",
       "    }\n",
       "\n",
       "    .dataframe tbody tr th {\n",
       "        vertical-align: top;\n",
       "    }\n",
       "\n",
       "    .dataframe thead th {\n",
       "        text-align: right;\n",
       "    }\n",
       "</style>\n",
       "<table border=\"1\" class=\"dataframe\">\n",
       "  <thead>\n",
       "    <tr style=\"text-align: right;\">\n",
       "      <th></th>\n",
       "      <th>aisle_id</th>\n",
       "      <th>aisle</th>\n",
       "    </tr>\n",
       "  </thead>\n",
       "  <tbody>\n",
       "    <tr>\n",
       "      <th>78</th>\n",
       "      <td>79</td>\n",
       "      <td>frozen pizza</td>\n",
       "    </tr>\n",
       "    <tr>\n",
       "      <th>45</th>\n",
       "      <td>46</td>\n",
       "      <td>mint gum</td>\n",
       "    </tr>\n",
       "    <tr>\n",
       "      <th>86</th>\n",
       "      <td>87</td>\n",
       "      <td>more household</td>\n",
       "    </tr>\n",
       "    <tr>\n",
       "      <th>53</th>\n",
       "      <td>54</td>\n",
       "      <td>paper goods</td>\n",
       "    </tr>\n",
       "    <tr>\n",
       "      <th>46</th>\n",
       "      <td>47</td>\n",
       "      <td>vitamins supplements</td>\n",
       "    </tr>\n",
       "  </tbody>\n",
       "</table>\n",
       "</div>"
      ],
      "text/plain": [
       "    aisle_id                 aisle\n",
       "78        79          frozen pizza\n",
       "45        46              mint gum\n",
       "86        87        more household\n",
       "53        54           paper goods\n",
       "46        47  vitamins supplements"
      ]
     },
     "execution_count": 5,
     "metadata": {},
     "output_type": "execute_result"
    }
   ],
   "source": [
    "# mostrar información del DataFrame\n",
    "df_aisles.info()\n",
    "print()\n",
    "df_aisles.sample( 5 )"
   ]
  },
  {
   "cell_type": "code",
   "execution_count": 6,
   "id": "59e2090f",
   "metadata": {
    "id": "59e2090f"
   },
   "outputs": [
    {
     "name": "stdout",
     "output_type": "stream",
     "text": [
      "<class 'pandas.core.frame.DataFrame'>\n",
      "RangeIndex: 21 entries, 0 to 20\n",
      "Data columns (total 2 columns):\n",
      " #   Column         Non-Null Count  Dtype \n",
      "---  ------         --------------  ----- \n",
      " 0   department_id  21 non-null     int64 \n",
      " 1   department     21 non-null     object\n",
      "dtypes: int64(1), object(1)\n",
      "memory usage: 464.0+ bytes\n",
      "\n"
     ]
    },
    {
     "data": {
      "text/html": [
       "<div>\n",
       "<style scoped>\n",
       "    .dataframe tbody tr th:only-of-type {\n",
       "        vertical-align: middle;\n",
       "    }\n",
       "\n",
       "    .dataframe tbody tr th {\n",
       "        vertical-align: top;\n",
       "    }\n",
       "\n",
       "    .dataframe thead th {\n",
       "        text-align: right;\n",
       "    }\n",
       "</style>\n",
       "<table border=\"1\" class=\"dataframe\">\n",
       "  <thead>\n",
       "    <tr style=\"text-align: right;\">\n",
       "      <th></th>\n",
       "      <th>department_id</th>\n",
       "      <th>department</th>\n",
       "    </tr>\n",
       "  </thead>\n",
       "  <tbody>\n",
       "    <tr>\n",
       "      <th>6</th>\n",
       "      <td>7</td>\n",
       "      <td>beverages</td>\n",
       "    </tr>\n",
       "    <tr>\n",
       "      <th>12</th>\n",
       "      <td>13</td>\n",
       "      <td>pantry</td>\n",
       "    </tr>\n",
       "    <tr>\n",
       "      <th>18</th>\n",
       "      <td>19</td>\n",
       "      <td>snacks</td>\n",
       "    </tr>\n",
       "    <tr>\n",
       "      <th>17</th>\n",
       "      <td>18</td>\n",
       "      <td>babies</td>\n",
       "    </tr>\n",
       "    <tr>\n",
       "      <th>0</th>\n",
       "      <td>1</td>\n",
       "      <td>frozen</td>\n",
       "    </tr>\n",
       "  </tbody>\n",
       "</table>\n",
       "</div>"
      ],
      "text/plain": [
       "    department_id department\n",
       "6               7  beverages\n",
       "12             13     pantry\n",
       "18             19     snacks\n",
       "17             18     babies\n",
       "0               1     frozen"
      ]
     },
     "execution_count": 6,
     "metadata": {},
     "output_type": "execute_result"
    }
   ],
   "source": [
    "# mostrar información del DataFrame\n",
    "df_departments.info()\n",
    "print()\n",
    "df_departments.sample( 5 )"
   ]
  },
  {
   "cell_type": "code",
   "execution_count": 7,
   "id": "6fc81694",
   "metadata": {
    "id": "6fc81694"
   },
   "outputs": [
    {
     "name": "stdout",
     "output_type": "stream",
     "text": [
      "<class 'pandas.core.frame.DataFrame'>\n",
      "RangeIndex: 4545007 entries, 0 to 4545006\n",
      "Data columns (total 4 columns):\n",
      " #   Column             Non-Null Count    Dtype  \n",
      "---  ------             --------------    -----  \n",
      " 0   order_id           4545007 non-null  int64  \n",
      " 1   product_id         4545007 non-null  int64  \n",
      " 2   add_to_cart_order  4544171 non-null  float64\n",
      " 3   reordered          4545007 non-null  int64  \n",
      "dtypes: float64(1), int64(3)\n",
      "memory usage: 138.7 MB\n",
      "\n"
     ]
    },
    {
     "data": {
      "text/html": [
       "<div>\n",
       "<style scoped>\n",
       "    .dataframe tbody tr th:only-of-type {\n",
       "        vertical-align: middle;\n",
       "    }\n",
       "\n",
       "    .dataframe tbody tr th {\n",
       "        vertical-align: top;\n",
       "    }\n",
       "\n",
       "    .dataframe thead th {\n",
       "        text-align: right;\n",
       "    }\n",
       "</style>\n",
       "<table border=\"1\" class=\"dataframe\">\n",
       "  <thead>\n",
       "    <tr style=\"text-align: right;\">\n",
       "      <th></th>\n",
       "      <th>order_id</th>\n",
       "      <th>product_id</th>\n",
       "      <th>add_to_cart_order</th>\n",
       "      <th>reordered</th>\n",
       "    </tr>\n",
       "  </thead>\n",
       "  <tbody>\n",
       "    <tr>\n",
       "      <th>4223188</th>\n",
       "      <td>260031</td>\n",
       "      <td>16797</td>\n",
       "      <td>18.0</td>\n",
       "      <td>0</td>\n",
       "    </tr>\n",
       "    <tr>\n",
       "      <th>1337012</th>\n",
       "      <td>145741</td>\n",
       "      <td>1909</td>\n",
       "      <td>2.0</td>\n",
       "      <td>1</td>\n",
       "    </tr>\n",
       "    <tr>\n",
       "      <th>3670905</th>\n",
       "      <td>2695466</td>\n",
       "      <td>47977</td>\n",
       "      <td>5.0</td>\n",
       "      <td>1</td>\n",
       "    </tr>\n",
       "    <tr>\n",
       "      <th>158481</th>\n",
       "      <td>881460</td>\n",
       "      <td>7562</td>\n",
       "      <td>22.0</td>\n",
       "      <td>0</td>\n",
       "    </tr>\n",
       "    <tr>\n",
       "      <th>4169157</th>\n",
       "      <td>3345885</td>\n",
       "      <td>19477</td>\n",
       "      <td>18.0</td>\n",
       "      <td>1</td>\n",
       "    </tr>\n",
       "  </tbody>\n",
       "</table>\n",
       "</div>"
      ],
      "text/plain": [
       "         order_id  product_id  add_to_cart_order  reordered\n",
       "4223188    260031       16797               18.0          0\n",
       "1337012    145741        1909                2.0          1\n",
       "3670905   2695466       47977                5.0          1\n",
       "158481     881460        7562               22.0          0\n",
       "4169157   3345885       19477               18.0          1"
      ]
     },
     "execution_count": 7,
     "metadata": {},
     "output_type": "execute_result"
    }
   ],
   "source": [
    "# mostrar información del DataFrame\n",
    "df_order_products.info( show_counts = True )\n",
    "print()\n",
    "df_order_products.sample( 5 )"
   ]
  },
  {
   "cell_type": "markdown",
   "id": "t75BD19oaR5f",
   "metadata": {
    "id": "t75BD19oaR5f"
   },
   "source": [
    "## Conclusiones\n",
    "\n",
    "Es importante la descripción de los datos para saber con que vamos a estar trabajando.\n",
    "Me doy cuenta que habrá que tratar con algunos datos nulos y habrá que buscar duplicados pero eso se hará en los próximos pasos.\n"
   ]
  },
  {
   "cell_type": "markdown",
   "id": "8RJHqxVmaVsF",
   "metadata": {
    "id": "8RJHqxVmaVsF"
   },
   "source": [
    "# Paso 2. Preprocesamiento de los datos\n",
    "\n",
    "Preprocesa los datos de la siguiente manera:\n",
    "\n",
    "- Verifica y corrige los tipos de datos (por ejemplo, asegúrate de que las columnas de ID sean números enteros).\n",
    "- Identifica y completa los valores ausentes.\n",
    "- Identifica y elimina los valores duplicados.\n",
    "\n",
    "Asegúrate de explicar qué tipos de valores ausentes y duplicados encontraste, cómo los completaste o eliminaste y por qué usaste esos métodos. ¿Por qué crees que estos valores ausentes y duplicados pueden haber estado presentes en el conjunto de datos?"
   ]
  },
  {
   "cell_type": "markdown",
   "id": "p6poABZQaZYb",
   "metadata": {
    "id": "p6poABZQaZYb"
   },
   "source": [
    "## Plan de solución\n",
    "\n",
    "Para solucionar el paso 2 se trabajará un DataFrame a la vez Y se aplicarán diferentes técnicas para poder limpiar los datos,\n",
    "Lo primero será tratar con los valores duplicados más obvios y depués buscando algunos que se encuentren más escondidos\n",
    "y después se localizarán los valores ausentes para determinar si es viable eliminarlos o quizá introducir algún valor en función de los valores promedio del conjunto de datos, esto se determinará sobre la marcha y conforme se exploren los datos faltantes y se descubra por qué es que faltan."
   ]
  },
  {
   "cell_type": "markdown",
   "id": "07357848-dc64-4156-9cc3-01ff4365226d",
   "metadata": {
    "id": "07357848-dc64-4156-9cc3-01ff4365226d"
   },
   "source": [
    "## Encuentra y elimina los valores duplicados (y describe cómo tomaste tus decisiones)."
   ]
  },
  {
   "cell_type": "markdown",
   "id": "f179f0a9",
   "metadata": {
    "id": "f179f0a9"
   },
   "source": [
    "### `instacart_orders` data frame"
   ]
  },
  {
   "cell_type": "code",
   "execution_count": 8,
   "id": "b99297a5-405a-463d-8535-9adc3da4ad74",
   "metadata": {
    "id": "b99297a5-405a-463d-8535-9adc3da4ad74"
   },
   "outputs": [
    {
     "name": "stdout",
     "output_type": "stream",
     "text": [
      "El número de lineas duplicadas es: 15\n"
     ]
    },
    {
     "data": {
      "text/html": [
       "<div>\n",
       "<style scoped>\n",
       "    .dataframe tbody tr th:only-of-type {\n",
       "        vertical-align: middle;\n",
       "    }\n",
       "\n",
       "    .dataframe tbody tr th {\n",
       "        vertical-align: top;\n",
       "    }\n",
       "\n",
       "    .dataframe thead th {\n",
       "        text-align: right;\n",
       "    }\n",
       "</style>\n",
       "<table border=\"1\" class=\"dataframe\">\n",
       "  <thead>\n",
       "    <tr style=\"text-align: right;\">\n",
       "      <th></th>\n",
       "      <th>order_id</th>\n",
       "      <th>user_id</th>\n",
       "      <th>order_number</th>\n",
       "      <th>order_dow</th>\n",
       "      <th>order_hour_of_day</th>\n",
       "      <th>days_since_prior_order</th>\n",
       "    </tr>\n",
       "  </thead>\n",
       "  <tbody>\n",
       "    <tr>\n",
       "      <th>145574</th>\n",
       "      <td>794638</td>\n",
       "      <td>50898</td>\n",
       "      <td>24</td>\n",
       "      <td>3</td>\n",
       "      <td>2</td>\n",
       "      <td>2.0</td>\n",
       "    </tr>\n",
       "    <tr>\n",
       "      <th>223105</th>\n",
       "      <td>2160484</td>\n",
       "      <td>107525</td>\n",
       "      <td>16</td>\n",
       "      <td>3</td>\n",
       "      <td>2</td>\n",
       "      <td>30.0</td>\n",
       "    </tr>\n",
       "    <tr>\n",
       "      <th>230807</th>\n",
       "      <td>1918001</td>\n",
       "      <td>188546</td>\n",
       "      <td>14</td>\n",
       "      <td>3</td>\n",
       "      <td>2</td>\n",
       "      <td>16.0</td>\n",
       "    </tr>\n",
       "    <tr>\n",
       "      <th>266232</th>\n",
       "      <td>1782114</td>\n",
       "      <td>106752</td>\n",
       "      <td>1</td>\n",
       "      <td>3</td>\n",
       "      <td>2</td>\n",
       "      <td>NaN</td>\n",
       "    </tr>\n",
       "    <tr>\n",
       "      <th>273805</th>\n",
       "      <td>1112182</td>\n",
       "      <td>202304</td>\n",
       "      <td>84</td>\n",
       "      <td>3</td>\n",
       "      <td>2</td>\n",
       "      <td>6.0</td>\n",
       "    </tr>\n",
       "    <tr>\n",
       "      <th>284038</th>\n",
       "      <td>2845099</td>\n",
       "      <td>31189</td>\n",
       "      <td>11</td>\n",
       "      <td>3</td>\n",
       "      <td>2</td>\n",
       "      <td>7.0</td>\n",
       "    </tr>\n",
       "    <tr>\n",
       "      <th>311713</th>\n",
       "      <td>1021560</td>\n",
       "      <td>53767</td>\n",
       "      <td>3</td>\n",
       "      <td>3</td>\n",
       "      <td>2</td>\n",
       "      <td>9.0</td>\n",
       "    </tr>\n",
       "    <tr>\n",
       "      <th>321100</th>\n",
       "      <td>408114</td>\n",
       "      <td>68324</td>\n",
       "      <td>4</td>\n",
       "      <td>3</td>\n",
       "      <td>2</td>\n",
       "      <td>18.0</td>\n",
       "    </tr>\n",
       "    <tr>\n",
       "      <th>323900</th>\n",
       "      <td>1919531</td>\n",
       "      <td>191501</td>\n",
       "      <td>32</td>\n",
       "      <td>3</td>\n",
       "      <td>2</td>\n",
       "      <td>7.0</td>\n",
       "    </tr>\n",
       "    <tr>\n",
       "      <th>345917</th>\n",
       "      <td>2232988</td>\n",
       "      <td>82565</td>\n",
       "      <td>1</td>\n",
       "      <td>3</td>\n",
       "      <td>2</td>\n",
       "      <td>NaN</td>\n",
       "    </tr>\n",
       "    <tr>\n",
       "      <th>371905</th>\n",
       "      <td>391768</td>\n",
       "      <td>57671</td>\n",
       "      <td>19</td>\n",
       "      <td>3</td>\n",
       "      <td>2</td>\n",
       "      <td>10.0</td>\n",
       "    </tr>\n",
       "    <tr>\n",
       "      <th>394347</th>\n",
       "      <td>467134</td>\n",
       "      <td>63189</td>\n",
       "      <td>21</td>\n",
       "      <td>3</td>\n",
       "      <td>2</td>\n",
       "      <td>2.0</td>\n",
       "    </tr>\n",
       "    <tr>\n",
       "      <th>411408</th>\n",
       "      <td>1286742</td>\n",
       "      <td>183220</td>\n",
       "      <td>48</td>\n",
       "      <td>3</td>\n",
       "      <td>2</td>\n",
       "      <td>4.0</td>\n",
       "    </tr>\n",
       "    <tr>\n",
       "      <th>415163</th>\n",
       "      <td>2282673</td>\n",
       "      <td>86751</td>\n",
       "      <td>49</td>\n",
       "      <td>3</td>\n",
       "      <td>2</td>\n",
       "      <td>2.0</td>\n",
       "    </tr>\n",
       "    <tr>\n",
       "      <th>441599</th>\n",
       "      <td>2125197</td>\n",
       "      <td>14050</td>\n",
       "      <td>48</td>\n",
       "      <td>3</td>\n",
       "      <td>2</td>\n",
       "      <td>3.0</td>\n",
       "    </tr>\n",
       "  </tbody>\n",
       "</table>\n",
       "</div>"
      ],
      "text/plain": [
       "        order_id  user_id  order_number  order_dow  order_hour_of_day  \\\n",
       "145574    794638    50898            24          3                  2   \n",
       "223105   2160484   107525            16          3                  2   \n",
       "230807   1918001   188546            14          3                  2   \n",
       "266232   1782114   106752             1          3                  2   \n",
       "273805   1112182   202304            84          3                  2   \n",
       "284038   2845099    31189            11          3                  2   \n",
       "311713   1021560    53767             3          3                  2   \n",
       "321100    408114    68324             4          3                  2   \n",
       "323900   1919531   191501            32          3                  2   \n",
       "345917   2232988    82565             1          3                  2   \n",
       "371905    391768    57671            19          3                  2   \n",
       "394347    467134    63189            21          3                  2   \n",
       "411408   1286742   183220            48          3                  2   \n",
       "415163   2282673    86751            49          3                  2   \n",
       "441599   2125197    14050            48          3                  2   \n",
       "\n",
       "        days_since_prior_order  \n",
       "145574                     2.0  \n",
       "223105                    30.0  \n",
       "230807                    16.0  \n",
       "266232                     NaN  \n",
       "273805                     6.0  \n",
       "284038                     7.0  \n",
       "311713                     9.0  \n",
       "321100                    18.0  \n",
       "323900                     7.0  \n",
       "345917                     NaN  \n",
       "371905                    10.0  \n",
       "394347                     2.0  \n",
       "411408                     4.0  \n",
       "415163                     2.0  \n",
       "441599                     3.0  "
      ]
     },
     "execution_count": 8,
     "metadata": {},
     "output_type": "execute_result"
    }
   ],
   "source": [
    "# Revisa si hay pedidos duplicados\n",
    "#Se llama a duplicated para encontrar todos los registros duplicados.\n",
    "#Se aplica '.duplicated()' en la columna 'order_id' porque según la descripción de la propia columna el ID de una orden no se puede repetir, así que si hay más de un ID significa que estamos tratando con un duplicado\n",
    "duplicados = df_instacart_orders[ 'order_id' ].duplicated().sum()\n",
    "\n",
    "print( f'El número de lineas duplicadas es: { duplicados }' )\n",
    "\n",
    "#La siguiente linea de código nos muestra una tabla con los registros duplicados que se encontraron.\n",
    "df_instacart_orders[ df_instacart_orders[ 'order_id' ].duplicated() ]\n"
   ]
  },
  {
   "cell_type": "markdown",
   "id": "PEkwUX_gvt5A",
   "metadata": {
    "id": "PEkwUX_gvt5A"
   },
   "source": [
    "¿Tienes líneas duplicadas? Si sí, ¿qué tienen en común?\n",
    "\n",
    "Se encontraron 15 lineas duplicadas, todos los duplicados son del miércoles a las 2 de la mañana"
   ]
  },
  {
   "cell_type": "code",
   "execution_count": 9,
   "id": "0d44de5d",
   "metadata": {
    "id": "0d44de5d",
    "scrolled": true
   },
   "outputs": [
    {
     "data": {
      "text/html": [
       "<div>\n",
       "<style scoped>\n",
       "    .dataframe tbody tr th:only-of-type {\n",
       "        vertical-align: middle;\n",
       "    }\n",
       "\n",
       "    .dataframe tbody tr th {\n",
       "        vertical-align: top;\n",
       "    }\n",
       "\n",
       "    .dataframe thead th {\n",
       "        text-align: right;\n",
       "    }\n",
       "</style>\n",
       "<table border=\"1\" class=\"dataframe\">\n",
       "  <thead>\n",
       "    <tr style=\"text-align: right;\">\n",
       "      <th></th>\n",
       "      <th>order_id</th>\n",
       "      <th>user_id</th>\n",
       "      <th>order_number</th>\n",
       "      <th>order_dow</th>\n",
       "      <th>order_hour_of_day</th>\n",
       "      <th>days_since_prior_order</th>\n",
       "    </tr>\n",
       "  </thead>\n",
       "  <tbody>\n",
       "    <tr>\n",
       "      <th>452265</th>\n",
       "      <td>191</td>\n",
       "      <td>176417</td>\n",
       "      <td>44</td>\n",
       "      <td>3</td>\n",
       "      <td>2</td>\n",
       "      <td>6.0</td>\n",
       "    </tr>\n",
       "    <tr>\n",
       "      <th>468324</th>\n",
       "      <td>222962</td>\n",
       "      <td>54979</td>\n",
       "      <td>59</td>\n",
       "      <td>3</td>\n",
       "      <td>2</td>\n",
       "      <td>3.0</td>\n",
       "    </tr>\n",
       "    <tr>\n",
       "      <th>247867</th>\n",
       "      <td>238782</td>\n",
       "      <td>196224</td>\n",
       "      <td>6</td>\n",
       "      <td>3</td>\n",
       "      <td>2</td>\n",
       "      <td>3.0</td>\n",
       "    </tr>\n",
       "    <tr>\n",
       "      <th>417106</th>\n",
       "      <td>248760</td>\n",
       "      <td>204961</td>\n",
       "      <td>25</td>\n",
       "      <td>3</td>\n",
       "      <td>2</td>\n",
       "      <td>15.0</td>\n",
       "    </tr>\n",
       "    <tr>\n",
       "      <th>328565</th>\n",
       "      <td>264348</td>\n",
       "      <td>34806</td>\n",
       "      <td>6</td>\n",
       "      <td>3</td>\n",
       "      <td>2</td>\n",
       "      <td>5.0</td>\n",
       "    </tr>\n",
       "    <tr>\n",
       "      <th>...</th>\n",
       "      <td>...</td>\n",
       "      <td>...</td>\n",
       "      <td>...</td>\n",
       "      <td>...</td>\n",
       "      <td>...</td>\n",
       "      <td>...</td>\n",
       "    </tr>\n",
       "    <tr>\n",
       "      <th>97378</th>\n",
       "      <td>3226444</td>\n",
       "      <td>149996</td>\n",
       "      <td>3</td>\n",
       "      <td>3</td>\n",
       "      <td>2</td>\n",
       "      <td>23.0</td>\n",
       "    </tr>\n",
       "    <tr>\n",
       "      <th>416198</th>\n",
       "      <td>3275652</td>\n",
       "      <td>169225</td>\n",
       "      <td>7</td>\n",
       "      <td>3</td>\n",
       "      <td>2</td>\n",
       "      <td>30.0</td>\n",
       "    </tr>\n",
       "    <tr>\n",
       "      <th>415975</th>\n",
       "      <td>3286161</td>\n",
       "      <td>77320</td>\n",
       "      <td>9</td>\n",
       "      <td>3</td>\n",
       "      <td>2</td>\n",
       "      <td>8.0</td>\n",
       "    </tr>\n",
       "    <tr>\n",
       "      <th>457013</th>\n",
       "      <td>3384021</td>\n",
       "      <td>14881</td>\n",
       "      <td>6</td>\n",
       "      <td>3</td>\n",
       "      <td>2</td>\n",
       "      <td>30.0</td>\n",
       "    </tr>\n",
       "    <tr>\n",
       "      <th>178465</th>\n",
       "      <td>3389820</td>\n",
       "      <td>21703</td>\n",
       "      <td>2</td>\n",
       "      <td>3</td>\n",
       "      <td>2</td>\n",
       "      <td>11.0</td>\n",
       "    </tr>\n",
       "  </tbody>\n",
       "</table>\n",
       "<p>121 rows × 6 columns</p>\n",
       "</div>"
      ],
      "text/plain": [
       "        order_id  user_id  order_number  order_dow  order_hour_of_day  \\\n",
       "452265       191   176417            44          3                  2   \n",
       "468324    222962    54979            59          3                  2   \n",
       "247867    238782   196224             6          3                  2   \n",
       "417106    248760   204961            25          3                  2   \n",
       "328565    264348    34806             6          3                  2   \n",
       "...          ...      ...           ...        ...                ...   \n",
       "97378    3226444   149996             3          3                  2   \n",
       "416198   3275652   169225             7          3                  2   \n",
       "415975   3286161    77320             9          3                  2   \n",
       "457013   3384021    14881             6          3                  2   \n",
       "178465   3389820    21703             2          3                  2   \n",
       "\n",
       "        days_since_prior_order  \n",
       "452265                     6.0  \n",
       "468324                     3.0  \n",
       "247867                     3.0  \n",
       "417106                    15.0  \n",
       "328565                     5.0  \n",
       "...                        ...  \n",
       "97378                     23.0  \n",
       "416198                    30.0  \n",
       "415975                     8.0  \n",
       "457013                    30.0  \n",
       "178465                    11.0  \n",
       "\n",
       "[121 rows x 6 columns]"
      ]
     },
     "execution_count": 9,
     "metadata": {},
     "output_type": "execute_result"
    }
   ],
   "source": [
    "# Basándote en tus hallazgos,\n",
    "# Verifica todos los pedidos que se hicieron el miércoles a las 2:00 a.m.\n",
    "\n",
    "#se aplica el filtro y el DataFrame resultante se ordena por 'order_id' para poder visualizar los duplicados más fácilmente.\n",
    "df_instacart_orders.query('order_dow ==  3 and order_hour_of_day == 2').sort_values( 'order_id' )\n"
   ]
  },
  {
   "cell_type": "markdown",
   "id": "vu2OWyoqwOx5",
   "metadata": {
    "id": "vu2OWyoqwOx5"
   },
   "source": [
    "¿Qué sugiere este resultado?\n",
    "Tomando en cuenta que hay casi 500000 lineas, nos podemos dar cuenta que los pedidos hechos los miercoles a las 2 de la mañana son realmente muy pocos( solo se encontrarón 121 pedidos ), quizá algún error en el sistema está generando los registros duplicados, pero afortunadamente han sido muy pocos"
   ]
  },
  {
   "cell_type": "code",
   "execution_count": 10,
   "id": "480563c7",
   "metadata": {
    "id": "480563c7"
   },
   "outputs": [],
   "source": [
    "# Elimina los pedidos duplicados\n",
    "df_instacart_orders.drop_duplicates( inplace = True )\n",
    "# Restablecemos los indices del DataFrame\n",
    "df_instacart_orders.reset_index( drop = True, inplace = True )\n"
   ]
  },
  {
   "cell_type": "code",
   "execution_count": 11,
   "id": "0b2396a2",
   "metadata": {
    "id": "0b2396a2"
   },
   "outputs": [
    {
     "name": "stdout",
     "output_type": "stream",
     "text": [
      "El número de lineas duplicadas es: 0\n"
     ]
    }
   ],
   "source": [
    "# Vuelve a verificar si hay filas duplicadas\n",
    "\n",
    "#Se llama a duplicated para encontrar todos los registros duplicados.\n",
    "duplicados = df_instacart_orders.duplicated().sum()\n",
    "\n",
    "print( f'El número de lineas duplicadas es: { duplicados }' )\n"
   ]
  },
  {
   "cell_type": "code",
   "execution_count": 12,
   "id": "f6113ef1",
   "metadata": {
    "id": "f6113ef1"
   },
   "outputs": [
    {
     "name": "stdout",
     "output_type": "stream",
     "text": [
      "El número de IDs duplicados es: 0\n"
     ]
    }
   ],
   "source": [
    "# Vuelve a verificar únicamente si hay IDs duplicados de pedidos\n",
    "df_instacart_orders[ 'order_id' ].duplicated().sum()\n",
    "\n",
    "print( f'El número de IDs duplicados es: { duplicados }' )"
   ]
  },
  {
   "cell_type": "markdown",
   "id": "5e8905ae",
   "metadata": {
    "id": "5e8905ae"
   },
   "source": [
    "Aplicando algunos metodos propios de Pandas me pude percatar de la presencia de lineas duplicadas, aunque haciendo un analisis más detallado encontré que todos los duplicados erán de días míercoles a las 2 am (quizá sea algún problema del sistema), de cualquier forma eran muy pocas lineas duplicadas y no fue un gran problema lidiar co ellas."
   ]
  },
  {
   "cell_type": "markdown",
   "id": "45e6bc46",
   "metadata": {
    "id": "45e6bc46"
   },
   "source": [
    "### `products` data frame"
   ]
  },
  {
   "cell_type": "code",
   "execution_count": 13,
   "id": "5f526b5b-8175-46fa-a0fd-441767d50e64",
   "metadata": {
    "id": "5f526b5b-8175-46fa-a0fd-441767d50e64"
   },
   "outputs": [
    {
     "name": "stdout",
     "output_type": "stream",
     "text": [
      "Duplicados encontrados: 0\n"
     ]
    }
   ],
   "source": [
    "# Verifica si hay filas totalmente duplicadas\n",
    "duplicates = df_products.duplicated().sum()\n",
    "\n",
    "print( f'Duplicados encontrados: {duplicates}' )"
   ]
  },
  {
   "cell_type": "code",
   "execution_count": 14,
   "id": "88daa4f4",
   "metadata": {
    "id": "88daa4f4",
    "scrolled": true
   },
   "outputs": [
    {
     "name": "stdout",
     "output_type": "stream",
     "text": [
      "Duplicados encontrados: 0\n"
     ]
    }
   ],
   "source": [
    "# Revisa únicamente si hay ID de productos duplicados\n",
    "duplicates = df_products['product_id'].duplicated().sum()\n",
    "\n",
    "print( f'Duplicados encontrados: {duplicates}' )"
   ]
  },
  {
   "cell_type": "code",
   "execution_count": 15,
   "id": "c773f0bf",
   "metadata": {
    "id": "c773f0bf"
   },
   "outputs": [
    {
     "name": "stdout",
     "output_type": "stream",
     "text": [
      "Duplicados encontrados: 104\n"
     ]
    },
    {
     "data": {
      "text/html": [
       "<div>\n",
       "<style scoped>\n",
       "    .dataframe tbody tr th:only-of-type {\n",
       "        vertical-align: middle;\n",
       "    }\n",
       "\n",
       "    .dataframe tbody tr th {\n",
       "        vertical-align: top;\n",
       "    }\n",
       "\n",
       "    .dataframe thead th {\n",
       "        text-align: right;\n",
       "    }\n",
       "</style>\n",
       "<table border=\"1\" class=\"dataframe\">\n",
       "  <thead>\n",
       "    <tr style=\"text-align: right;\">\n",
       "      <th></th>\n",
       "      <th>product_id</th>\n",
       "      <th>product_name</th>\n",
       "      <th>aisle_id</th>\n",
       "      <th>department_id</th>\n",
       "    </tr>\n",
       "  </thead>\n",
       "  <tbody>\n",
       "    <tr>\n",
       "      <th>24293</th>\n",
       "      <td>24294</td>\n",
       "      <td>Solid White Albacore Tuna in Water</td>\n",
       "      <td>95</td>\n",
       "      <td>15</td>\n",
       "    </tr>\n",
       "    <tr>\n",
       "      <th>14961</th>\n",
       "      <td>14962</td>\n",
       "      <td>Hearts of Palm</td>\n",
       "      <td>81</td>\n",
       "      <td>15</td>\n",
       "    </tr>\n",
       "    <tr>\n",
       "      <th>43775</th>\n",
       "      <td>43776</td>\n",
       "      <td>Protein Plus Vanilla Bean Protein Shake</td>\n",
       "      <td>31</td>\n",
       "      <td>7</td>\n",
       "    </tr>\n",
       "    <tr>\n",
       "      <th>45230</th>\n",
       "      <td>45231</td>\n",
       "      <td>Bag Of Oranges</td>\n",
       "      <td>24</td>\n",
       "      <td>4</td>\n",
       "    </tr>\n",
       "    <tr>\n",
       "      <th>19042</th>\n",
       "      <td>19043</td>\n",
       "      <td>Fresh Scent Dishwasher Detergent With Dawn</td>\n",
       "      <td>74</td>\n",
       "      <td>17</td>\n",
       "    </tr>\n",
       "    <tr>\n",
       "      <th>26166</th>\n",
       "      <td>26167</td>\n",
       "      <td>UltraGel Personal Lubricant</td>\n",
       "      <td>6</td>\n",
       "      <td>2</td>\n",
       "    </tr>\n",
       "    <tr>\n",
       "      <th>40093</th>\n",
       "      <td>40094</td>\n",
       "      <td>Wild Sardines In Spring Water</td>\n",
       "      <td>95</td>\n",
       "      <td>15</td>\n",
       "    </tr>\n",
       "    <tr>\n",
       "      <th>37634</th>\n",
       "      <td>37635</td>\n",
       "      <td>Chili with Beans</td>\n",
       "      <td>59</td>\n",
       "      <td>15</td>\n",
       "    </tr>\n",
       "    <tr>\n",
       "      <th>35977</th>\n",
       "      <td>35978</td>\n",
       "      <td>Mozzarella Sticks with Marinara Sauce</td>\n",
       "      <td>129</td>\n",
       "      <td>1</td>\n",
       "    </tr>\n",
       "    <tr>\n",
       "      <th>49688</th>\n",
       "      <td>49689</td>\n",
       "      <td>FLUFFLY VANILLA MARSHMALLOW FROSTING</td>\n",
       "      <td>97</td>\n",
       "      <td>13</td>\n",
       "    </tr>\n",
       "  </tbody>\n",
       "</table>\n",
       "</div>"
      ],
      "text/plain": [
       "       product_id                                product_name  aisle_id  \\\n",
       "24293       24294          Solid White Albacore Tuna in Water        95   \n",
       "14961       14962                              Hearts of Palm        81   \n",
       "43775       43776     Protein Plus Vanilla Bean Protein Shake        31   \n",
       "45230       45231                              Bag Of Oranges        24   \n",
       "19042       19043  Fresh Scent Dishwasher Detergent With Dawn        74   \n",
       "26166       26167                 UltraGel Personal Lubricant         6   \n",
       "40093       40094               Wild Sardines In Spring Water        95   \n",
       "37634       37635                            Chili with Beans        59   \n",
       "35977       35978       Mozzarella Sticks with Marinara Sauce       129   \n",
       "49688       49689        FLUFFLY VANILLA MARSHMALLOW FROSTING        97   \n",
       "\n",
       "       department_id  \n",
       "24293             15  \n",
       "14961             15  \n",
       "43775              7  \n",
       "45230              4  \n",
       "19042             17  \n",
       "26166              2  \n",
       "40093             15  \n",
       "37634             15  \n",
       "35977              1  \n",
       "49688             13  "
      ]
     },
     "execution_count": 15,
     "metadata": {},
     "output_type": "execute_result"
    }
   ],
   "source": [
    "# Revisa únicamente si hay nombres duplicados de productos (convierte los nombres a letras mayúsculas para compararlos mejor)\n",
    "# Creamos el filtro para mostrar solo los nombres duplicados ignorando los valores NaN\n",
    "mask = ( df_products[ 'product_name' ].str.upper().duplicated() ) & ( ~df_products[ 'product_name' ].isna() )\n",
    "# Ahora aplicamos el filtro y contamos el total de duplicados\n",
    "duplicates = df_products[ mask ][ 'product_id' ].count()\n",
    "\n",
    "print( f'Duplicados encontrados: {duplicates}' )\n",
    "\n",
    "#Mostramos algunos de los duplicados en pantalla\n",
    "df_products[ mask ].sample( 10 )"
   ]
  },
  {
   "cell_type": "markdown",
   "id": "01f55b41",
   "metadata": {},
   "source": [
    "Una ves que encontramos todos los nombres duplicados podriamos simplemente borrarlos y continuar, pero debido a que la columna `product_id` es referenciada en el DataFrame `df_order_products` primero deberiamos asegurarnos de que los IDs de los duplicados que vamos a borrar no estén asociados a ninguna linea en dicho DataFrame, de ser así deben corregirse."
   ]
  },
  {
   "cell_type": "code",
   "execution_count": 16,
   "id": "50079b5d",
   "metadata": {},
   "outputs": [
    {
     "data": {
      "text/plain": [
       "0"
      ]
     },
     "execution_count": 16,
     "metadata": {},
     "output_type": "execute_result"
    }
   ],
   "source": [
    "#Comprobar si los IDs de los productos que serán eliminados están asociados a alguna linea en 'df_order_products'\n",
    "#Comprobaremos esto con la ayuda de .isin()\n",
    "#La variable 'mask' contiene el filtro que se declaró en la celda anterior\n",
    "df_products[ mask ]['product_id'].isin( df_order_products ).sum()\n"
   ]
  },
  {
   "cell_type": "code",
   "execution_count": 17,
   "id": "505bac0b",
   "metadata": {},
   "outputs": [],
   "source": [
    "# Eliminar lineas duplicadas.\n",
    "#Ahora que estamos seguros que eliminar las lineas duplicadas no afectará a otros DataFrames podemos proceder.\n",
    "#Esta vez no usaremos ningún método, ya que anteriormente habíamos creado un filtro para mostrar todas las lineas que queriamos eliminar\n",
    "#Solo hace falta negar el resultado de ese mismo filtro para traer solo las lineas que nos interesa conservar\n",
    "df_products = df_products[ ~mask ]\n",
    "# Ahora solo aplicamos reset a los indices y listo\n",
    "df_products.reset_index( drop = True, inplace = True )\n"
   ]
  },
  {
   "cell_type": "code",
   "execution_count": 18,
   "id": "01efd02e",
   "metadata": {
    "id": "01efd02e"
   },
   "outputs": [
    {
     "name": "stdout",
     "output_type": "stream",
     "text": [
      "Duplicados encontrados: 0\n"
     ]
    }
   ],
   "source": [
    "# Revisa si hay nombres duplicados de productos no faltantes\n",
    "# Para comprobar si los duplicados fueron eliminados repetiremos el mismo proceso de antes\n",
    "\n",
    "# Creamos el filtro para mostrar solo los nombres duplicados ignorando los valores NaN\n",
    "mask = ( df_products[ 'product_name' ].str.upper().duplicated() ) & ( ~df_products[ 'product_name' ].isna() )\n",
    "# Ahora aplicamos el filtro y contamos el total de duplicados\n",
    "duplicates = df_products[ mask ][ 'product_id' ].count()\n",
    "\n",
    "print( f'Duplicados encontrados: {duplicates}' )\n"
   ]
  },
  {
   "cell_type": "markdown",
   "id": "9da8d293",
   "metadata": {
    "id": "9da8d293"
   },
   "source": [
    "Encontrar duplicados fue un poco más complejo para este data frame pero aplicando tecnicas básicas pude darme cuenta que algunos nombres estaban repetidos solo que se encontraban escritos en mayusculas, una vez encontrados solo tuve que verificar que eliminar estos duplicados no fuera a afectar a otros data frames y los eliminé"
   ]
  },
  {
   "cell_type": "markdown",
   "id": "60f30db1",
   "metadata": {
    "id": "60f30db1"
   },
   "source": [
    "### `departments` data frame"
   ]
  },
  {
   "cell_type": "code",
   "execution_count": 19,
   "id": "fb410ad4-0fbf-4b80-bb09-23fdea79afe3",
   "metadata": {
    "id": "fb410ad4-0fbf-4b80-bb09-23fdea79afe3"
   },
   "outputs": [
    {
     "name": "stdout",
     "output_type": "stream",
     "text": [
      "Duplicados encontrados: 0\n"
     ]
    }
   ],
   "source": [
    "# Revisa si hay filas totalmente duplicadas\n",
    "\n",
    "duplicates = df_departments.duplicated().sum()\n",
    "\n",
    "print( f'Duplicados encontrados: {duplicates}' )"
   ]
  },
  {
   "cell_type": "code",
   "execution_count": 20,
   "id": "332b12bb",
   "metadata": {
    "id": "332b12bb"
   },
   "outputs": [
    {
     "name": "stdout",
     "output_type": "stream",
     "text": [
      "Duplicados encontrados: 0\n"
     ]
    }
   ],
   "source": [
    "# Revisa únicamente si hay IDs duplicadas de departamentos\n",
    "duplicates = df_departments['department_id'].duplicated().sum()\n",
    "\n",
    "print( f'Duplicados encontrados: {duplicates}' )"
   ]
  },
  {
   "cell_type": "markdown",
   "id": "bd30d78e",
   "metadata": {
    "id": "bd30d78e"
   },
   "source": [
    "Para este DataFrame no se encontraron duplicados en ninguna columna"
   ]
  },
  {
   "cell_type": "markdown",
   "id": "889349c1",
   "metadata": {
    "id": "889349c1"
   },
   "source": [
    "### `aisles` data frame"
   ]
  },
  {
   "cell_type": "code",
   "execution_count": 21,
   "id": "9da89fb9-4679-40f5-ad0d-c34df753a3f8",
   "metadata": {
    "id": "9da89fb9-4679-40f5-ad0d-c34df753a3f8"
   },
   "outputs": [
    {
     "name": "stdout",
     "output_type": "stream",
     "text": [
      "Duplicados encontrados: 0\n"
     ]
    }
   ],
   "source": [
    "# Revisa si hay filas totalmente duplicadas\n",
    "duplicates = df_aisles.duplicated().sum()\n",
    "\n",
    "print( f'Duplicados encontrados: {duplicates}' )"
   ]
  },
  {
   "cell_type": "code",
   "execution_count": 22,
   "id": "da7c2822",
   "metadata": {
    "id": "da7c2822"
   },
   "outputs": [
    {
     "name": "stdout",
     "output_type": "stream",
     "text": [
      "Duplicados encontrados: 0\n"
     ]
    }
   ],
   "source": [
    "# Revisa únicamente si hay IDs duplicadas de aisles\n",
    "duplicates = df_aisles['aisle_id'].duplicated().sum()\n",
    "\n",
    "print( f'Duplicados encontrados: {duplicates}' )"
   ]
  },
  {
   "cell_type": "markdown",
   "id": "ac63826f",
   "metadata": {
    "id": "ac63826f"
   },
   "source": [
    "Para este DataFrame no se encontraron duplicados en ninguna columna "
   ]
  },
  {
   "cell_type": "markdown",
   "id": "274cd06a",
   "metadata": {
    "id": "274cd06a"
   },
   "source": [
    "### `order_products` data frame"
   ]
  },
  {
   "cell_type": "code",
   "execution_count": 23,
   "id": "52326689-84a8-4b8f-a881-7c68780f62c9",
   "metadata": {
    "id": "52326689-84a8-4b8f-a881-7c68780f62c9"
   },
   "outputs": [
    {
     "name": "stdout",
     "output_type": "stream",
     "text": [
      "Duplicados encontrados: 0\n"
     ]
    }
   ],
   "source": [
    "# Revisa si hay filas totalmente duplicadas\n",
    "duplicates = df_order_products.duplicated().sum()\n",
    "\n",
    "print( f'Duplicados encontrados: {duplicates}' )\n"
   ]
  },
  {
   "cell_type": "code",
   "execution_count": 24,
   "id": "7b861391",
   "metadata": {
    "id": "7b861391"
   },
   "outputs": [
    {
     "name": "stdout",
     "output_type": "stream",
     "text": [
      "Duplicados en order_id: 4094961\n",
      "Duplicados en product_id: 4499434\n"
     ]
    }
   ],
   "source": [
    "# Vuelve a verificar si hay cualquier otro duplicado engañoso\n",
    "duplicates = df_order_products[ 'order_id' ].duplicated().sum()\n",
    "print( f'Duplicados en order_id: {duplicates}' )\n",
    "\n",
    "duplicates = df_order_products[ 'product_id' ].duplicated().sum()\n",
    "print( f'Duplicados en product_id: {duplicates}' )\n"
   ]
  },
  {
   "cell_type": "markdown",
   "id": "0b890492",
   "metadata": {
    "id": "0b890492"
   },
   "source": [
    "En este DataFrame se encontraron una gran cantidad de datos duplicados, pero esto se debe a que varias de sus columnas almacenan datos categoricos, es la razón por la que se repiten tanto"
   ]
  },
  {
   "cell_type": "markdown",
   "id": "1e46de76",
   "metadata": {
    "id": "1e46de76"
   },
   "source": [
    "## Encuentra y elimina los valores ausentes\n",
    "\n",
    "Al trabajar con valores duplicados, pudimos observar que también nos falta investigar valores ausentes:\n",
    "\n",
    "* La columna `'product_name'` de la tabla products.\n",
    "* La columna `'days_since_prior_order'` de la tabla orders.\n",
    "* La columna `'add_to_cart_order'` de la tabla order_productos."
   ]
  },
  {
   "cell_type": "markdown",
   "id": "c0aebd78",
   "metadata": {
    "id": "c0aebd78"
   },
   "source": [
    "### `products` data frame"
   ]
  },
  {
   "cell_type": "code",
   "execution_count": 25,
   "id": "fe4a8b0f",
   "metadata": {
    "id": "fe4a8b0f"
   },
   "outputs": [
    {
     "data": {
      "text/html": [
       "<div>\n",
       "<style scoped>\n",
       "    .dataframe tbody tr th:only-of-type {\n",
       "        vertical-align: middle;\n",
       "    }\n",
       "\n",
       "    .dataframe tbody tr th {\n",
       "        vertical-align: top;\n",
       "    }\n",
       "\n",
       "    .dataframe thead th {\n",
       "        text-align: right;\n",
       "    }\n",
       "</style>\n",
       "<table border=\"1\" class=\"dataframe\">\n",
       "  <thead>\n",
       "    <tr style=\"text-align: right;\">\n",
       "      <th></th>\n",
       "      <th>product_id</th>\n",
       "      <th>product_name</th>\n",
       "      <th>aisle_id</th>\n",
       "      <th>department_id</th>\n",
       "    </tr>\n",
       "  </thead>\n",
       "  <tbody>\n",
       "    <tr>\n",
       "      <th>37</th>\n",
       "      <td>38</td>\n",
       "      <td>NaN</td>\n",
       "      <td>100</td>\n",
       "      <td>21</td>\n",
       "    </tr>\n",
       "    <tr>\n",
       "      <th>71</th>\n",
       "      <td>72</td>\n",
       "      <td>NaN</td>\n",
       "      <td>100</td>\n",
       "      <td>21</td>\n",
       "    </tr>\n",
       "    <tr>\n",
       "      <th>109</th>\n",
       "      <td>110</td>\n",
       "      <td>NaN</td>\n",
       "      <td>100</td>\n",
       "      <td>21</td>\n",
       "    </tr>\n",
       "    <tr>\n",
       "      <th>296</th>\n",
       "      <td>297</td>\n",
       "      <td>NaN</td>\n",
       "      <td>100</td>\n",
       "      <td>21</td>\n",
       "    </tr>\n",
       "    <tr>\n",
       "      <th>416</th>\n",
       "      <td>417</td>\n",
       "      <td>NaN</td>\n",
       "      <td>100</td>\n",
       "      <td>21</td>\n",
       "    </tr>\n",
       "    <tr>\n",
       "      <th>...</th>\n",
       "      <td>...</td>\n",
       "      <td>...</td>\n",
       "      <td>...</td>\n",
       "      <td>...</td>\n",
       "    </tr>\n",
       "    <tr>\n",
       "      <th>49454</th>\n",
       "      <td>49553</td>\n",
       "      <td>NaN</td>\n",
       "      <td>100</td>\n",
       "      <td>21</td>\n",
       "    </tr>\n",
       "    <tr>\n",
       "      <th>49476</th>\n",
       "      <td>49575</td>\n",
       "      <td>NaN</td>\n",
       "      <td>100</td>\n",
       "      <td>21</td>\n",
       "    </tr>\n",
       "    <tr>\n",
       "      <th>49542</th>\n",
       "      <td>49641</td>\n",
       "      <td>NaN</td>\n",
       "      <td>100</td>\n",
       "      <td>21</td>\n",
       "    </tr>\n",
       "    <tr>\n",
       "      <th>49565</th>\n",
       "      <td>49664</td>\n",
       "      <td>NaN</td>\n",
       "      <td>100</td>\n",
       "      <td>21</td>\n",
       "    </tr>\n",
       "    <tr>\n",
       "      <th>49570</th>\n",
       "      <td>49669</td>\n",
       "      <td>NaN</td>\n",
       "      <td>100</td>\n",
       "      <td>21</td>\n",
       "    </tr>\n",
       "  </tbody>\n",
       "</table>\n",
       "<p>1258 rows × 4 columns</p>\n",
       "</div>"
      ],
      "text/plain": [
       "       product_id product_name  aisle_id  department_id\n",
       "37             38          NaN       100             21\n",
       "71             72          NaN       100             21\n",
       "109           110          NaN       100             21\n",
       "296           297          NaN       100             21\n",
       "416           417          NaN       100             21\n",
       "...           ...          ...       ...            ...\n",
       "49454       49553          NaN       100             21\n",
       "49476       49575          NaN       100             21\n",
       "49542       49641          NaN       100             21\n",
       "49565       49664          NaN       100             21\n",
       "49570       49669          NaN       100             21\n",
       "\n",
       "[1258 rows x 4 columns]"
      ]
     },
     "execution_count": 25,
     "metadata": {},
     "output_type": "execute_result"
    }
   ],
   "source": [
    "# Encuentra los valores ausentes en la columna 'product_name'\n",
    "df_products[ df_products[ 'product_name' ].isna() ]"
   ]
  },
  {
   "cell_type": "markdown",
   "id": "-A6x1AbJhjkp",
   "metadata": {
    "id": "-A6x1AbJhjkp"
   },
   "source": [
    "Logré encontrar una gran cantidad de datos ausentes y al parecer una gran cantidad de ellos tienen un `aisle_id = 100`  y\n",
    "`department_id = 21`, habrá que explorar un poco más a fondo para comprobar si los 1258 registros ausentes tienen este rasgo en común o son solo una gran catidad de ellos"
   ]
  },
  {
   "cell_type": "code",
   "execution_count": 26,
   "id": "e96167bc",
   "metadata": {
    "id": "e96167bc"
   },
   "outputs": [
    {
     "name": "stdout",
     "output_type": "stream",
     "text": [
      "El total de los registros ausentes que pertenecen al \"isle_id = 100\" son: 1258\n"
     ]
    }
   ],
   "source": [
    "#  ¿Todos los nombres de productos ausentes están relacionados con el pasillo con ID 100?\n",
    "total = df_products[ ( df_products[ 'product_name' ].isna() ) & ( df_products[ 'aisle_id' ] == 100 ) ][ 'product_id' ].count()\n",
    "\n",
    "print( f'El total de los registros ausentes que pertenecen al \"isle_id = 100\" son: {total}' )"
   ]
  },
  {
   "cell_type": "markdown",
   "id": "WRpIfXRphpSL",
   "metadata": {
    "id": "WRpIfXRphpSL"
   },
   "source": [
    "Después de aplicar un filtro más elaborado puedo confirmar que todos los datos ausentes tienen en común la pertenencia a  `aisle_id = 100`"
   ]
  },
  {
   "cell_type": "code",
   "execution_count": 27,
   "id": "8fd0a541",
   "metadata": {
    "id": "8fd0a541"
   },
   "outputs": [
    {
     "name": "stdout",
     "output_type": "stream",
     "text": [
      "El total de los registros ausentes que pertenecen al \"department_id = 21\" son: 1258\n"
     ]
    }
   ],
   "source": [
    "# ¿Todos los nombres de productos ausentes están relacionados con el departamento con ID 21?\n",
    "total = df_products[ ( df_products[ 'product_name' ].isna() ) & ( df_products[ 'department_id' ] == 21 ) ][ 'product_id' ].count()\n",
    "\n",
    "print( f'El total de los registros ausentes que pertenecen al \"department_id = 21\" son: {total}' )"
   ]
  },
  {
   "cell_type": "markdown",
   "id": "qDpdYn1Fht_I",
   "metadata": {
    "id": "qDpdYn1Fht_I"
   },
   "source": [
    "Confirmo que efectivamente todos los datos ausentes también pertenencen al `department_id = 21`"
   ]
  },
  {
   "cell_type": "code",
   "execution_count": 28,
   "id": "325c3464",
   "metadata": {
    "id": "325c3464"
   },
   "outputs": [
    {
     "name": "stdout",
     "output_type": "stream",
     "text": [
      "    aisle_id    aisle\n",
      "99       100  missing\n",
      "\n",
      "    department_id department\n",
      "20             21    missing\n"
     ]
    }
   ],
   "source": [
    "# Usa las tablas department y aisle para revisar los datos del pasillo con ID 100 y el departamento con ID 21.\n",
    "print(df_aisles[ df_aisles[ 'aisle_id' ] == 100 ])\n",
    "print()\n",
    "print(df_departments[ df_departments[ 'department_id' ] == 21 ])\n"
   ]
  },
  {
   "cell_type": "markdown",
   "id": "nqhSTUPhhvEJ",
   "metadata": {
    "id": "nqhSTUPhhvEJ"
   },
   "source": [
    "Tras investigar un poco me percaté de que tanto `department_id = 21` y `aisle_id = 100` tienen el nombre `missing`"
   ]
  },
  {
   "cell_type": "code",
   "execution_count": 29,
   "id": "6b295120",
   "metadata": {
    "id": "6b295120"
   },
   "outputs": [
    {
     "data": {
      "text/html": [
       "<div>\n",
       "<style scoped>\n",
       "    .dataframe tbody tr th:only-of-type {\n",
       "        vertical-align: middle;\n",
       "    }\n",
       "\n",
       "    .dataframe tbody tr th {\n",
       "        vertical-align: top;\n",
       "    }\n",
       "\n",
       "    .dataframe thead th {\n",
       "        text-align: right;\n",
       "    }\n",
       "</style>\n",
       "<table border=\"1\" class=\"dataframe\">\n",
       "  <thead>\n",
       "    <tr style=\"text-align: right;\">\n",
       "      <th></th>\n",
       "      <th>product_id</th>\n",
       "      <th>product_name</th>\n",
       "      <th>aisle_id</th>\n",
       "      <th>department_id</th>\n",
       "    </tr>\n",
       "  </thead>\n",
       "  <tbody>\n",
       "  </tbody>\n",
       "</table>\n",
       "</div>"
      ],
      "text/plain": [
       "Empty DataFrame\n",
       "Columns: [product_id, product_name, aisle_id, department_id]\n",
       "Index: []"
      ]
     },
     "execution_count": 29,
     "metadata": {},
     "output_type": "execute_result"
    }
   ],
   "source": [
    "# Completa los nombres de productos ausentes con 'Unknown'\n",
    "df_products = df_products.fillna( 'Unknown' )\n",
    "\n",
    "#comprobamos que ya no hay valores ausentes\n",
    "df_products[ df_products[ 'product_name' ].isna() ]"
   ]
  },
  {
   "cell_type": "markdown",
   "id": "fc70e5ad",
   "metadata": {
    "id": "fc70e5ad"
   },
   "source": [
    "Los datos ausentes han sido reemplazados por 'Unknown'"
   ]
  },
  {
   "cell_type": "markdown",
   "id": "7eb45c86",
   "metadata": {
    "id": "7eb45c86"
   },
   "source": [
    "### `orders` data frame"
   ]
  },
  {
   "cell_type": "code",
   "execution_count": 30,
   "id": "93e41d96",
   "metadata": {
    "id": "93e41d96"
   },
   "outputs": [
    {
     "name": "stdout",
     "output_type": "stream",
     "text": [
      "El total de valores ausentes es de: 28817\n"
     ]
    },
    {
     "data": {
      "text/html": [
       "<div>\n",
       "<style scoped>\n",
       "    .dataframe tbody tr th:only-of-type {\n",
       "        vertical-align: middle;\n",
       "    }\n",
       "\n",
       "    .dataframe tbody tr th {\n",
       "        vertical-align: top;\n",
       "    }\n",
       "\n",
       "    .dataframe thead th {\n",
       "        text-align: right;\n",
       "    }\n",
       "</style>\n",
       "<table border=\"1\" class=\"dataframe\">\n",
       "  <thead>\n",
       "    <tr style=\"text-align: right;\">\n",
       "      <th></th>\n",
       "      <th>order_id</th>\n",
       "      <th>user_id</th>\n",
       "      <th>order_number</th>\n",
       "      <th>order_dow</th>\n",
       "      <th>order_hour_of_day</th>\n",
       "      <th>days_since_prior_order</th>\n",
       "    </tr>\n",
       "  </thead>\n",
       "  <tbody>\n",
       "    <tr>\n",
       "      <th>205553</th>\n",
       "      <td>1313328</td>\n",
       "      <td>189005</td>\n",
       "      <td>1</td>\n",
       "      <td>6</td>\n",
       "      <td>14</td>\n",
       "      <td>NaN</td>\n",
       "    </tr>\n",
       "    <tr>\n",
       "      <th>448682</th>\n",
       "      <td>860106</td>\n",
       "      <td>62974</td>\n",
       "      <td>1</td>\n",
       "      <td>1</td>\n",
       "      <td>10</td>\n",
       "      <td>NaN</td>\n",
       "    </tr>\n",
       "    <tr>\n",
       "      <th>440725</th>\n",
       "      <td>3338486</td>\n",
       "      <td>158442</td>\n",
       "      <td>1</td>\n",
       "      <td>0</td>\n",
       "      <td>10</td>\n",
       "      <td>NaN</td>\n",
       "    </tr>\n",
       "    <tr>\n",
       "      <th>331458</th>\n",
       "      <td>89469</td>\n",
       "      <td>93540</td>\n",
       "      <td>1</td>\n",
       "      <td>2</td>\n",
       "      <td>14</td>\n",
       "      <td>NaN</td>\n",
       "    </tr>\n",
       "    <tr>\n",
       "      <th>99078</th>\n",
       "      <td>2862977</td>\n",
       "      <td>146306</td>\n",
       "      <td>1</td>\n",
       "      <td>2</td>\n",
       "      <td>7</td>\n",
       "      <td>NaN</td>\n",
       "    </tr>\n",
       "  </tbody>\n",
       "</table>\n",
       "</div>"
      ],
      "text/plain": [
       "        order_id  user_id  order_number  order_dow  order_hour_of_day  \\\n",
       "205553   1313328   189005             1          6                 14   \n",
       "448682    860106    62974             1          1                 10   \n",
       "440725   3338486   158442             1          0                 10   \n",
       "331458     89469    93540             1          2                 14   \n",
       "99078    2862977   146306             1          2                  7   \n",
       "\n",
       "        days_since_prior_order  \n",
       "205553                     NaN  \n",
       "448682                     NaN  \n",
       "440725                     NaN  \n",
       "331458                     NaN  \n",
       "99078                      NaN  "
      ]
     },
     "execution_count": 30,
     "metadata": {},
     "output_type": "execute_result"
    }
   ],
   "source": [
    "# Encuentra los valores ausentes\n",
    "total = df_instacart_orders[ 'days_since_prior_order' ].isna().sum()\n",
    "print( f'El total de valores ausentes es de: { total }' )\n",
    "# Mostraremos algunas lineas con valores ausentes\n",
    "df_instacart_orders[ df_instacart_orders[ 'days_since_prior_order' ].isna() ].sample( 5 )"
   ]
  },
  {
   "cell_type": "code",
   "execution_count": 31,
   "id": "166e5a86",
   "metadata": {
    "id": "166e5a86"
   },
   "outputs": [
    {
     "name": "stdout",
     "output_type": "stream",
     "text": [
      "El total de valores ausentes que no corresponden a una celda con \"order_number = 0 es de\": 0\n"
     ]
    },
    {
     "data": {
      "text/html": [
       "<div>\n",
       "<style scoped>\n",
       "    .dataframe tbody tr th:only-of-type {\n",
       "        vertical-align: middle;\n",
       "    }\n",
       "\n",
       "    .dataframe tbody tr th {\n",
       "        vertical-align: top;\n",
       "    }\n",
       "\n",
       "    .dataframe thead th {\n",
       "        text-align: right;\n",
       "    }\n",
       "</style>\n",
       "<table border=\"1\" class=\"dataframe\">\n",
       "  <thead>\n",
       "    <tr style=\"text-align: right;\">\n",
       "      <th></th>\n",
       "      <th>order_id</th>\n",
       "      <th>user_id</th>\n",
       "      <th>order_number</th>\n",
       "      <th>order_dow</th>\n",
       "      <th>order_hour_of_day</th>\n",
       "      <th>days_since_prior_order</th>\n",
       "    </tr>\n",
       "  </thead>\n",
       "  <tbody>\n",
       "  </tbody>\n",
       "</table>\n",
       "</div>"
      ],
      "text/plain": [
       "Empty DataFrame\n",
       "Columns: [order_id, user_id, order_number, order_dow, order_hour_of_day, days_since_prior_order]\n",
       "Index: []"
      ]
     },
     "execution_count": 31,
     "metadata": {},
     "output_type": "execute_result"
    }
   ],
   "source": [
    "# ¿Hay algún valor ausente que no sea el primer pedido del cliente?\n",
    "\n",
    "mask = df_instacart_orders[ 'days_since_prior_order' ].isna() & ( df_instacart_orders[ 'order_number' ] != 1 )\n",
    "\n",
    "total = df_instacart_orders[ mask ][ 'user_id' ].count()\n",
    "\n",
    "print( f'El total de valores ausentes que no corresponden a una celda con \"order_number = 0 es de\": { total }' )\n",
    "\n",
    "# Imprimimos el DataFrame para poder observar que está vacío.\n",
    "df_instacart_orders[ mask ]\n"
   ]
  },
  {
   "cell_type": "code",
   "execution_count": 32,
   "id": "e0df07f4",
   "metadata": {},
   "outputs": [
    {
     "data": {
      "text/html": [
       "<div>\n",
       "<style scoped>\n",
       "    .dataframe tbody tr th:only-of-type {\n",
       "        vertical-align: middle;\n",
       "    }\n",
       "\n",
       "    .dataframe tbody tr th {\n",
       "        vertical-align: top;\n",
       "    }\n",
       "\n",
       "    .dataframe thead th {\n",
       "        text-align: right;\n",
       "    }\n",
       "</style>\n",
       "<table border=\"1\" class=\"dataframe\">\n",
       "  <thead>\n",
       "    <tr style=\"text-align: right;\">\n",
       "      <th></th>\n",
       "      <th>order_id</th>\n",
       "      <th>user_id</th>\n",
       "      <th>order_number</th>\n",
       "      <th>order_dow</th>\n",
       "      <th>order_hour_of_day</th>\n",
       "      <th>days_since_prior_order</th>\n",
       "    </tr>\n",
       "  </thead>\n",
       "  <tbody>\n",
       "  </tbody>\n",
       "</table>\n",
       "</div>"
      ],
      "text/plain": [
       "Empty DataFrame\n",
       "Columns: [order_id, user_id, order_number, order_dow, order_hour_of_day, days_since_prior_order]\n",
       "Index: []"
      ]
     },
     "execution_count": 32,
     "metadata": {},
     "output_type": "execute_result"
    }
   ],
   "source": [
    "# Solución a los valores ausentes\n",
    "# Calcular la mediana de los datos\n",
    "median = df_instacart_orders[ 'days_since_prior_order' ].median()\n",
    "\n",
    "# Completa los nombres de productos ausentes con la mediana de los datos\n",
    "df_instacart_orders = df_instacart_orders.fillna( median )\n",
    "\n",
    "#comprobamos que ya no hay valores ausentes\n",
    "df_instacart_orders[ df_instacart_orders[ 'days_since_prior_order' ].isna() ]"
   ]
  },
  {
   "cell_type": "code",
   "execution_count": 33,
   "id": "3cc93a33",
   "metadata": {},
   "outputs": [
    {
     "name": "stdout",
     "output_type": "stream",
     "text": [
      "<class 'pandas.core.frame.DataFrame'>\n",
      "RangeIndex: 478952 entries, 0 to 478951\n",
      "Data columns (total 6 columns):\n",
      " #   Column                  Non-Null Count   Dtype\n",
      "---  ------                  --------------   -----\n",
      " 0   order_id                478952 non-null  int64\n",
      " 1   user_id                 478952 non-null  int64\n",
      " 2   order_number            478952 non-null  int64\n",
      " 3   order_dow               478952 non-null  int64\n",
      " 4   order_hour_of_day       478952 non-null  int64\n",
      " 5   days_since_prior_order  478952 non-null  int64\n",
      "dtypes: int64(6)\n",
      "memory usage: 21.9 MB\n"
     ]
    }
   ],
   "source": [
    "#Arreglar el tipo de dato de la columna 'days_since_prior_order'\n",
    "\n",
    "df_instacart_orders[ 'days_since_prior_order' ] = df_instacart_orders[ 'days_since_prior_order' ].astype( 'int' )\n",
    "\n",
    "df_instacart_orders.info()"
   ]
  },
  {
   "cell_type": "markdown",
   "id": "4e23d089",
   "metadata": {
    "id": "4e23d089"
   },
   "source": [
    "Solo se encotraron datos ausentes en la columna `days_since_prior_order`, cabe destacar que solo los pedidos que habían sido realizados por primera vez tenían este problema, ya que no se sabe hace cuanto fueron realizados estos pedidos la solución más sencilla es sutituir los valores ausentes por la mediana de todo el conjunto de datos. Otro cambio que se realizó fue corregir el tipado en la columna `days_since_prior_order` de tipo `float` a tipo `int`"
   ]
  },
  {
   "cell_type": "markdown",
   "id": "69dc9ca4",
   "metadata": {
    "id": "69dc9ca4"
   },
   "source": [
    "### `order_products` data frame"
   ]
  },
  {
   "cell_type": "code",
   "execution_count": 34,
   "id": "b8240253",
   "metadata": {
    "id": "b8240253"
   },
   "outputs": [
    {
     "name": "stdout",
     "output_type": "stream",
     "text": [
      "El total de valores ausentes es de: 836\n"
     ]
    },
    {
     "data": {
      "text/html": [
       "<div>\n",
       "<style scoped>\n",
       "    .dataframe tbody tr th:only-of-type {\n",
       "        vertical-align: middle;\n",
       "    }\n",
       "\n",
       "    .dataframe tbody tr th {\n",
       "        vertical-align: top;\n",
       "    }\n",
       "\n",
       "    .dataframe thead th {\n",
       "        text-align: right;\n",
       "    }\n",
       "</style>\n",
       "<table border=\"1\" class=\"dataframe\">\n",
       "  <thead>\n",
       "    <tr style=\"text-align: right;\">\n",
       "      <th></th>\n",
       "      <th>order_id</th>\n",
       "      <th>product_id</th>\n",
       "      <th>add_to_cart_order</th>\n",
       "      <th>reordered</th>\n",
       "    </tr>\n",
       "  </thead>\n",
       "  <tbody>\n",
       "    <tr>\n",
       "      <th>2554960</th>\n",
       "      <td>2136777</td>\n",
       "      <td>35227</td>\n",
       "      <td>NaN</td>\n",
       "      <td>0</td>\n",
       "    </tr>\n",
       "    <tr>\n",
       "      <th>2104742</th>\n",
       "      <td>1730767</td>\n",
       "      <td>41065</td>\n",
       "      <td>NaN</td>\n",
       "      <td>0</td>\n",
       "    </tr>\n",
       "    <tr>\n",
       "      <th>1440596</th>\n",
       "      <td>3125735</td>\n",
       "      <td>5547</td>\n",
       "      <td>NaN</td>\n",
       "      <td>1</td>\n",
       "    </tr>\n",
       "    <tr>\n",
       "      <th>3424318</th>\n",
       "      <td>1800005</td>\n",
       "      <td>46900</td>\n",
       "      <td>NaN</td>\n",
       "      <td>0</td>\n",
       "    </tr>\n",
       "    <tr>\n",
       "      <th>572431</th>\n",
       "      <td>171934</td>\n",
       "      <td>7916</td>\n",
       "      <td>NaN</td>\n",
       "      <td>0</td>\n",
       "    </tr>\n",
       "  </tbody>\n",
       "</table>\n",
       "</div>"
      ],
      "text/plain": [
       "         order_id  product_id  add_to_cart_order  reordered\n",
       "2554960   2136777       35227                NaN          0\n",
       "2104742   1730767       41065                NaN          0\n",
       "1440596   3125735        5547                NaN          1\n",
       "3424318   1800005       46900                NaN          0\n",
       "572431     171934        7916                NaN          0"
      ]
     },
     "execution_count": 34,
     "metadata": {},
     "output_type": "execute_result"
    }
   ],
   "source": [
    "# Encuentra los valores ausentes\n",
    "total = df_order_products[ 'add_to_cart_order' ].isna().sum()\n",
    "\n",
    "print( f'El total de valores ausentes es de: { total }' )\n",
    "\n",
    "# Mostraremos algunas lineas con valores ausentes\n",
    "df_order_products[ df_order_products[ 'add_to_cart_order' ].isna() ].sample( 5 )"
   ]
  },
  {
   "cell_type": "code",
   "execution_count": 35,
   "id": "9a78e5ee",
   "metadata": {
    "id": "9a78e5ee"
   },
   "outputs": [
    {
     "name": "stdout",
     "output_type": "stream",
     "text": [
      "El valor máximo de \"add_to_cart_order\" es: 64.0\n",
      "El valor máximo de \"add_to_cart_order\" es: 1.0\n"
     ]
    }
   ],
   "source": [
    "# ¿Cuáles son los valores mínimos y máximos en esta columna?\n",
    "\n",
    "max_value = df_order_products['add_to_cart_order'].max()\n",
    "min_value = df_order_products['add_to_cart_order'].min()\n",
    "\n",
    "print( f'El valor máximo de \"add_to_cart_order\" es: { max_value }' )\n",
    "\n",
    "print( f'El valor máximo de \"add_to_cart_order\" es: { min_value }' )\n"
   ]
  },
  {
   "cell_type": "markdown",
   "id": "-Z2Ja215jW78",
   "metadata": {
    "id": "-Z2Ja215jW78"
   },
   "source": [
    "Se encontraron 836 datos ausentes en total, al parecer los pedidos más grandes han sido de 64 productos."
   ]
  },
  {
   "cell_type": "code",
   "execution_count": 36,
   "id": "ab9d0c2b",
   "metadata": {
    "id": "ab9d0c2b"
   },
   "outputs": [],
   "source": [
    "# Guarda todas las IDs de pedidos que tengan un valor ausente en 'add_to_cart_order'\n",
    "df_temp = df_order_products[ df_order_products[ 'add_to_cart_order' ].isna() ]\n"
   ]
  },
  {
   "cell_type": "code",
   "execution_count": 37,
   "id": "54c31695",
   "metadata": {
    "id": "54c31695"
   },
   "outputs": [
    {
     "data": {
      "text/html": [
       "<div>\n",
       "<style scoped>\n",
       "    .dataframe tbody tr th:only-of-type {\n",
       "        vertical-align: middle;\n",
       "    }\n",
       "\n",
       "    .dataframe tbody tr th {\n",
       "        vertical-align: top;\n",
       "    }\n",
       "\n",
       "    .dataframe thead th {\n",
       "        text-align: right;\n",
       "    }\n",
       "</style>\n",
       "<table border=\"1\" class=\"dataframe\">\n",
       "  <thead>\n",
       "    <tr style=\"text-align: right;\">\n",
       "      <th></th>\n",
       "      <th>product_id</th>\n",
       "      <th>add_to_cart_order</th>\n",
       "      <th>reordered</th>\n",
       "    </tr>\n",
       "    <tr>\n",
       "      <th>order_id</th>\n",
       "      <th></th>\n",
       "      <th></th>\n",
       "      <th></th>\n",
       "    </tr>\n",
       "  </thead>\n",
       "  <tbody>\n",
       "    <tr>\n",
       "      <th>61355</th>\n",
       "      <td>63</td>\n",
       "      <td>0</td>\n",
       "      <td>63</td>\n",
       "    </tr>\n",
       "    <tr>\n",
       "      <th>3308010</th>\n",
       "      <td>51</td>\n",
       "      <td>0</td>\n",
       "      <td>51</td>\n",
       "    </tr>\n",
       "    <tr>\n",
       "      <th>2136777</th>\n",
       "      <td>44</td>\n",
       "      <td>0</td>\n",
       "      <td>44</td>\n",
       "    </tr>\n",
       "    <tr>\n",
       "      <th>171934</th>\n",
       "      <td>40</td>\n",
       "      <td>0</td>\n",
       "      <td>40</td>\n",
       "    </tr>\n",
       "    <tr>\n",
       "      <th>1959075</th>\n",
       "      <td>34</td>\n",
       "      <td>0</td>\n",
       "      <td>34</td>\n",
       "    </tr>\n",
       "    <tr>\n",
       "      <th>...</th>\n",
       "      <td>...</td>\n",
       "      <td>...</td>\n",
       "      <td>...</td>\n",
       "    </tr>\n",
       "    <tr>\n",
       "      <th>888470</th>\n",
       "      <td>1</td>\n",
       "      <td>0</td>\n",
       "      <td>1</td>\n",
       "    </tr>\n",
       "    <tr>\n",
       "      <th>1598369</th>\n",
       "      <td>1</td>\n",
       "      <td>0</td>\n",
       "      <td>1</td>\n",
       "    </tr>\n",
       "    <tr>\n",
       "      <th>747668</th>\n",
       "      <td>1</td>\n",
       "      <td>0</td>\n",
       "      <td>1</td>\n",
       "    </tr>\n",
       "    <tr>\n",
       "      <th>1677118</th>\n",
       "      <td>1</td>\n",
       "      <td>0</td>\n",
       "      <td>1</td>\n",
       "    </tr>\n",
       "    <tr>\n",
       "      <th>9310</th>\n",
       "      <td>1</td>\n",
       "      <td>0</td>\n",
       "      <td>1</td>\n",
       "    </tr>\n",
       "  </tbody>\n",
       "</table>\n",
       "<p>70 rows × 3 columns</p>\n",
       "</div>"
      ],
      "text/plain": [
       "          product_id  add_to_cart_order  reordered\n",
       "order_id                                          \n",
       "61355             63                  0         63\n",
       "3308010           51                  0         51\n",
       "2136777           44                  0         44\n",
       "171934            40                  0         40\n",
       "1959075           34                  0         34\n",
       "...              ...                ...        ...\n",
       "888470             1                  0          1\n",
       "1598369            1                  0          1\n",
       "747668             1                  0          1\n",
       "1677118            1                  0          1\n",
       "9310               1                  0          1\n",
       "\n",
       "[70 rows x 3 columns]"
      ]
     },
     "execution_count": 37,
     "metadata": {},
     "output_type": "execute_result"
    }
   ],
   "source": [
    "# ¿Todos los pedidos con valores ausentes tienen más de 64 productos?\n",
    "# Agrupa todos los pedidos con datos ausentes por su ID de pedido.\n",
    "# Cuenta el número de 'product_id' en cada pedido y revisa el valor mínimo del conteo.\n",
    "df_temp.groupby( 'order_id' ).count().sort_values( 'product_id', ascending = False )\n"
   ]
  },
  {
   "cell_type": "markdown",
   "id": "p9V6pddtjglj",
   "metadata": {
    "id": "p9V6pddtjglj"
   },
   "source": [
    "Se puede observar que ningún pedido tiene más de 63 productos, es múy díficil determinar el orden en el que se añadieron por lo que asignarles un valor suena muy complicado, aunque en realidad la cantidad de datos no es muy grande por lo que no tendrán una gran reelevancia"
   ]
  },
  {
   "cell_type": "code",
   "execution_count": 38,
   "id": "7a987d08",
   "metadata": {
    "id": "7a987d08"
   },
   "outputs": [
    {
     "data": {
      "text/html": [
       "<div>\n",
       "<style scoped>\n",
       "    .dataframe tbody tr th:only-of-type {\n",
       "        vertical-align: middle;\n",
       "    }\n",
       "\n",
       "    .dataframe tbody tr th {\n",
       "        vertical-align: top;\n",
       "    }\n",
       "\n",
       "    .dataframe thead th {\n",
       "        text-align: right;\n",
       "    }\n",
       "</style>\n",
       "<table border=\"1\" class=\"dataframe\">\n",
       "  <thead>\n",
       "    <tr style=\"text-align: right;\">\n",
       "      <th></th>\n",
       "      <th>order_id</th>\n",
       "      <th>product_id</th>\n",
       "      <th>add_to_cart_order</th>\n",
       "      <th>reordered</th>\n",
       "    </tr>\n",
       "  </thead>\n",
       "  <tbody>\n",
       "  </tbody>\n",
       "</table>\n",
       "</div>"
      ],
      "text/plain": [
       "Empty DataFrame\n",
       "Columns: [order_id, product_id, add_to_cart_order, reordered]\n",
       "Index: []"
      ]
     },
     "execution_count": 38,
     "metadata": {},
     "output_type": "execute_result"
    }
   ],
   "source": [
    "# Remplaza los valores ausentes en la columna 'add_to_cart? con 999.\n",
    "df_order_products = df_order_products.fillna( 999 )\n",
    "\n",
    "#comprobamos que ya no hay valores ausentes\n",
    "df_order_products[ df_order_products[ 'add_to_cart_order' ].isna() ]"
   ]
  },
  {
   "cell_type": "code",
   "execution_count": 39,
   "id": "e47eec6b",
   "metadata": {},
   "outputs": [
    {
     "name": "stdout",
     "output_type": "stream",
     "text": [
      "<class 'pandas.core.frame.DataFrame'>\n",
      "RangeIndex: 4545007 entries, 0 to 4545006\n",
      "Data columns (total 4 columns):\n",
      " #   Column             Dtype\n",
      "---  ------             -----\n",
      " 0   order_id           int64\n",
      " 1   product_id         int64\n",
      " 2   add_to_cart_order  int64\n",
      " 3   reordered          int64\n",
      "dtypes: int64(4)\n",
      "memory usage: 138.7 MB\n"
     ]
    }
   ],
   "source": [
    "# Convierte la columna al tipo entero.\n",
    "df_order_products[ 'add_to_cart_order' ] = df_order_products[ 'add_to_cart_order' ].astype( 'int' )\n",
    "\n",
    "df_order_products.info()"
   ]
  },
  {
   "cell_type": "markdown",
   "id": "fea4bcc7",
   "metadata": {
    "id": "fea4bcc7"
   },
   "source": [
    "En primera instancia este DataFrame parecía muy díficil de tratar pero con pensarlo un poco realmente los valores que le asignemos a los datos ausentes no afectarán al análisis, otro pequeño defecto es el tipado incorrecto de la columna `add_to_cart_order` aunque corregirlo fue muy sencillo."
   ]
  },
  {
   "cell_type": "markdown",
   "id": "RnplPFY1gSrb",
   "metadata": {
    "id": "RnplPFY1gSrb"
   },
   "source": [
    "## Conclusiones\n",
    "\n",
    "El preprocesamiento de los datos es el paso más importante para poder tener un anális de buena calidad, en el caso de este conjunto de datos se encontraron una buena cantidad de cosas a corregir, pero con paciencia y aplicando lo aprendido en este curso he conseguido corregirlo todo y ahora que los datos se encuentran limpios es momento de pasar al análisis de los datos.\n"
   ]
  },
  {
   "cell_type": "markdown",
   "id": "UjrOIwTcz3ri",
   "metadata": {
    "id": "UjrOIwTcz3ri"
   },
   "source": [
    "# Paso 3. Análisis de los datos\n",
    "\n",
    "Una vez los datos estén procesados y listos, haz el siguiente análisis:"
   ]
  },
  {
   "cell_type": "markdown",
   "id": "turkish-kidney",
   "metadata": {
    "id": "turkish-kidney"
   },
   "source": [
    "# [A] Fácil (deben completarse todos para aprobar)\n",
    "\n",
    "1. Verifica que los valores en las columnas `'order_hour_of_day'` y `'order_dow'` en la tabla orders sean razonables (es decir, `'order_hour_of_day'` oscile entre 0 y 23 y `'order_dow'` oscile entre 0 y 6).\n",
    "2. Crea un gráfico que muestre el número de personas que hacen pedidos dependiendo de la hora del día.\n",
    "3. Crea un gráfico que muestre qué día de la semana la gente hace sus compras.\n",
    "4. Crea un gráfico que muestre el tiempo que la gente espera hasta hacer su siguiente pedido, y comenta sobre los valores mínimos y máximos."
   ]
  },
  {
   "cell_type": "markdown",
   "id": "short-capability",
   "metadata": {
    "id": "short-capability"
   },
   "source": [
    "### [A1] Verifica que los valores sean sensibles"
   ]
  },
  {
   "cell_type": "code",
   "execution_count": 40,
   "id": "growing-fruit",
   "metadata": {
    "id": "growing-fruit"
   },
   "outputs": [
    {
     "name": "stdout",
     "output_type": "stream",
     "text": [
      "El valor máximo encontrado es de: 23\n",
      "El valor minimo encontrado es de: 0\n"
     ]
    }
   ],
   "source": [
    "#Verificar que los valores de 'order_hour_of_day' oscilen entre 0 y 23\n",
    "max_value = df_instacart_orders[ 'order_hour_of_day' ].max()\n",
    "min_value = df_instacart_orders[ 'order_hour_of_day' ].min()\n",
    "\n",
    "print( f'El valor máximo encontrado es de: { max_value }' )\n",
    "\n",
    "print( f'El valor minimo encontrado es de: { min_value }' )"
   ]
  },
  {
   "cell_type": "code",
   "execution_count": 41,
   "id": "accessory-malaysia",
   "metadata": {
    "id": "accessory-malaysia"
   },
   "outputs": [
    {
     "name": "stdout",
     "output_type": "stream",
     "text": [
      "El valor máximo encontrado es de: 6\n",
      "El valor minimo encontrado es de: 0\n"
     ]
    }
   ],
   "source": [
    "#Verificar que los valores de 'order_hour_of_day' oscilen entre 0 y 6\n",
    "max_value = df_instacart_orders[ 'order_dow' ].max()\n",
    "min_value = df_instacart_orders[ 'order_dow' ].min()\n",
    "\n",
    "print( f'El valor máximo encontrado es de: { max_value }' )\n",
    "\n",
    "print( f'El valor minimo encontrado es de: { min_value }' )"
   ]
  },
  {
   "cell_type": "markdown",
   "id": "hmR2GNQ6lCsX",
   "metadata": {
    "id": "hmR2GNQ6lCsX"
   },
   "source": [
    "Utilizando los métodos `.max()` y `.min()` se comprobó que los valores para ambas columnas están dentro de los parámetros establecidos."
   ]
  },
  {
   "cell_type": "markdown",
   "id": "a6743a70",
   "metadata": {
    "id": "a6743a70"
   },
   "source": [
    "### [A2] Para cada hora del día, ¿cuántas personas hacen órdenes?"
   ]
  },
  {
   "cell_type": "code",
   "execution_count": 42,
   "id": "a36cca27",
   "metadata": {
    "id": "a36cca27"
   },
   "outputs": [
    {
     "data": {
      "image/png": "[encoded data removed]",
      "text/plain": [
       "<Figure size 1000x400 with 1 Axes>"
      ]
     },
     "metadata": {},
     "output_type": "display_data"
    }
   ],
   "source": [
    "#Agrupamos por la hora del día y aplicamos .count() para obtener el total de pedidos de cada hora\n",
    "df_graph = df_instacart_orders.groupby( by = 'order_hour_of_day', as_index = False ).count()\n",
    "\n",
    "#Configuramos el gráfico usando 'order_hour_of_day' en el eje 'x' y 'user_id' (contiene el total de personas que hacen ordenes) para el eje 'x'\n",
    "df_graph.plot(\n",
    "    x = 'order_hour_of_day',\n",
    "    y = 'user_id',\n",
    "    xlabel = 'Horas del día',\n",
    "    ylabel = 'No. Pedidos',\n",
    "    title = 'De las 10 a las 16, las horas punta ',\n",
    "    legend = False,\n",
    "    kind = 'bar',\n",
    "    rot = 0,\n",
    "    grid= True,\n",
    "    figsize = [10,4]\n",
    ")\n",
    "\n",
    "plt.show()"
   ]
  },
  {
   "cell_type": "markdown",
   "id": "11270eed",
   "metadata": {
    "id": "11270eed"
   },
   "source": [
    "Después de elaborar el gráfico es muy fácil notar que las horas punta están entre las 10 y las 16 horas, aunque la hora en la que más pedidos se hacen es a las 10, al parecer a las personas les gusta hacer sus compras entre el medio día y el atardecer, es muy probable que sea así porque esas son las horas preferidas de la gente para comer."
   ]
  },
  {
   "cell_type": "markdown",
   "id": "documented-command",
   "metadata": {
    "id": "documented-command"
   },
   "source": [
    "### [A3] ¿Qué día de la semana compran víveres las personas?"
   ]
  },
  {
   "cell_type": "code",
   "execution_count": 43,
   "id": "1e747430",
   "metadata": {},
   "outputs": [],
   "source": [
    "#Definir una función para clasificar los días de la semana según su número de día.\n",
    "def day_of_week( num_day ):\n",
    "    if num_day == 0:\n",
    "        return 'Domingo'\n",
    "    elif num_day == 1:\n",
    "        return 'Lunes'\n",
    "    elif num_day == 2:\n",
    "        return 'Martes'\n",
    "    elif num_day == 3:\n",
    "        return 'Miércoles'\n",
    "    elif num_day == 4:\n",
    "        return 'Jueves'\n",
    "    elif num_day == 5:\n",
    "        return 'Viernes'\n",
    "    elif num_day == 6:\n",
    "        return 'Sábado'\n",
    "    else:\n",
    "        return 'Desconocido'"
   ]
  },
  {
   "cell_type": "code",
   "execution_count": 44,
   "id": "chief-digit",
   "metadata": {
    "id": "chief-digit"
   },
   "outputs": [
    {
     "data": {
      "image/png": "[encoded data removed]",
      "text/plain": [
       "<Figure size 1000x400 with 1 Axes>"
      ]
     },
     "metadata": {},
     "output_type": "display_data"
    }
   ],
   "source": [
    "#Agrupamos por el día de la semana y plicamos .count() para obtener el total de pedidos de cada día\n",
    "df_graph = df_instacart_orders.groupby( by = 'order_dow', as_index = False ).count()\n",
    "\n",
    "#Usamos .apply() para crear la columna 'day_of_week' en la que se guardará el día de la semana que corresponde\n",
    "df_graph[ 'day_of_week' ] = df_graph[ 'order_dow' ].apply( day_of_week )\n",
    "\n",
    "#Configuramos el gráfico\n",
    "df_graph.plot(\n",
    "    x = 'day_of_week',\n",
    "    y = 'user_id',\n",
    "    xlabel = 'Días de la semana',\n",
    "    ylabel = 'No. Pedidos',\n",
    "    title = 'Una gran demanda al inicio de semana',\n",
    "    legend = False,\n",
    "    kind = 'bar',\n",
    "    rot = 0,\n",
    "    grid= True,\n",
    "    figsize = [10,4]\n",
    ")\n",
    "\n",
    "plt.show()"
   ]
  },
  {
   "cell_type": "markdown",
   "id": "dominant-lightning",
   "metadata": {
    "id": "dominant-lightning"
   },
   "source": [
    "Los días con la mayor demanda de pedidos sin duda alguna son el Domingo y el Lunes osea cuando recién inicia la semana, el resto de la semana es bastante estable, esto nos indica que a las personas les gusta iniciar su semana con los víveres necesarios."
   ]
  },
  {
   "cell_type": "markdown",
   "id": "cutting-concert",
   "metadata": {
    "id": "cutting-concert"
   },
   "source": [
    "### [A4] ¿Cuánto tiempo esperan las personas hasta hacer otro pedido? Comenta sobre los valores mínimos y máximos."
   ]
  },
  {
   "cell_type": "code",
   "execution_count": 45,
   "id": "c231f523",
   "metadata": {
    "id": "c231f523"
   },
   "outputs": [
    {
     "data": {
      "image/png": "[encoded data removed]",
      "text/plain": [
       "<Figure size 1000x400 with 1 Axes>"
      ]
     },
     "metadata": {},
     "output_type": "display_data"
    }
   ],
   "source": [
    "df_graph = df_instacart_orders\n",
    "\n",
    "#Utilizando un histograma podremos observar los datos\n",
    "df_graph[ 'days_since_prior_order' ].plot(\n",
    "    kind = 'hist',\n",
    "    title = '',\n",
    "    figsize = [10,4],\n",
    "    alpha = .9,\n",
    "    grid = True\n",
    ")\n",
    "\n",
    "plt.xlabel( 'Días desde el último pedido' )\n",
    "plt.ylabel( 'No.Usuarios' )\n",
    "plt.show()"
   ]
  },
  {
   "cell_type": "markdown",
   "id": "discrete-vertex",
   "metadata": {
    "id": "discrete-vertex"
   },
   "source": [
    "Parce que las personas tienen una preferencia para hacer sus compras cada semana lo que refuerza el gráfico anterior en donde se veía que cada inicio de semana( domingo y lunes) eran los días con mayor demanda, aunque tambíen se observa un gran grupo de clientes que no usan el servicio con frecuencia tardando hasta 30 días en realizar un nuevo pedido"
   ]
  },
  {
   "cell_type": "markdown",
   "id": "tight-staff",
   "metadata": {
    "id": "tight-staff"
   },
   "source": [
    "# [B] Intermedio (deben completarse todos para aprobar)\n",
    "\n",
    "1. ¿Existe alguna diferencia entre las distribuciones `'order_hour_of_day'` de los miércoles y los sábados? Traza gráficos de barra de `'order_hour_of_day'` para ambos días en la misma figura y describe las diferencias que observes.\n",
    "2. Grafica la distribución para el número de órdenes que hacen los clientes (es decir, cuántos clientes hicieron solo 1 pedido, cuántos hicieron 2, cuántos 3, y así sucesivamente...).\n",
    "3. ¿Cuáles son los 20 principales productos que se piden con más frecuencia (muestra su identificación y nombre)?"
   ]
  },
  {
   "cell_type": "markdown",
   "id": "packed-classic",
   "metadata": {
    "id": "packed-classic"
   },
   "source": [
    "### [B1] Diferencia entre miércoles y sábados para  `'order_hour_of_day'`. Traza gráficos de barra para los dos días y describe las diferencias que veas."
   ]
  },
  {
   "cell_type": "code",
   "execution_count": 46,
   "id": "d89b8403",
   "metadata": {
    "id": "d89b8403"
   },
   "outputs": [],
   "source": [
    "# Crear un DataFrame con la información de los días miércoles.\n",
    "# Obtenemos todos los pedidos del día miercoles\n",
    "df_wednesday = df_instacart_orders.query( 'order_dow == 3' )\n",
    "# Agrupamos los datos por hora del día en que se realizó el pedido\n",
    "df_wednesday = df_wednesday.groupby( by = 'order_hour_of_day', as_index = False ).count()\n",
    "# Solo nos quedamos con las columnas que necesitamos\n",
    "df_wednesday = df_wednesday[ ['order_hour_of_day', 'order_id'] ]\n",
    "# Cambiamos los nombres de las columnas por unos más adecuados\n",
    "df_wednesday.columns = [ 'order_hour_of_day', 'wednesday_orders' ]"
   ]
  },
  {
   "cell_type": "code",
   "execution_count": 47,
   "id": "94e54e8a",
   "metadata": {
    "id": "94e54e8a"
   },
   "outputs": [],
   "source": [
    "# Crear un DataFrame con la información de los días sábado.\n",
    "# Obtenemos todos los pedidos del día sábado\n",
    "df_saturday = df_instacart_orders.query( 'order_dow == 6' )\n",
    "# Agrupamos los datos por hora del día en que se realizó el pedido\n",
    "df_saturday = df_saturday.groupby( by = 'order_hour_of_day', as_index = False ).count()\n",
    "# Solo nos quedamos con las columnas que necesitamos\n",
    "df_saturday = df_saturday[ ['order_hour_of_day', 'order_id'] ]\n",
    "# Cambiamos los nombres de las columnas por unos más adecuados\n",
    "df_saturday.columns = [ 'order_hour_of_day', 'saturday_orders' ]"
   ]
  },
  {
   "cell_type": "code",
   "execution_count": 48,
   "id": "797c90a8",
   "metadata": {
    "id": "797c90a8"
   },
   "outputs": [],
   "source": [
    "# Unificaremos los dos DataFrames en uno solo para poder gráficarlos\n",
    "df_graph = pd.merge( df_saturday, df_wednesday, on = 'order_hour_of_day' )"
   ]
  },
  {
   "cell_type": "code",
   "execution_count": 49,
   "id": "c3ad4b02",
   "metadata": {},
   "outputs": [
    {
     "data": {
      "image/png": "[encoded data removed]",
      "text/plain": [
       "<Figure size 1000x400 with 1 Axes>"
      ]
     },
     "metadata": {},
     "output_type": "display_data"
    }
   ],
   "source": [
    "#Configuramos el gráfico \n",
    "df_graph.plot(\n",
    "    kind = 'bar',\n",
    "    title = 'Días muy parejos excepto al mediodía',\n",
    "    x = 'order_hour_of_day',\n",
    "    y = [ 'wednesday_orders', 'saturday_orders' ],\n",
    "    xlabel = 'Horas del día',\n",
    "    ylabel = 'No.pedidos',\n",
    "    grid = True,\n",
    "    rot = 0,\n",
    "    figsize = [ 10, 4 ]\n",
    ")\n",
    "\n",
    "plt.legend( [ 'Miércoles', 'Sábado' ] )\n",
    "plt.show()"
   ]
  },
  {
   "cell_type": "markdown",
   "id": "charitable-congo",
   "metadata": {
    "id": "charitable-congo"
   },
   "source": [
    "Se puede observar que los ambos días se mantienen muy parejos en cuanto al número de pedidos que se realizan en las diferentes horas del día, excepto por el ranngo de las 12 a las 14 hrs en dónde claramente el sábado tiene una mayor demanda de pedidos."
   ]
  },
  {
   "cell_type": "markdown",
   "id": "e3891143",
   "metadata": {
    "id": "e3891143"
   },
   "source": [
    "### [B2] ¿Cuál es la distribución para el número de pedidos por cliente?"
   ]
  },
  {
   "cell_type": "code",
   "execution_count": 50,
   "id": "d8c26c23",
   "metadata": {
    "id": "d8c26c23"
   },
   "outputs": [],
   "source": [
    "# Crear el DataFrame para gráficar \n",
    "# Agrupamos todos los pedidos de 'df_instacart_orders' por 'user_id' y aplicamos .max() \n",
    "#para obtener el total de pedidos realizados por cliente de la columna 'order_number'\n",
    "\n",
    "df_graph = df_instacart_orders.groupby( by = 'user_id', as_index = False ).max()"
   ]
  },
  {
   "cell_type": "code",
   "execution_count": 51,
   "id": "00e69a66",
   "metadata": {
    "id": "00e69a66"
   },
   "outputs": [
    {
     "data": {
      "image/png": "[encoded data removed]",
      "text/plain": [
       "<Figure size 1000x400 with 1 Axes>"
      ]
     },
     "metadata": {},
     "output_type": "display_data"
    }
   ],
   "source": [
    "#Realiza el gráfico correspondiente\n",
    "# Graficaremos el DataFrame como un histograma usando la columna 'order_number' así obtendremos un histograma que agrupe usuarios en función del número de pedidos realizados\n",
    "df_graph[ 'order_number' ].plot(\n",
    "    kind = 'hist',\n",
    "    title = 'La recurrencia en el servicio es muy baja',\n",
    "    figsize = [10,4],\n",
    "    alpha = .9,\n",
    "    grid = True\n",
    ")\n",
    "\n",
    "plt.xlabel( 'Pedidos realizados' )\n",
    "plt.ylabel( 'No.Usuarios' )\n",
    "\n",
    "plt.show()"
   ]
  },
  {
   "cell_type": "markdown",
   "id": "d2eff7d5",
   "metadata": {
    "id": "d2eff7d5"
   },
   "source": [
    "Podemos observar en el histograma que la mayoria de usuarios solo piden una vez y no lo vuelven a hacer, los usuarios que piden con frecuencia son muy bajos"
   ]
  },
  {
   "cell_type": "markdown",
   "id": "54a0319c",
   "metadata": {
    "id": "54a0319c"
   },
   "source": [
    "### [B3] ¿Cuáles son los 20 productos más populares (muestra su ID y nombre)?"
   ]
  },
  {
   "cell_type": "code",
   "execution_count": 52,
   "id": "exterior-arizona",
   "metadata": {
    "id": "exterior-arizona",
    "scrolled": true
   },
   "outputs": [],
   "source": [
    "#Crea un DataFrame con los 20 productos más vendidos\n",
    "#Con ayuda de groupby() agruparemos los datos por 'product_id' y aplicaremos count() para así obtener el ID de los productos y el total de unidades vendidas\n",
    "#Posteriormente con sort_values ordenaremos los valores en orden descendente, así tendremos los productos ordenados del más vendido al menos vendido\n",
    "df_most_popular_products = df_order_products.groupby( by = 'product_id', as_index = False ).count().sort_values( 'reordered', ascending = False)\n",
    "\n",
    "# Ahora solo nos quedaremos con las columnas 'product_id' y 'order_id', la primera contiene el ID de los productos y la segunda la cantidad vendida\n",
    "df_most_popular_products = df_most_popular_products[ ['product_id', 'order_id'] ]\n",
    "\n",
    "#Le damos un nombre más apropiado a las 2 columnas\n",
    "df_most_popular_products.columns = ['product_id', 'total_sold'] \n",
    "\n",
    "#Ya que el DataFrame está ordenado del producto más vendido al menos vendido solo necesitamos los 20 primeras lineas para obtener nuestro top 20 de productos\n",
    "df_most_popular_products = df_most_popular_products.iloc[ 0:20 ]\n"
   ]
  },
  {
   "cell_type": "code",
   "execution_count": 53,
   "id": "universal-facial",
   "metadata": {
    "id": "universal-facial"
   },
   "outputs": [
    {
     "data": {
      "text/html": [
       "<div>\n",
       "<style scoped>\n",
       "    .dataframe tbody tr th:only-of-type {\n",
       "        vertical-align: middle;\n",
       "    }\n",
       "\n",
       "    .dataframe tbody tr th {\n",
       "        vertical-align: top;\n",
       "    }\n",
       "\n",
       "    .dataframe thead th {\n",
       "        text-align: right;\n",
       "    }\n",
       "</style>\n",
       "<table border=\"1\" class=\"dataframe\">\n",
       "  <thead>\n",
       "    <tr style=\"text-align: right;\">\n",
       "      <th></th>\n",
       "      <th>product_id</th>\n",
       "      <th>total_sold</th>\n",
       "      <th>product_name</th>\n",
       "    </tr>\n",
       "  </thead>\n",
       "  <tbody>\n",
       "    <tr>\n",
       "      <th>0</th>\n",
       "      <td>24852</td>\n",
       "      <td>66050</td>\n",
       "      <td>Banana</td>\n",
       "    </tr>\n",
       "    <tr>\n",
       "      <th>1</th>\n",
       "      <td>13176</td>\n",
       "      <td>53297</td>\n",
       "      <td>Bag of Organic Bananas</td>\n",
       "    </tr>\n",
       "    <tr>\n",
       "      <th>2</th>\n",
       "      <td>21137</td>\n",
       "      <td>37039</td>\n",
       "      <td>Organic Strawberries</td>\n",
       "    </tr>\n",
       "    <tr>\n",
       "      <th>3</th>\n",
       "      <td>21903</td>\n",
       "      <td>33971</td>\n",
       "      <td>Organic Baby Spinach</td>\n",
       "    </tr>\n",
       "    <tr>\n",
       "      <th>4</th>\n",
       "      <td>47209</td>\n",
       "      <td>29773</td>\n",
       "      <td>Organic Hass Avocado</td>\n",
       "    </tr>\n",
       "    <tr>\n",
       "      <th>5</th>\n",
       "      <td>47766</td>\n",
       "      <td>24689</td>\n",
       "      <td>Organic Avocado</td>\n",
       "    </tr>\n",
       "    <tr>\n",
       "      <th>6</th>\n",
       "      <td>47626</td>\n",
       "      <td>21495</td>\n",
       "      <td>Large Lemon</td>\n",
       "    </tr>\n",
       "    <tr>\n",
       "      <th>7</th>\n",
       "      <td>16797</td>\n",
       "      <td>20018</td>\n",
       "      <td>Strawberries</td>\n",
       "    </tr>\n",
       "    <tr>\n",
       "      <th>8</th>\n",
       "      <td>26209</td>\n",
       "      <td>19690</td>\n",
       "      <td>Limes</td>\n",
       "    </tr>\n",
       "    <tr>\n",
       "      <th>9</th>\n",
       "      <td>27845</td>\n",
       "      <td>19600</td>\n",
       "      <td>Organic Whole Milk</td>\n",
       "    </tr>\n",
       "    <tr>\n",
       "      <th>10</th>\n",
       "      <td>27966</td>\n",
       "      <td>19197</td>\n",
       "      <td>Organic Raspberries</td>\n",
       "    </tr>\n",
       "    <tr>\n",
       "      <th>11</th>\n",
       "      <td>22935</td>\n",
       "      <td>15898</td>\n",
       "      <td>Organic Yellow Onion</td>\n",
       "    </tr>\n",
       "    <tr>\n",
       "      <th>12</th>\n",
       "      <td>24964</td>\n",
       "      <td>15292</td>\n",
       "      <td>Organic Garlic</td>\n",
       "    </tr>\n",
       "    <tr>\n",
       "      <th>13</th>\n",
       "      <td>45007</td>\n",
       "      <td>14584</td>\n",
       "      <td>Organic Zucchini</td>\n",
       "    </tr>\n",
       "    <tr>\n",
       "      <th>14</th>\n",
       "      <td>39275</td>\n",
       "      <td>13879</td>\n",
       "      <td>Organic Blueberries</td>\n",
       "    </tr>\n",
       "    <tr>\n",
       "      <th>15</th>\n",
       "      <td>49683</td>\n",
       "      <td>13675</td>\n",
       "      <td>Cucumber Kirby</td>\n",
       "    </tr>\n",
       "    <tr>\n",
       "      <th>16</th>\n",
       "      <td>28204</td>\n",
       "      <td>12544</td>\n",
       "      <td>Organic Fuji Apple</td>\n",
       "    </tr>\n",
       "    <tr>\n",
       "      <th>17</th>\n",
       "      <td>5876</td>\n",
       "      <td>12232</td>\n",
       "      <td>Organic Lemon</td>\n",
       "    </tr>\n",
       "    <tr>\n",
       "      <th>18</th>\n",
       "      <td>8277</td>\n",
       "      <td>11993</td>\n",
       "      <td>Apple Honeycrisp Organic</td>\n",
       "    </tr>\n",
       "    <tr>\n",
       "      <th>19</th>\n",
       "      <td>40706</td>\n",
       "      <td>11781</td>\n",
       "      <td>Organic Grape Tomatoes</td>\n",
       "    </tr>\n",
       "  </tbody>\n",
       "</table>\n",
       "</div>"
      ],
      "text/plain": [
       "    product_id  total_sold              product_name\n",
       "0        24852       66050                    Banana\n",
       "1        13176       53297    Bag of Organic Bananas\n",
       "2        21137       37039      Organic Strawberries\n",
       "3        21903       33971      Organic Baby Spinach\n",
       "4        47209       29773      Organic Hass Avocado\n",
       "5        47766       24689           Organic Avocado\n",
       "6        47626       21495               Large Lemon\n",
       "7        16797       20018              Strawberries\n",
       "8        26209       19690                     Limes\n",
       "9        27845       19600        Organic Whole Milk\n",
       "10       27966       19197       Organic Raspberries\n",
       "11       22935       15898      Organic Yellow Onion\n",
       "12       24964       15292            Organic Garlic\n",
       "13       45007       14584          Organic Zucchini\n",
       "14       39275       13879       Organic Blueberries\n",
       "15       49683       13675            Cucumber Kirby\n",
       "16       28204       12544        Organic Fuji Apple\n",
       "17        5876       12232             Organic Lemon\n",
       "18        8277       11993  Apple Honeycrisp Organic\n",
       "19       40706       11781    Organic Grape Tomatoes"
      ]
     },
     "execution_count": 53,
     "metadata": {},
     "output_type": "execute_result"
    }
   ],
   "source": [
    "#Agrega el nombre de los productos al DataFrame anterior\n",
    "#Con la ayuda de merge() uniremos el DataFrame de los productos más vendidos con el DataFrame de products con el objetivo de agregar los nombres a nuestro DataFrame de los productos más vendidos\n",
    "df_most_popular_products = pd.merge( df_most_popular_products, df_products, on = 'product_id' )\n",
    "\n",
    "#Solo nos quedaremos con las columnas de ID, cantidad vendida y nombre del producto\n",
    "df_most_popular_products = df_most_popular_products[ ['product_id', 'total_sold', 'product_name'] ]\n",
    "\n",
    "#Mostramos el top 20 de los productos más vendidos\n",
    "df_most_popular_products"
   ]
  },
  {
   "cell_type": "code",
   "execution_count": 54,
   "id": "bbcdd20b",
   "metadata": {
    "id": "bbcdd20b"
   },
   "outputs": [
    {
     "data": {
      "image/png": "[encoded data removed]",
      "text/plain": [
       "<Figure size 1000x400 with 1 Axes>"
      ]
     },
     "metadata": {},
     "output_type": "display_data"
    }
   ],
   "source": [
    "#Realiza un gráfico de los productos más vendidos\n",
    "#Para facilitar la comparación de los productos se realiza un gráfico de barras \n",
    "df_most_popular_products.plot(\n",
    "    title = 'Los productos orgánicos son lo más vendido',\n",
    "    kind = 'bar',\n",
    "    x = 'product_name',\n",
    "    y = 'total_sold',\n",
    "    xlabel = 'Productos',\n",
    "    ylabel = 'Unidades vendidas',\n",
    "    legend = False,\n",
    "    figsize = [10,4],\n",
    "    grid = True\n",
    ")\n",
    "\n",
    "plt.show()"
   ]
  },
  {
   "cell_type": "markdown",
   "id": "7df00f47",
   "metadata": {
    "id": "7df00f47"
   },
   "source": [
    "Aunque las bananas son con bastante diferencia el producto más vendido, no se puede ignorar el hecho de que el resto del top 20 consiste casi en su totalidad de productos orgánicos"
   ]
  },
  {
   "cell_type": "markdown",
   "id": "gross-theme",
   "metadata": {
    "id": "gross-theme"
   },
   "source": [
    "# [C] Difícil (deben completarse todos para aprobar)\n",
    "\n",
    "1. ¿Cuántos artículos suelen comprar las personas en un pedido? ¿Cómo es la distribución?\n",
    "2. ¿Cuáles son los 20 principales artículos que vuelven a pedirse con mayor frecuencia (muestra sus nombres e IDs de los productos)?\n",
    "3. Para cada producto, ¿cuál es la tasa de repetición del pedido (número de repeticiones de pedido/total de pedidos?\n",
    "4. Para cada cliente, ¿qué proporción de los productos que pidió ya los había pedido? Calcula la tasa de repetición de pedido para cada usuario en lugar de para cada producto.\n",
    "5. ¿Cuáles son los 20 principales artículos que la gente pone primero en sus carritos (muestra las IDs de los productos, sus nombres, y el número de veces en que fueron el primer artículo en añadirse al carrito)?"
   ]
  },
  {
   "cell_type": "markdown",
   "id": "romantic-deposit",
   "metadata": {
    "id": "romantic-deposit"
   },
   "source": [
    "### [C1] ¿Cuántos artículos compran normalmente las personas en un pedido? ¿Cómo es la distribución?"
   ]
  },
  {
   "cell_type": "code",
   "execution_count": 55,
   "id": "virtual-punch",
   "metadata": {
    "id": "virtual-punch",
    "scrolled": true
   },
   "outputs": [
    {
     "name": "stdout",
     "output_type": "stream",
     "text": [
      "Promedio de productos por pedido: 10\n"
     ]
    }
   ],
   "source": [
    "#Calcular el promedio de productos por pedido\n",
    "#Agruparemos df_order_products por 'order_id' y aplicaremos un count() para poder calcular el total de articulos por pedido\n",
    "df_temp = df_order_products.groupby( by = 'order_id', as_index = False ).count()\n",
    "\n",
    "#Calcularemos el promedio con mean()\n",
    "prom = int( df_temp['product_id'].mean() )\n",
    "\n",
    "#Imprimimos el promedio en pantalla\n",
    "print( f'Promedio de productos por pedido: { prom }' )"
   ]
  },
  {
   "cell_type": "code",
   "execution_count": 56,
   "id": "sensitive-breathing",
   "metadata": {
    "id": "sensitive-breathing"
   },
   "outputs": [
    {
     "data": {
      "image/png": "[encoded data removed]",
      "text/plain": [
       "<Figure size 1000x400 with 1 Axes>"
      ]
     },
     "metadata": {},
     "output_type": "display_data"
    }
   ],
   "source": [
    "#Configuramos el grafico\n",
    "df_temp[ 'product_id' ].plot(\n",
    "    kind = 'hist',\n",
    "    title = 'Pocos compran demasiado',\n",
    "    figsize = [10,4],\n",
    "    grid = True\n",
    ")\n",
    "\n",
    "plt.xlabel( 'Productos por pedido' )\n",
    "plt.ylabel( 'No.Pedidos' )\n",
    "\n",
    "plt.show()\n"
   ]
  },
  {
   "cell_type": "markdown",
   "id": "designed-mortality",
   "metadata": {
    "id": "designed-mortality"
   },
   "source": [
    "Se puede apreciar en el gráfico que la gran mayoría de personas compran no más de 10 productos en cada pedido, y aunque hay personas que compran más de 100 son en realidad muy pocas"
   ]
  },
  {
   "cell_type": "markdown",
   "id": "5e6b5537",
   "metadata": {
    "id": "5e6b5537"
   },
   "source": [
    "### [C2] ¿Cuáles son los 20 principales artículos que vuelven a pedirse con mayor frecuencia (muestra sus nombres e IDs de los productos)?"
   ]
  },
  {
   "cell_type": "code",
   "execution_count": 57,
   "id": "9374e55a",
   "metadata": {
    "id": "9374e55a"
   },
   "outputs": [],
   "source": [
    "#Crea un DataFrame para almacenar los 20 principales artículos que vuelven a pedirse con mayor frecuencia\n",
    "#Primero filtraremos todos los productos que se han vuelto a pedir en algún momento\n",
    "df_reordered_products = df_order_products.query( 'reordered == 1' )\n",
    "\n",
    "#Ahora agruparemos el DataFrame resultante del paso anterior por 'product_id' y aplicaremos count() para obtener el total de veces que cada producto fue reordenado\n",
    "#y aplicamos sot_values() de forma descendente para ordenar del más pedido al menos pedido\n",
    "df_reordered_products = df_reordered_products.groupby( by = 'product_id', as_index = False ).count().sort_values( 'order_id', ascending = False )\n",
    "\n",
    "#Ahora que tenemos un DataFrame agrupado solo necesitamos 2 columnas una con el ID de los productos y cualquier otra columna( todas contienen el total de veces que el producto fue reordenado )\n",
    "df_reordered_products = df_reordered_products[ [ 'product_id', 'order_id' ] ]\n",
    "\n",
    "#Por último nombraremos a las columnas de una forma más clara\n",
    "df_reordered_products.columns = [ 'product_id', 'total_reordered' ]\n",
    "\n",
    "#Ahora solo recortaremos el DataFrame df_reordered_products para obtener los 20 más reordenados\n",
    "df_reordered_products = df_reordered_products.iloc[ 0:20 ]\n"
   ]
  },
  {
   "cell_type": "code",
   "execution_count": 58,
   "id": "possible-change",
   "metadata": {
    "id": "possible-change",
    "scrolled": true
   },
   "outputs": [
    {
     "data": {
      "text/html": [
       "<div>\n",
       "<style scoped>\n",
       "    .dataframe tbody tr th:only-of-type {\n",
       "        vertical-align: middle;\n",
       "    }\n",
       "\n",
       "    .dataframe tbody tr th {\n",
       "        vertical-align: top;\n",
       "    }\n",
       "\n",
       "    .dataframe thead th {\n",
       "        text-align: right;\n",
       "    }\n",
       "</style>\n",
       "<table border=\"1\" class=\"dataframe\">\n",
       "  <thead>\n",
       "    <tr style=\"text-align: right;\">\n",
       "      <th></th>\n",
       "      <th>product_id</th>\n",
       "      <th>total_reordered</th>\n",
       "      <th>product_name</th>\n",
       "    </tr>\n",
       "  </thead>\n",
       "  <tbody>\n",
       "    <tr>\n",
       "      <th>0</th>\n",
       "      <td>24852</td>\n",
       "      <td>55763</td>\n",
       "      <td>Banana</td>\n",
       "    </tr>\n",
       "    <tr>\n",
       "      <th>1</th>\n",
       "      <td>13176</td>\n",
       "      <td>44450</td>\n",
       "      <td>Bag of Organic Bananas</td>\n",
       "    </tr>\n",
       "    <tr>\n",
       "      <th>2</th>\n",
       "      <td>21137</td>\n",
       "      <td>28639</td>\n",
       "      <td>Organic Strawberries</td>\n",
       "    </tr>\n",
       "    <tr>\n",
       "      <th>3</th>\n",
       "      <td>21903</td>\n",
       "      <td>26233</td>\n",
       "      <td>Organic Baby Spinach</td>\n",
       "    </tr>\n",
       "    <tr>\n",
       "      <th>4</th>\n",
       "      <td>47209</td>\n",
       "      <td>23629</td>\n",
       "      <td>Organic Hass Avocado</td>\n",
       "    </tr>\n",
       "    <tr>\n",
       "      <th>5</th>\n",
       "      <td>47766</td>\n",
       "      <td>18743</td>\n",
       "      <td>Organic Avocado</td>\n",
       "    </tr>\n",
       "    <tr>\n",
       "      <th>6</th>\n",
       "      <td>27845</td>\n",
       "      <td>16251</td>\n",
       "      <td>Organic Whole Milk</td>\n",
       "    </tr>\n",
       "    <tr>\n",
       "      <th>7</th>\n",
       "      <td>47626</td>\n",
       "      <td>15044</td>\n",
       "      <td>Large Lemon</td>\n",
       "    </tr>\n",
       "    <tr>\n",
       "      <th>8</th>\n",
       "      <td>27966</td>\n",
       "      <td>14748</td>\n",
       "      <td>Organic Raspberries</td>\n",
       "    </tr>\n",
       "    <tr>\n",
       "      <th>9</th>\n",
       "      <td>16797</td>\n",
       "      <td>13945</td>\n",
       "      <td>Strawberries</td>\n",
       "    </tr>\n",
       "    <tr>\n",
       "      <th>10</th>\n",
       "      <td>26209</td>\n",
       "      <td>13327</td>\n",
       "      <td>Limes</td>\n",
       "    </tr>\n",
       "    <tr>\n",
       "      <th>11</th>\n",
       "      <td>22935</td>\n",
       "      <td>11145</td>\n",
       "      <td>Organic Yellow Onion</td>\n",
       "    </tr>\n",
       "    <tr>\n",
       "      <th>12</th>\n",
       "      <td>24964</td>\n",
       "      <td>10411</td>\n",
       "      <td>Organic Garlic</td>\n",
       "    </tr>\n",
       "    <tr>\n",
       "      <th>13</th>\n",
       "      <td>45007</td>\n",
       "      <td>10076</td>\n",
       "      <td>Organic Zucchini</td>\n",
       "    </tr>\n",
       "    <tr>\n",
       "      <th>14</th>\n",
       "      <td>49683</td>\n",
       "      <td>9538</td>\n",
       "      <td>Cucumber Kirby</td>\n",
       "    </tr>\n",
       "    <tr>\n",
       "      <th>15</th>\n",
       "      <td>28204</td>\n",
       "      <td>8989</td>\n",
       "      <td>Organic Fuji Apple</td>\n",
       "    </tr>\n",
       "    <tr>\n",
       "      <th>16</th>\n",
       "      <td>8277</td>\n",
       "      <td>8836</td>\n",
       "      <td>Apple Honeycrisp Organic</td>\n",
       "    </tr>\n",
       "    <tr>\n",
       "      <th>17</th>\n",
       "      <td>39275</td>\n",
       "      <td>8799</td>\n",
       "      <td>Organic Blueberries</td>\n",
       "    </tr>\n",
       "    <tr>\n",
       "      <th>18</th>\n",
       "      <td>5876</td>\n",
       "      <td>8412</td>\n",
       "      <td>Organic Lemon</td>\n",
       "    </tr>\n",
       "    <tr>\n",
       "      <th>19</th>\n",
       "      <td>49235</td>\n",
       "      <td>8389</td>\n",
       "      <td>Organic Half &amp; Half</td>\n",
       "    </tr>\n",
       "  </tbody>\n",
       "</table>\n",
       "</div>"
      ],
      "text/plain": [
       "    product_id  total_reordered              product_name\n",
       "0        24852            55763                    Banana\n",
       "1        13176            44450    Bag of Organic Bananas\n",
       "2        21137            28639      Organic Strawberries\n",
       "3        21903            26233      Organic Baby Spinach\n",
       "4        47209            23629      Organic Hass Avocado\n",
       "5        47766            18743           Organic Avocado\n",
       "6        27845            16251        Organic Whole Milk\n",
       "7        47626            15044               Large Lemon\n",
       "8        27966            14748       Organic Raspberries\n",
       "9        16797            13945              Strawberries\n",
       "10       26209            13327                     Limes\n",
       "11       22935            11145      Organic Yellow Onion\n",
       "12       24964            10411            Organic Garlic\n",
       "13       45007            10076          Organic Zucchini\n",
       "14       49683             9538            Cucumber Kirby\n",
       "15       28204             8989        Organic Fuji Apple\n",
       "16        8277             8836  Apple Honeycrisp Organic\n",
       "17       39275             8799       Organic Blueberries\n",
       "18        5876             8412             Organic Lemon\n",
       "19       49235             8389       Organic Half & Half"
      ]
     },
     "execution_count": 58,
     "metadata": {},
     "output_type": "execute_result"
    }
   ],
   "source": [
    "#Agrega el nombre de los productos al DataFrame anterior y muestra el resultado\n",
    "#Con la ayuda de merge() uniremos el DataFrame df_reordered_products con el DataFrame de products con el objetivo de agregar los nombres de los productos a nuestro DataFrame df_reordered_products\n",
    "df_reordered_products = pd.merge( df_reordered_products, df_products, on = 'product_id' )\n",
    "\n",
    "#Solo nos quedaremos con las columnas de ID, total de veces reordenado y nombre del producto\n",
    "df_reordered_products = df_reordered_products[ ['product_id', 'total_reordered', 'product_name'] ]\n",
    "\n",
    "#Mostramos el top 20 de los productos más vendidos\n",
    "df_reordered_products"
   ]
  },
  {
   "cell_type": "code",
   "execution_count": 59,
   "id": "professional-surfing",
   "metadata": {
    "id": "professional-surfing",
    "scrolled": true
   },
   "outputs": [
    {
     "data": {
      "image/png": "[encoded data removed]",
      "text/plain": [
       "<Figure size 1000x400 with 1 Axes>"
      ]
     },
     "metadata": {},
     "output_type": "display_data"
    }
   ],
   "source": [
    "#Grafica el resultado para poder comparar los productos\n",
    "\n",
    "df_reordered_products.plot(\n",
    "    title = 'Los orgánicos enganchan a la gente',\n",
    "    kind = 'bar',\n",
    "    x = 'product_name',\n",
    "    y = 'total_reordered',\n",
    "    xlabel = 'Productos',\n",
    "    ylabel = 'Cantidad de usuarios que han reordenado',\n",
    "    legend = False,\n",
    "    figsize = [10,4],\n",
    "    grid = True\n",
    ")\n",
    "\n",
    "plt.show()"
   ]
  },
  {
   "cell_type": "markdown",
   "id": "80e70c74",
   "metadata": {
    "id": "80e70c74"
   },
   "source": [
    "A simple vista se puede ver que el gráfico de los 20 más vendidos y el de los 20 que más se vuelven a pedir es muy parecido, lo que indica que nuestros usuarios prefieren los productos orgánicos"
   ]
  },
  {
   "cell_type": "markdown",
   "id": "9d312b14",
   "metadata": {
    "id": "9d312b14"
   },
   "source": [
    "### [C3] Para cada producto, ¿cuál es la proporción de las veces que se pide y que se vuelve a pedir?"
   ]
  },
  {
   "cell_type": "code",
   "execution_count": 60,
   "id": "8ae9f4b1",
   "metadata": {
    "id": "8ae9f4b1"
   },
   "outputs": [],
   "source": [
    "#Crea un DataFreme con la cantidad de pedidos ordenados por primera vez y reordenados\n",
    "# Con ayuda de pivot_table agruparemos todos los productos por ID y si han sido comprados por primera vez o no y con la función de agregación count() obtendremos el total de cada uno\n",
    "df_proportions = df_order_products.pivot_table( index = 'product_id', columns = 'reordered', values = 'order_id', aggfunc = 'count', fill_value = 0 )\n",
    "\n",
    "#Le daremos un nombre más claro a cada columna\n",
    "df_proportions.columns = [ 'first_order', 'reordered' ]\n",
    "\n",
    "# Crearemos la columna total para poder ver los datos con mayor claridad\n",
    "df_proportions[ 'total' ] = df_proportions[ 'first_order' ] + df_proportions[ 'reordered' ]"
   ]
  },
  {
   "cell_type": "code",
   "execution_count": 61,
   "id": "103e7fe1",
   "metadata": {
    "id": "103e7fe1"
   },
   "outputs": [],
   "source": [
    "#Calcula las proporciones que se solicitaron\n",
    "#Calcularemos la proporcion del total de veces que el producto fue pedido por primera vez / el total de ventas del producto\n",
    "df_proportions[ 'proportion_first_order' ] = df_proportions[ 'first_order' ] / df_proportions[ 'total' ]\n",
    "\n",
    "#Calcularemos la proporcion del total de veces que el producto fue pedido por primera vez / el total de ventas del producto\n",
    "df_proportions[ 'proportion_reordered' ] = df_proportions[ 'reordered' ] / df_proportions[ 'total' ]"
   ]
  },
  {
   "cell_type": "code",
   "execution_count": 62,
   "id": "social-individual",
   "metadata": {
    "id": "social-individual"
   },
   "outputs": [
    {
     "data": {
      "text/html": [
       "<div>\n",
       "<style scoped>\n",
       "    .dataframe tbody tr th:only-of-type {\n",
       "        vertical-align: middle;\n",
       "    }\n",
       "\n",
       "    .dataframe tbody tr th {\n",
       "        vertical-align: top;\n",
       "    }\n",
       "\n",
       "    .dataframe thead th {\n",
       "        text-align: right;\n",
       "    }\n",
       "</style>\n",
       "<table border=\"1\" class=\"dataframe\">\n",
       "  <thead>\n",
       "    <tr style=\"text-align: right;\">\n",
       "      <th></th>\n",
       "      <th>first_order</th>\n",
       "      <th>reordered</th>\n",
       "      <th>total</th>\n",
       "      <th>proportion_first_order</th>\n",
       "      <th>proportion_reordered</th>\n",
       "    </tr>\n",
       "    <tr>\n",
       "      <th>product_id</th>\n",
       "      <th></th>\n",
       "      <th></th>\n",
       "      <th></th>\n",
       "      <th></th>\n",
       "      <th></th>\n",
       "    </tr>\n",
       "  </thead>\n",
       "  <tbody>\n",
       "    <tr>\n",
       "      <th>24852</th>\n",
       "      <td>10287</td>\n",
       "      <td>55763</td>\n",
       "      <td>66050</td>\n",
       "      <td>0.155746</td>\n",
       "      <td>0.844254</td>\n",
       "    </tr>\n",
       "    <tr>\n",
       "      <th>13176</th>\n",
       "      <td>8847</td>\n",
       "      <td>44450</td>\n",
       "      <td>53297</td>\n",
       "      <td>0.165994</td>\n",
       "      <td>0.834006</td>\n",
       "    </tr>\n",
       "    <tr>\n",
       "      <th>21137</th>\n",
       "      <td>8400</td>\n",
       "      <td>28639</td>\n",
       "      <td>37039</td>\n",
       "      <td>0.226788</td>\n",
       "      <td>0.773212</td>\n",
       "    </tr>\n",
       "    <tr>\n",
       "      <th>21903</th>\n",
       "      <td>7738</td>\n",
       "      <td>26233</td>\n",
       "      <td>33971</td>\n",
       "      <td>0.227783</td>\n",
       "      <td>0.772217</td>\n",
       "    </tr>\n",
       "    <tr>\n",
       "      <th>47209</th>\n",
       "      <td>6144</td>\n",
       "      <td>23629</td>\n",
       "      <td>29773</td>\n",
       "      <td>0.206361</td>\n",
       "      <td>0.793639</td>\n",
       "    </tr>\n",
       "    <tr>\n",
       "      <th>47766</th>\n",
       "      <td>5946</td>\n",
       "      <td>18743</td>\n",
       "      <td>24689</td>\n",
       "      <td>0.240836</td>\n",
       "      <td>0.759164</td>\n",
       "    </tr>\n",
       "    <tr>\n",
       "      <th>47626</th>\n",
       "      <td>6451</td>\n",
       "      <td>15044</td>\n",
       "      <td>21495</td>\n",
       "      <td>0.300116</td>\n",
       "      <td>0.699884</td>\n",
       "    </tr>\n",
       "    <tr>\n",
       "      <th>16797</th>\n",
       "      <td>6073</td>\n",
       "      <td>13945</td>\n",
       "      <td>20018</td>\n",
       "      <td>0.303377</td>\n",
       "      <td>0.696623</td>\n",
       "    </tr>\n",
       "    <tr>\n",
       "      <th>26209</th>\n",
       "      <td>6363</td>\n",
       "      <td>13327</td>\n",
       "      <td>19690</td>\n",
       "      <td>0.323159</td>\n",
       "      <td>0.676841</td>\n",
       "    </tr>\n",
       "    <tr>\n",
       "      <th>27845</th>\n",
       "      <td>3349</td>\n",
       "      <td>16251</td>\n",
       "      <td>19600</td>\n",
       "      <td>0.170867</td>\n",
       "      <td>0.829133</td>\n",
       "    </tr>\n",
       "    <tr>\n",
       "      <th>27966</th>\n",
       "      <td>4449</td>\n",
       "      <td>14748</td>\n",
       "      <td>19197</td>\n",
       "      <td>0.231755</td>\n",
       "      <td>0.768245</td>\n",
       "    </tr>\n",
       "    <tr>\n",
       "      <th>22935</th>\n",
       "      <td>4753</td>\n",
       "      <td>11145</td>\n",
       "      <td>15898</td>\n",
       "      <td>0.298968</td>\n",
       "      <td>0.701032</td>\n",
       "    </tr>\n",
       "    <tr>\n",
       "      <th>24964</th>\n",
       "      <td>4881</td>\n",
       "      <td>10411</td>\n",
       "      <td>15292</td>\n",
       "      <td>0.319187</td>\n",
       "      <td>0.680813</td>\n",
       "    </tr>\n",
       "    <tr>\n",
       "      <th>45007</th>\n",
       "      <td>4508</td>\n",
       "      <td>10076</td>\n",
       "      <td>14584</td>\n",
       "      <td>0.309106</td>\n",
       "      <td>0.690894</td>\n",
       "    </tr>\n",
       "    <tr>\n",
       "      <th>39275</th>\n",
       "      <td>5080</td>\n",
       "      <td>8799</td>\n",
       "      <td>13879</td>\n",
       "      <td>0.366021</td>\n",
       "      <td>0.633979</td>\n",
       "    </tr>\n",
       "    <tr>\n",
       "      <th>49683</th>\n",
       "      <td>4137</td>\n",
       "      <td>9538</td>\n",
       "      <td>13675</td>\n",
       "      <td>0.302523</td>\n",
       "      <td>0.697477</td>\n",
       "    </tr>\n",
       "    <tr>\n",
       "      <th>28204</th>\n",
       "      <td>3555</td>\n",
       "      <td>8989</td>\n",
       "      <td>12544</td>\n",
       "      <td>0.283402</td>\n",
       "      <td>0.716598</td>\n",
       "    </tr>\n",
       "    <tr>\n",
       "      <th>5876</th>\n",
       "      <td>3820</td>\n",
       "      <td>8412</td>\n",
       "      <td>12232</td>\n",
       "      <td>0.312296</td>\n",
       "      <td>0.687704</td>\n",
       "    </tr>\n",
       "    <tr>\n",
       "      <th>8277</th>\n",
       "      <td>3157</td>\n",
       "      <td>8836</td>\n",
       "      <td>11993</td>\n",
       "      <td>0.263237</td>\n",
       "      <td>0.736763</td>\n",
       "    </tr>\n",
       "    <tr>\n",
       "      <th>40706</th>\n",
       "      <td>3988</td>\n",
       "      <td>7793</td>\n",
       "      <td>11781</td>\n",
       "      <td>0.338511</td>\n",
       "      <td>0.661489</td>\n",
       "    </tr>\n",
       "    <tr>\n",
       "      <th>4920</th>\n",
       "      <td>3905</td>\n",
       "      <td>7850</td>\n",
       "      <td>11755</td>\n",
       "      <td>0.332199</td>\n",
       "      <td>0.667801</td>\n",
       "    </tr>\n",
       "    <tr>\n",
       "      <th>30391</th>\n",
       "      <td>3378</td>\n",
       "      <td>7806</td>\n",
       "      <td>11184</td>\n",
       "      <td>0.302039</td>\n",
       "      <td>0.697961</td>\n",
       "    </tr>\n",
       "    <tr>\n",
       "      <th>45066</th>\n",
       "      <td>3056</td>\n",
       "      <td>8033</td>\n",
       "      <td>11089</td>\n",
       "      <td>0.275588</td>\n",
       "      <td>0.724412</td>\n",
       "    </tr>\n",
       "    <tr>\n",
       "      <th>49235</th>\n",
       "      <td>2363</td>\n",
       "      <td>8389</td>\n",
       "      <td>10752</td>\n",
       "      <td>0.219773</td>\n",
       "      <td>0.780227</td>\n",
       "    </tr>\n",
       "    <tr>\n",
       "      <th>42265</th>\n",
       "      <td>3589</td>\n",
       "      <td>7081</td>\n",
       "      <td>10670</td>\n",
       "      <td>0.336364</td>\n",
       "      <td>0.663636</td>\n",
       "    </tr>\n",
       "    <tr>\n",
       "      <th>19057</th>\n",
       "      <td>2545</td>\n",
       "      <td>8106</td>\n",
       "      <td>10651</td>\n",
       "      <td>0.238945</td>\n",
       "      <td>0.761055</td>\n",
       "    </tr>\n",
       "    <tr>\n",
       "      <th>44632</th>\n",
       "      <td>2390</td>\n",
       "      <td>8187</td>\n",
       "      <td>10577</td>\n",
       "      <td>0.225962</td>\n",
       "      <td>0.774038</td>\n",
       "    </tr>\n",
       "    <tr>\n",
       "      <th>4605</th>\n",
       "      <td>4192</td>\n",
       "      <td>6208</td>\n",
       "      <td>10400</td>\n",
       "      <td>0.403077</td>\n",
       "      <td>0.596923</td>\n",
       "    </tr>\n",
       "    <tr>\n",
       "      <th>37646</th>\n",
       "      <td>2816</td>\n",
       "      <td>7399</td>\n",
       "      <td>10215</td>\n",
       "      <td>0.275673</td>\n",
       "      <td>0.724327</td>\n",
       "    </tr>\n",
       "    <tr>\n",
       "      <th>27104</th>\n",
       "      <td>3627</td>\n",
       "      <td>6567</td>\n",
       "      <td>10194</td>\n",
       "      <td>0.355798</td>\n",
       "      <td>0.644202</td>\n",
       "    </tr>\n",
       "  </tbody>\n",
       "</table>\n",
       "</div>"
      ],
      "text/plain": [
       "            first_order  reordered  total  proportion_first_order  \\\n",
       "product_id                                                          \n",
       "24852             10287      55763  66050                0.155746   \n",
       "13176              8847      44450  53297                0.165994   \n",
       "21137              8400      28639  37039                0.226788   \n",
       "21903              7738      26233  33971                0.227783   \n",
       "47209              6144      23629  29773                0.206361   \n",
       "47766              5946      18743  24689                0.240836   \n",
       "47626              6451      15044  21495                0.300116   \n",
       "16797              6073      13945  20018                0.303377   \n",
       "26209              6363      13327  19690                0.323159   \n",
       "27845              3349      16251  19600                0.170867   \n",
       "27966              4449      14748  19197                0.231755   \n",
       "22935              4753      11145  15898                0.298968   \n",
       "24964              4881      10411  15292                0.319187   \n",
       "45007              4508      10076  14584                0.309106   \n",
       "39275              5080       8799  13879                0.366021   \n",
       "49683              4137       9538  13675                0.302523   \n",
       "28204              3555       8989  12544                0.283402   \n",
       "5876               3820       8412  12232                0.312296   \n",
       "8277               3157       8836  11993                0.263237   \n",
       "40706              3988       7793  11781                0.338511   \n",
       "4920               3905       7850  11755                0.332199   \n",
       "30391              3378       7806  11184                0.302039   \n",
       "45066              3056       8033  11089                0.275588   \n",
       "49235              2363       8389  10752                0.219773   \n",
       "42265              3589       7081  10670                0.336364   \n",
       "19057              2545       8106  10651                0.238945   \n",
       "44632              2390       8187  10577                0.225962   \n",
       "4605               4192       6208  10400                0.403077   \n",
       "37646              2816       7399  10215                0.275673   \n",
       "27104              3627       6567  10194                0.355798   \n",
       "\n",
       "            proportion_reordered  \n",
       "product_id                        \n",
       "24852                   0.844254  \n",
       "13176                   0.834006  \n",
       "21137                   0.773212  \n",
       "21903                   0.772217  \n",
       "47209                   0.793639  \n",
       "47766                   0.759164  \n",
       "47626                   0.699884  \n",
       "16797                   0.696623  \n",
       "26209                   0.676841  \n",
       "27845                   0.829133  \n",
       "27966                   0.768245  \n",
       "22935                   0.701032  \n",
       "24964                   0.680813  \n",
       "45007                   0.690894  \n",
       "39275                   0.633979  \n",
       "49683                   0.697477  \n",
       "28204                   0.716598  \n",
       "5876                    0.687704  \n",
       "8277                    0.736763  \n",
       "40706                   0.661489  \n",
       "4920                    0.667801  \n",
       "30391                   0.697961  \n",
       "45066                   0.724412  \n",
       "49235                   0.780227  \n",
       "42265                   0.663636  \n",
       "19057                   0.761055  \n",
       "44632                   0.774038  \n",
       "4605                    0.596923  \n",
       "37646                   0.724327  \n",
       "27104                   0.644202  "
      ]
     },
     "execution_count": 62,
     "metadata": {},
     "output_type": "execute_result"
    }
   ],
   "source": [
    "#Muestra el resultado\n",
    "#Se ordenan los datos para ver primero los productos con más ventas totales\n",
    "df_proportions.sort_values( by = 'total', ascending = False ).head( 30 )"
   ]
  },
  {
   "cell_type": "markdown",
   "id": "I10dEIAyldcO",
   "metadata": {
    "id": "I10dEIAyldcO"
   },
   "source": [
    "Se puede observar que la proporcion de recompra es mayor que la de compra por primera vez en muchos productos, a la gente le gusta lo que compra y lo sigue haciendo "
   ]
  },
  {
   "cell_type": "markdown",
   "id": "subject-boxing",
   "metadata": {
    "id": "subject-boxing"
   },
   "source": [
    "### [C4] Para cada cliente, ¿qué proporción de sus productos ya los había pedido?"
   ]
  },
  {
   "cell_type": "code",
   "execution_count": 63,
   "id": "medical-couple",
   "metadata": {
    "id": "medical-couple",
    "scrolled": true
   },
   "outputs": [],
   "source": [
    "# Crea un DataFreme con la cantidad de pedidos ordenados por primera vez y reordenados por cada usuario\n",
    "#Lo primero será saber que usuario compró cada producto, para eso debemos unir los DataFrames df_order_products, df_instacart_orders en 'order_id'  \n",
    "df_temp = pd.merge( df_order_products, df_instacart_orders, on = 'order_id' )\n",
    "\n",
    "# Ahora con la ayuda de pivot_table() agruparemos los productos comprados por primera vez y los productos reordenados por cada usuario y aplicaremos la función de agregación count() para obtener el total de cada grupo  \n",
    "df_proportions = df_temp.pivot_table( index = 'user_id', columns = 'reordered', values = 'order_id', aggfunc = 'count', fill_value = 0 )\n",
    "\n",
    "# Ahora le daremos nombres más claros a las columnas\n",
    "df_proportions.columns = [ 'first_order', 'reordered' ]\n",
    "\n",
    "# Crearemos la columna total para poder ver los datos con mayor claridad\n",
    "df_proportions[ 'total' ] = df_proportions[ 'first_order' ] + df_proportions[ 'reordered' ]"
   ]
  },
  {
   "cell_type": "code",
   "execution_count": 64,
   "id": "8892e4b4",
   "metadata": {
    "id": "8892e4b4"
   },
   "outputs": [],
   "source": [
    "#Calcula las proporciones que se solicitaron\n",
    "#Calcularemos la proporción del total de veces que el producto fue pedido por primera vez / el total de pedidos del usuario\n",
    "df_proportions[ 'proportion_first_order' ] = df_proportions[ 'first_order' ] / df_proportions[ 'total' ]\n",
    "\n",
    "#Calcularemos la proporción del total de veces que el producto fue pedido por primera vez / el total de pedidos del usuario\n",
    "\n",
    "df_proportions[ 'proportion_reordered' ] = df_proportions[ 'reordered' ] / df_proportions[ 'total' ]"
   ]
  },
  {
   "cell_type": "code",
   "execution_count": 65,
   "id": "a6fda8e8",
   "metadata": {},
   "outputs": [
    {
     "data": {
      "text/html": [
       "<div>\n",
       "<style scoped>\n",
       "    .dataframe tbody tr th:only-of-type {\n",
       "        vertical-align: middle;\n",
       "    }\n",
       "\n",
       "    .dataframe tbody tr th {\n",
       "        vertical-align: top;\n",
       "    }\n",
       "\n",
       "    .dataframe thead th {\n",
       "        text-align: right;\n",
       "    }\n",
       "</style>\n",
       "<table border=\"1\" class=\"dataframe\">\n",
       "  <thead>\n",
       "    <tr style=\"text-align: right;\">\n",
       "      <th></th>\n",
       "      <th>first_order</th>\n",
       "      <th>reordered</th>\n",
       "      <th>total</th>\n",
       "      <th>proportion_first_order</th>\n",
       "      <th>proportion_reordered</th>\n",
       "    </tr>\n",
       "    <tr>\n",
       "      <th>user_id</th>\n",
       "      <th></th>\n",
       "      <th></th>\n",
       "      <th></th>\n",
       "      <th></th>\n",
       "      <th></th>\n",
       "    </tr>\n",
       "  </thead>\n",
       "  <tbody>\n",
       "    <tr>\n",
       "      <th>103634</th>\n",
       "      <td>103</td>\n",
       "      <td>477</td>\n",
       "      <td>580</td>\n",
       "      <td>0.177586</td>\n",
       "      <td>0.822414</td>\n",
       "    </tr>\n",
       "    <tr>\n",
       "      <th>33731</th>\n",
       "      <td>103</td>\n",
       "      <td>437</td>\n",
       "      <td>540</td>\n",
       "      <td>0.190741</td>\n",
       "      <td>0.809259</td>\n",
       "    </tr>\n",
       "    <tr>\n",
       "      <th>137629</th>\n",
       "      <td>82</td>\n",
       "      <td>444</td>\n",
       "      <td>526</td>\n",
       "      <td>0.155894</td>\n",
       "      <td>0.844106</td>\n",
       "    </tr>\n",
       "    <tr>\n",
       "      <th>23371</th>\n",
       "      <td>78</td>\n",
       "      <td>428</td>\n",
       "      <td>506</td>\n",
       "      <td>0.154150</td>\n",
       "      <td>0.845850</td>\n",
       "    </tr>\n",
       "    <tr>\n",
       "      <th>164055</th>\n",
       "      <td>55</td>\n",
       "      <td>449</td>\n",
       "      <td>504</td>\n",
       "      <td>0.109127</td>\n",
       "      <td>0.890873</td>\n",
       "    </tr>\n",
       "    <tr>\n",
       "      <th>...</th>\n",
       "      <td>...</td>\n",
       "      <td>...</td>\n",
       "      <td>...</td>\n",
       "      <td>...</td>\n",
       "      <td>...</td>\n",
       "    </tr>\n",
       "    <tr>\n",
       "      <th>82057</th>\n",
       "      <td>0</td>\n",
       "      <td>1</td>\n",
       "      <td>1</td>\n",
       "      <td>0.000000</td>\n",
       "      <td>1.000000</td>\n",
       "    </tr>\n",
       "    <tr>\n",
       "      <th>114847</th>\n",
       "      <td>0</td>\n",
       "      <td>1</td>\n",
       "      <td>1</td>\n",
       "      <td>0.000000</td>\n",
       "      <td>1.000000</td>\n",
       "    </tr>\n",
       "    <tr>\n",
       "      <th>178865</th>\n",
       "      <td>0</td>\n",
       "      <td>1</td>\n",
       "      <td>1</td>\n",
       "      <td>0.000000</td>\n",
       "      <td>1.000000</td>\n",
       "    </tr>\n",
       "    <tr>\n",
       "      <th>34774</th>\n",
       "      <td>1</td>\n",
       "      <td>0</td>\n",
       "      <td>1</td>\n",
       "      <td>1.000000</td>\n",
       "      <td>0.000000</td>\n",
       "    </tr>\n",
       "    <tr>\n",
       "      <th>123119</th>\n",
       "      <td>0</td>\n",
       "      <td>1</td>\n",
       "      <td>1</td>\n",
       "      <td>0.000000</td>\n",
       "      <td>1.000000</td>\n",
       "    </tr>\n",
       "  </tbody>\n",
       "</table>\n",
       "<p>149626 rows × 5 columns</p>\n",
       "</div>"
      ],
      "text/plain": [
       "         first_order  reordered  total  proportion_first_order  \\\n",
       "user_id                                                          \n",
       "103634           103        477    580                0.177586   \n",
       "33731            103        437    540                0.190741   \n",
       "137629            82        444    526                0.155894   \n",
       "23371             78        428    506                0.154150   \n",
       "164055            55        449    504                0.109127   \n",
       "...              ...        ...    ...                     ...   \n",
       "82057              0          1      1                0.000000   \n",
       "114847             0          1      1                0.000000   \n",
       "178865             0          1      1                0.000000   \n",
       "34774              1          0      1                1.000000   \n",
       "123119             0          1      1                0.000000   \n",
       "\n",
       "         proportion_reordered  \n",
       "user_id                        \n",
       "103634               0.822414  \n",
       "33731                0.809259  \n",
       "137629               0.844106  \n",
       "23371                0.845850  \n",
       "164055               0.890873  \n",
       "...                       ...  \n",
       "82057                1.000000  \n",
       "114847               1.000000  \n",
       "178865               1.000000  \n",
       "34774                0.000000  \n",
       "123119               1.000000  \n",
       "\n",
       "[149626 rows x 5 columns]"
      ]
     },
     "execution_count": 65,
     "metadata": {},
     "output_type": "execute_result"
    }
   ],
   "source": [
    "\n",
    "#Muestra el resultado\n",
    "#Se ordenan los datos para ver primero los usuarios con más productos comprados en total\n",
    "df_proportions.sort_values( by = 'total', ascending = False )\n"
   ]
  },
  {
   "cell_type": "markdown",
   "id": "BgJSvXDsleXz",
   "metadata": {
    "id": "BgJSvXDsleXz"
   },
   "source": [
    "Los usuarios tienen una proporción de recompra bastante alta, lo que indica que se mantienen leales a ciertos productos"
   ]
  },
  {
   "cell_type": "markdown",
   "id": "92d35137",
   "metadata": {
    "id": "92d35137"
   },
   "source": [
    "### [C5] ¿Cuáles son los 20 principales artículos que las personas ponen primero en sus carritos?"
   ]
  },
  {
   "cell_type": "code",
   "execution_count": 66,
   "id": "0ae57274",
   "metadata": {
    "id": "0ae57274",
    "scrolled": true
   },
   "outputs": [],
   "source": [
    "#Crea un DataFrame para almacenar los 20 principales articulos que se ponen primero en el carrito\n",
    "#Primero filtraremos todos los productos que en algún momento fueron los primeros en ser agregados a un pedido\n",
    "df_first_products = df_order_products.query( 'add_to_cart_order == 1' )\n",
    "\n",
    "#Ahora agruparemos el DataFrame resultante del paso anterior por 'product_id' y aplicaremos count() para obtener el total de veces que cada prodducto fue el primero en ser agregado\n",
    "df_first_products = df_first_products.groupby( by = 'product_id', as_index = False ).count().sort_values( 'order_id', ascending = False )\n",
    "\n",
    "#Ahora que tenemos un DataFrame agrupado solo necesitamos 2 columnas una con el ID de los productos y cualquier otra columna( todas contienen el total de veces que el producto fue el primero en ser agregado al carrito )\n",
    "df_first_products = df_first_products[ [ 'product_id', 'order_id' ] ]\n",
    "\n",
    "#Por último nombraremos a las columnas de una forma más clara\n",
    "df_first_products.columns = [ 'product_id', 'firs_in_cart' ]\n",
    "\n",
    "#Ahora solo recortaremos el DataFrame df_first_products para obtener los 20 más colocados primero en el pedido\n",
    "df_first_products = df_first_products.iloc[ 0:20 ]\n"
   ]
  },
  {
   "cell_type": "code",
   "execution_count": 67,
   "id": "forty-netherlands",
   "metadata": {
    "id": "forty-netherlands",
    "scrolled": true
   },
   "outputs": [
    {
     "data": {
      "text/html": [
       "<div>\n",
       "<style scoped>\n",
       "    .dataframe tbody tr th:only-of-type {\n",
       "        vertical-align: middle;\n",
       "    }\n",
       "\n",
       "    .dataframe tbody tr th {\n",
       "        vertical-align: top;\n",
       "    }\n",
       "\n",
       "    .dataframe thead th {\n",
       "        text-align: right;\n",
       "    }\n",
       "</style>\n",
       "<table border=\"1\" class=\"dataframe\">\n",
       "  <thead>\n",
       "    <tr style=\"text-align: right;\">\n",
       "      <th></th>\n",
       "      <th>product_id</th>\n",
       "      <th>firs_in_cart</th>\n",
       "      <th>product_name</th>\n",
       "    </tr>\n",
       "  </thead>\n",
       "  <tbody>\n",
       "    <tr>\n",
       "      <th>0</th>\n",
       "      <td>24852</td>\n",
       "      <td>15562</td>\n",
       "      <td>Banana</td>\n",
       "    </tr>\n",
       "    <tr>\n",
       "      <th>1</th>\n",
       "      <td>13176</td>\n",
       "      <td>11026</td>\n",
       "      <td>Bag of Organic Bananas</td>\n",
       "    </tr>\n",
       "    <tr>\n",
       "      <th>2</th>\n",
       "      <td>27845</td>\n",
       "      <td>4363</td>\n",
       "      <td>Organic Whole Milk</td>\n",
       "    </tr>\n",
       "    <tr>\n",
       "      <th>3</th>\n",
       "      <td>21137</td>\n",
       "      <td>3946</td>\n",
       "      <td>Organic Strawberries</td>\n",
       "    </tr>\n",
       "    <tr>\n",
       "      <th>4</th>\n",
       "      <td>47209</td>\n",
       "      <td>3390</td>\n",
       "      <td>Organic Hass Avocado</td>\n",
       "    </tr>\n",
       "    <tr>\n",
       "      <th>5</th>\n",
       "      <td>21903</td>\n",
       "      <td>3336</td>\n",
       "      <td>Organic Baby Spinach</td>\n",
       "    </tr>\n",
       "    <tr>\n",
       "      <th>6</th>\n",
       "      <td>47766</td>\n",
       "      <td>3044</td>\n",
       "      <td>Organic Avocado</td>\n",
       "    </tr>\n",
       "    <tr>\n",
       "      <th>7</th>\n",
       "      <td>19660</td>\n",
       "      <td>2336</td>\n",
       "      <td>Spring Water</td>\n",
       "    </tr>\n",
       "    <tr>\n",
       "      <th>8</th>\n",
       "      <td>16797</td>\n",
       "      <td>2308</td>\n",
       "      <td>Strawberries</td>\n",
       "    </tr>\n",
       "    <tr>\n",
       "      <th>9</th>\n",
       "      <td>27966</td>\n",
       "      <td>2024</td>\n",
       "      <td>Organic Raspberries</td>\n",
       "    </tr>\n",
       "    <tr>\n",
       "      <th>10</th>\n",
       "      <td>44632</td>\n",
       "      <td>1914</td>\n",
       "      <td>Sparkling Water Grapefruit</td>\n",
       "    </tr>\n",
       "    <tr>\n",
       "      <th>11</th>\n",
       "      <td>49235</td>\n",
       "      <td>1797</td>\n",
       "      <td>Organic Half &amp; Half</td>\n",
       "    </tr>\n",
       "    <tr>\n",
       "      <th>12</th>\n",
       "      <td>47626</td>\n",
       "      <td>1737</td>\n",
       "      <td>Large Lemon</td>\n",
       "    </tr>\n",
       "    <tr>\n",
       "      <th>13</th>\n",
       "      <td>196</td>\n",
       "      <td>1733</td>\n",
       "      <td>Soda</td>\n",
       "    </tr>\n",
       "    <tr>\n",
       "      <th>14</th>\n",
       "      <td>38689</td>\n",
       "      <td>1397</td>\n",
       "      <td>Organic Reduced Fat Milk</td>\n",
       "    </tr>\n",
       "    <tr>\n",
       "      <th>15</th>\n",
       "      <td>26209</td>\n",
       "      <td>1370</td>\n",
       "      <td>Limes</td>\n",
       "    </tr>\n",
       "    <tr>\n",
       "      <th>16</th>\n",
       "      <td>12341</td>\n",
       "      <td>1340</td>\n",
       "      <td>Hass Avocados</td>\n",
       "    </tr>\n",
       "    <tr>\n",
       "      <th>17</th>\n",
       "      <td>5785</td>\n",
       "      <td>1310</td>\n",
       "      <td>Organic Reduced Fat 2% Milk</td>\n",
       "    </tr>\n",
       "    <tr>\n",
       "      <th>18</th>\n",
       "      <td>27086</td>\n",
       "      <td>1309</td>\n",
       "      <td>Half &amp; Half</td>\n",
       "    </tr>\n",
       "    <tr>\n",
       "      <th>19</th>\n",
       "      <td>43352</td>\n",
       "      <td>1246</td>\n",
       "      <td>Raspberries</td>\n",
       "    </tr>\n",
       "  </tbody>\n",
       "</table>\n",
       "</div>"
      ],
      "text/plain": [
       "    product_id  firs_in_cart                 product_name\n",
       "0        24852         15562                       Banana\n",
       "1        13176         11026       Bag of Organic Bananas\n",
       "2        27845          4363           Organic Whole Milk\n",
       "3        21137          3946         Organic Strawberries\n",
       "4        47209          3390         Organic Hass Avocado\n",
       "5        21903          3336         Organic Baby Spinach\n",
       "6        47766          3044              Organic Avocado\n",
       "7        19660          2336                 Spring Water\n",
       "8        16797          2308                 Strawberries\n",
       "9        27966          2024          Organic Raspberries\n",
       "10       44632          1914   Sparkling Water Grapefruit\n",
       "11       49235          1797          Organic Half & Half\n",
       "12       47626          1737                  Large Lemon\n",
       "13         196          1733                         Soda\n",
       "14       38689          1397     Organic Reduced Fat Milk\n",
       "15       26209          1370                        Limes\n",
       "16       12341          1340                Hass Avocados\n",
       "17        5785          1310  Organic Reduced Fat 2% Milk\n",
       "18       27086          1309                  Half & Half\n",
       "19       43352          1246                  Raspberries"
      ]
     },
     "execution_count": 67,
     "metadata": {},
     "output_type": "execute_result"
    }
   ],
   "source": [
    "#Agrega el nombre de los productos al DataFrame anterior y muestra el resultado\n",
    "#Con la ayuda de merge() uniremos el DataFrame df_first_products con el DataFrame de products con el objetivo de agregar los nombres de los productos a nuestro DataFrame df_first_products\n",
    "df_first_products = df_first_products.merge( df_products, on = 'product_id' )\n",
    "\n",
    "#Solo nos quedaremos con las columnas de ID, cantidad vendida y nombre del producto\n",
    "df_first_products = df_first_products[ ['product_id', 'firs_in_cart', 'product_name'] ]\n",
    "\n",
    "#Mostramos el top 20 de los productos más vendidos\n",
    "df_first_products"
   ]
  },
  {
   "cell_type": "code",
   "execution_count": 68,
   "id": "08e41ec2",
   "metadata": {
    "id": "08e41ec2"
   },
   "outputs": [
    {
     "data": {
      "image/png": "[encoded data removed]",
      "text/plain": [
       "<Figure size 1000x400 with 1 Axes>"
      ]
     },
     "metadata": {},
     "output_type": "display_data"
    }
   ],
   "source": [
    "#Grafica el resultado para poder comparar los productos\n",
    "\n",
    "df_first_products.plot(\n",
    "    title = 'Frutas y verduras son lo primero',\n",
    "    kind = 'bar',\n",
    "    x = 'product_name',\n",
    "    y = 'firs_in_cart',\n",
    "    xlabel = 'Productos',\n",
    "    ylabel = 'Veces colocados primero en el carrito',\n",
    "    legend = False,\n",
    "    figsize = [10,4],\n",
    "    grid = True\n",
    ")\n",
    "\n",
    "plt.show()"
   ]
  },
  {
   "cell_type": "markdown",
   "id": "28ce9872",
   "metadata": {
    "id": "28ce9872"
   },
   "source": [
    "De nuevo el gráfico de los 20 más vendidos se parece mucho a este de aquí, se nota que los usuarios tienen una fuerte preferencia hacía estos productos"
   ]
  },
  {
   "cell_type": "markdown",
   "id": "uITbFCEoDosC",
   "metadata": {
    "id": "uITbFCEoDosC"
   },
   "source": [
    "### Conclusion general del proyecto:"
   ]
  },
  {
   "cell_type": "markdown",
   "id": "b16a3d33",
   "metadata": {
    "id": "Nk-4GS7mDwqY"
   },
   "source": [
    "Despúes del analisis es muy obvio que la gente busca principalmente productos veganos en instacart y apesar de que según los datos muchas personas solo compran una vez en la plataforma y no lo vuelven a hacer muchas otras se mantienen leales y compran una gran cantidad de articulos, es por eso que en proporción la mayoria de las compras son de productos que ya se han pedido con anterioridad.\n",
    "\n",
    "Este proyecto sin duda se sintó más desafiante que los anteriores pero me siento feliz porque al realizarlo aprendí y entendí muchas cosas que estoy seguro me servirán más adelante. Aunque sé que el proyecto no ha sido calificado y quiza tenga que corregir o cambiar algunas cosas, o muchas ,me siento muy feliz por haberlo terminado."
   ]
  }
 ],
 "metadata": {
  "ExecuteTimeLog": [
   {
    "duration": 461,
    "start_time": "2024-06-07T18:38:37.557Z"
   },
   {
    "duration": 1891,
    "start_time": "2024-06-07T18:43:13.090Z"
   },
   {
    "duration": 19,
    "start_time": "2024-06-07T18:45:01.675Z"
   },
   {
    "duration": 23,
    "start_time": "2024-06-07T18:46:23.583Z"
   },
   {
    "duration": 15,
    "start_time": "2024-06-07T18:46:25.395Z"
   },
   {
    "duration": 14,
    "start_time": "2024-06-07T18:46:27.472Z"
   },
   {
    "duration": 14,
    "start_time": "2024-06-07T18:46:29.204Z"
   },
   {
    "duration": 58,
    "start_time": "2024-06-07T18:48:14.298Z"
   },
   {
    "duration": 45,
    "start_time": "2024-06-07T18:48:36.120Z"
   },
   {
    "duration": 48,
    "start_time": "2024-06-07T18:48:58.207Z"
   },
   {
    "duration": 42,
    "start_time": "2024-06-07T18:49:14.669Z"
   },
   {
    "duration": 24,
    "start_time": "2024-06-07T18:51:19.685Z"
   },
   {
    "duration": 25,
    "start_time": "2024-06-07T18:51:34.814Z"
   },
   {
    "duration": 20,
    "start_time": "2024-06-07T18:51:55.175Z"
   },
   {
    "duration": 24,
    "start_time": "2024-06-07T18:52:06.788Z"
   },
   {
    "duration": 345,
    "start_time": "2024-06-07T18:52:32.076Z"
   },
   {
    "duration": 229,
    "start_time": "2024-06-07T18:57:50.741Z"
   },
   {
    "duration": 45,
    "start_time": "2024-06-07T18:58:16.637Z"
   },
   {
    "duration": 336,
    "start_time": "2024-06-07T23:16:44.372Z"
   },
   {
    "duration": 440,
    "start_time": "2024-06-07T23:16:51.766Z"
   },
   {
    "duration": 1763,
    "start_time": "2024-06-07T23:16:53.890Z"
   },
   {
    "duration": 49,
    "start_time": "2024-06-07T23:16:57.427Z"
   },
   {
    "duration": 24,
    "start_time": "2024-06-07T23:17:03.979Z"
   },
   {
    "duration": 20,
    "start_time": "2024-06-07T23:17:09.024Z"
   },
   {
    "duration": 31,
    "start_time": "2024-06-07T23:17:15.795Z"
   },
   {
    "duration": 391,
    "start_time": "2024-06-07T23:17:19.884Z"
   },
   {
    "duration": 428,
    "start_time": "2024-06-07T23:20:23.937Z"
   },
   {
    "duration": 37,
    "start_time": "2024-06-07T23:22:11.537Z"
   },
   {
    "duration": 56,
    "start_time": "2024-06-07T23:29:34.987Z"
   },
   {
    "duration": 22,
    "start_time": "2024-06-07T23:29:51.199Z"
   },
   {
    "duration": 168,
    "start_time": "2024-06-07T23:30:16.475Z"
   },
   {
    "duration": 215,
    "start_time": "2024-06-07T23:30:23.809Z"
   },
   {
    "duration": 829,
    "start_time": "2024-06-07T23:30:42.245Z"
   },
   {
    "duration": 262,
    "start_time": "2024-06-07T23:32:08.868Z"
   },
   {
    "duration": 182,
    "start_time": "2024-06-07T23:32:29.443Z"
   },
   {
    "duration": 46,
    "start_time": "2024-06-07T23:35:42.336Z"
   },
   {
    "duration": 48,
    "start_time": "2024-06-07T23:37:52.571Z"
   },
   {
    "duration": 26,
    "start_time": "2024-06-07T23:38:20.720Z"
   },
   {
    "duration": 1527,
    "start_time": "2024-06-07T23:38:51.370Z"
   },
   {
    "duration": 59,
    "start_time": "2024-06-07T23:38:59.680Z"
   },
   {
    "duration": 28,
    "start_time": "2024-06-07T23:39:03.377Z"
   },
   {
    "duration": 21,
    "start_time": "2024-06-07T23:39:06.618Z"
   },
   {
    "duration": 23,
    "start_time": "2024-06-07T23:39:08.852Z"
   },
   {
    "duration": 346,
    "start_time": "2024-06-07T23:39:12.249Z"
   },
   {
    "duration": 28,
    "start_time": "2024-06-07T23:39:17.366Z"
   },
   {
    "duration": 23,
    "start_time": "2024-06-07T23:39:52.873Z"
   },
   {
    "duration": 1496,
    "start_time": "2024-06-07T23:39:54.689Z"
   },
   {
    "duration": 41,
    "start_time": "2024-06-07T23:39:56.538Z"
   },
   {
    "duration": 25,
    "start_time": "2024-06-07T23:39:59.401Z"
   },
   {
    "duration": 22,
    "start_time": "2024-06-07T23:40:01.930Z"
   },
   {
    "duration": 24,
    "start_time": "2024-06-07T23:40:04.544Z"
   },
   {
    "duration": 371,
    "start_time": "2024-06-07T23:40:06.951Z"
   },
   {
    "duration": 54,
    "start_time": "2024-06-07T23:40:13.899Z"
   },
   {
    "duration": 83,
    "start_time": "2024-06-07T23:42:06.608Z"
   },
   {
    "duration": 96,
    "start_time": "2024-06-07T23:42:20.097Z"
   },
   {
    "duration": 95,
    "start_time": "2024-06-07T23:42:26.803Z"
   },
   {
    "duration": 97,
    "start_time": "2024-06-07T23:42:36.796Z"
   },
   {
    "duration": 90,
    "start_time": "2024-06-07T23:42:49.085Z"
   },
   {
    "duration": 94,
    "start_time": "2024-06-07T23:43:06.241Z"
   },
   {
    "duration": 46,
    "start_time": "2024-06-07T23:44:38.671Z"
   },
   {
    "duration": 84,
    "start_time": "2024-06-07T23:44:46.836Z"
   },
   {
    "duration": 112,
    "start_time": "2024-06-07T23:49:37.868Z"
   },
   {
    "duration": 89,
    "start_time": "2024-06-07T23:50:35.952Z"
   },
   {
    "duration": 22,
    "start_time": "2024-06-07T23:53:21.156Z"
   },
   {
    "duration": 27,
    "start_time": "2024-06-07T23:53:37.103Z"
   },
   {
    "duration": 27,
    "start_time": "2024-06-07T23:54:42.747Z"
   },
   {
    "duration": 18,
    "start_time": "2024-06-07T23:54:50.658Z"
   },
   {
    "duration": 11,
    "start_time": "2024-06-07T23:55:20.817Z"
   },
   {
    "duration": 19,
    "start_time": "2024-06-07T23:55:28.619Z"
   },
   {
    "duration": 18,
    "start_time": "2024-06-07T23:56:11.263Z"
   },
   {
    "duration": 23,
    "start_time": "2024-06-07T23:57:56.024Z"
   },
   {
    "duration": 18,
    "start_time": "2024-06-07T23:58:51.412Z"
   },
   {
    "duration": 19,
    "start_time": "2024-06-07T23:59:25.996Z"
   },
   {
    "duration": 23,
    "start_time": "2024-06-08T00:00:13.472Z"
   },
   {
    "duration": 15,
    "start_time": "2024-06-08T00:01:21.553Z"
   },
   {
    "duration": 16,
    "start_time": "2024-06-08T00:01:48.510Z"
   },
   {
    "duration": 19,
    "start_time": "2024-06-08T00:02:07.520Z"
   },
   {
    "duration": 83,
    "start_time": "2024-06-08T00:02:11.308Z"
   },
   {
    "duration": 19,
    "start_time": "2024-06-08T00:09:16.815Z"
   },
   {
    "duration": 9,
    "start_time": "2024-06-08T00:16:11.896Z"
   },
   {
    "duration": 19,
    "start_time": "2024-06-08T00:16:21.342Z"
   },
   {
    "duration": 22,
    "start_time": "2024-06-08T00:21:25.849Z"
   },
   {
    "duration": 19,
    "start_time": "2024-06-08T00:21:33.246Z"
   },
   {
    "duration": 20,
    "start_time": "2024-06-08T00:22:37.677Z"
   },
   {
    "duration": 20,
    "start_time": "2024-06-08T00:24:49.939Z"
   },
   {
    "duration": 23,
    "start_time": "2024-06-08T00:25:27.352Z"
   },
   {
    "duration": 18,
    "start_time": "2024-06-08T00:25:47.590Z"
   },
   {
    "duration": 20,
    "start_time": "2024-06-08T00:26:34.434Z"
   },
   {
    "duration": 24,
    "start_time": "2024-06-08T00:29:26.815Z"
   },
   {
    "duration": 26,
    "start_time": "2024-06-08T00:29:44.680Z"
   },
   {
    "duration": 21,
    "start_time": "2024-06-08T00:30:48.904Z"
   },
   {
    "duration": 9,
    "start_time": "2024-06-08T00:32:52.866Z"
   },
   {
    "duration": 10,
    "start_time": "2024-06-08T00:32:57.524Z"
   },
   {
    "duration": 47,
    "start_time": "2024-06-08T00:33:04.448Z"
   },
   {
    "duration": 52,
    "start_time": "2024-06-08T00:35:17.786Z"
   },
   {
    "duration": 21,
    "start_time": "2024-06-08T00:35:25.665Z"
   },
   {
    "duration": 20,
    "start_time": "2024-06-08T00:35:30.476Z"
   },
   {
    "duration": 201,
    "start_time": "2024-06-08T00:48:46.651Z"
   },
   {
    "duration": 246,
    "start_time": "2024-06-08T00:49:49.664Z"
   },
   {
    "duration": 189,
    "start_time": "2024-06-08T00:50:06.376Z"
   },
   {
    "duration": 253,
    "start_time": "2024-06-08T00:50:47.926Z"
   },
   {
    "duration": 220,
    "start_time": "2024-06-08T00:50:57.067Z"
   },
   {
    "duration": 193,
    "start_time": "2024-06-08T00:51:22.621Z"
   },
   {
    "duration": 294,
    "start_time": "2024-06-08T00:51:32.871Z"
   },
   {
    "duration": 325,
    "start_time": "2024-06-08T00:52:21.055Z"
   },
   {
    "duration": 392,
    "start_time": "2024-06-08T00:53:39.934Z"
   },
   {
    "duration": 314,
    "start_time": "2024-06-08T00:54:12.032Z"
   },
   {
    "duration": 1088,
    "start_time": "2024-06-08T00:54:14.151Z"
   },
   {
    "duration": 340,
    "start_time": "2024-06-08T00:54:22.383Z"
   },
   {
    "duration": 432,
    "start_time": "2024-06-08T00:54:40.345Z"
   },
   {
    "duration": 386,
    "start_time": "2024-06-08T00:54:49.486Z"
   },
   {
    "duration": 3,
    "start_time": "2024-06-08T00:55:12.076Z"
   },
   {
    "duration": 1521,
    "start_time": "2024-06-08T00:55:13.622Z"
   },
   {
    "duration": 39,
    "start_time": "2024-06-08T00:55:15.673Z"
   },
   {
    "duration": 25,
    "start_time": "2024-06-08T00:55:19.067Z"
   },
   {
    "duration": 21,
    "start_time": "2024-06-08T00:55:21.213Z"
   },
   {
    "duration": 21,
    "start_time": "2024-06-08T00:55:25.633Z"
   },
   {
    "duration": 398,
    "start_time": "2024-06-08T00:55:27.826Z"
   },
   {
    "duration": 99,
    "start_time": "2024-06-08T00:55:32.355Z"
   },
   {
    "duration": 22,
    "start_time": "2024-06-08T00:55:36.037Z"
   },
   {
    "duration": 231,
    "start_time": "2024-06-08T00:55:39.982Z"
   },
   {
    "duration": 191,
    "start_time": "2024-06-08T00:55:49.415Z"
   },
   {
    "duration": 172,
    "start_time": "2024-06-08T00:56:31.650Z"
   },
   {
    "duration": 171,
    "start_time": "2024-06-08T00:56:38.222Z"
   },
   {
    "duration": 107,
    "start_time": "2024-06-08T00:57:13.454Z"
   },
   {
    "duration": 124,
    "start_time": "2024-06-08T00:57:51.716Z"
   },
   {
    "duration": 384,
    "start_time": "2024-06-08T00:58:15.539Z"
   },
   {
    "duration": 483,
    "start_time": "2024-06-08T00:58:38.609Z"
   },
   {
    "duration": 1539,
    "start_time": "2024-06-08T00:58:40.684Z"
   },
   {
    "duration": 48,
    "start_time": "2024-06-08T00:58:42.760Z"
   },
   {
    "duration": 27,
    "start_time": "2024-06-08T00:58:45.121Z"
   },
   {
    "duration": 30,
    "start_time": "2024-06-08T00:58:47.370Z"
   },
   {
    "duration": 36,
    "start_time": "2024-06-08T00:58:49.638Z"
   },
   {
    "duration": 390,
    "start_time": "2024-06-08T00:58:52.048Z"
   },
   {
    "duration": 366,
    "start_time": "2024-06-08T00:58:56.117Z"
   },
   {
    "duration": 25,
    "start_time": "2024-06-08T00:59:09.749Z"
   },
   {
    "duration": 68,
    "start_time": "2024-06-08T00:59:17.073Z"
   },
   {
    "duration": 65,
    "start_time": "2024-06-08T01:00:00.901Z"
   },
   {
    "duration": 474,
    "start_time": "2024-06-08T01:00:27.928Z"
   },
   {
    "duration": 1605,
    "start_time": "2024-06-08T01:00:29.857Z"
   },
   {
    "duration": 51,
    "start_time": "2024-06-08T01:00:33.679Z"
   },
   {
    "duration": 26,
    "start_time": "2024-06-08T01:00:38.831Z"
   },
   {
    "duration": 25,
    "start_time": "2024-06-08T01:00:41.257Z"
   },
   {
    "duration": 22,
    "start_time": "2024-06-08T01:00:43.088Z"
   },
   {
    "duration": 377,
    "start_time": "2024-06-08T01:00:45.284Z"
   },
   {
    "duration": 392,
    "start_time": "2024-06-08T01:00:51.500Z"
   },
   {
    "duration": 106,
    "start_time": "2024-06-08T01:01:01.417Z"
   },
   {
    "duration": 21,
    "start_time": "2024-06-08T01:01:18.807Z"
   },
   {
    "duration": 210,
    "start_time": "2024-06-08T01:01:24.464Z"
   },
   {
    "duration": 24,
    "start_time": "2024-06-08T01:01:31.248Z"
   },
   {
    "duration": 352,
    "start_time": "2024-06-08T01:01:36.562Z"
   },
   {
    "duration": 172,
    "start_time": "2024-06-08T01:01:48.425Z"
   },
   {
    "duration": 171,
    "start_time": "2024-06-08T01:01:55.499Z"
   },
   {
    "duration": 56,
    "start_time": "2024-06-08T01:02:40.516Z"
   },
   {
    "duration": 54,
    "start_time": "2024-06-08T01:03:10.087Z"
   },
   {
    "duration": 26,
    "start_time": "2024-06-08T01:16:21.369Z"
   },
   {
    "duration": 21,
    "start_time": "2024-06-08T01:17:15.632Z"
   },
   {
    "duration": 25,
    "start_time": "2024-06-08T01:18:53.926Z"
   },
   {
    "duration": 7,
    "start_time": "2024-06-08T01:20:07.760Z"
   },
   {
    "duration": 7,
    "start_time": "2024-06-08T01:24:54.193Z"
   },
   {
    "duration": 5,
    "start_time": "2024-06-08T01:25:17.104Z"
   },
   {
    "duration": 37,
    "start_time": "2024-06-08T01:34:22.419Z"
   },
   {
    "duration": 61,
    "start_time": "2024-06-08T01:36:09.727Z"
   },
   {
    "duration": 34,
    "start_time": "2024-06-08T01:36:18.804Z"
   },
   {
    "duration": 10,
    "start_time": "2024-06-08T01:37:16.967Z"
   },
   {
    "duration": 33,
    "start_time": "2024-06-08T01:37:30.316Z"
   },
   {
    "duration": 74,
    "start_time": "2024-06-08T01:39:51.656Z"
   },
   {
    "duration": 70,
    "start_time": "2024-06-08T01:40:53.051Z"
   },
   {
    "duration": 34,
    "start_time": "2024-06-08T01:42:37.892Z"
   },
   {
    "duration": 74,
    "start_time": "2024-06-08T01:44:25.471Z"
   },
   {
    "duration": 27,
    "start_time": "2024-06-08T01:44:55.508Z"
   },
   {
    "duration": 50,
    "start_time": "2024-06-08T01:45:01.984Z"
   },
   {
    "duration": 47,
    "start_time": "2024-06-08T01:45:11.857Z"
   },
   {
    "duration": 72,
    "start_time": "2024-06-08T01:45:21.346Z"
   },
   {
    "duration": 48,
    "start_time": "2024-06-08T01:45:28.422Z"
   },
   {
    "duration": 25,
    "start_time": "2024-06-08T01:46:07.075Z"
   },
   {
    "duration": 71,
    "start_time": "2024-06-08T01:46:23.662Z"
   },
   {
    "duration": 5,
    "start_time": "2024-06-08T02:49:57.739Z"
   },
   {
    "duration": 12,
    "start_time": "2024-06-08T03:02:00.219Z"
   },
   {
    "duration": 5,
    "start_time": "2024-06-08T03:02:21.096Z"
   },
   {
    "duration": 6,
    "start_time": "2024-06-08T03:07:21.485Z"
   },
   {
    "duration": 714,
    "start_time": "2024-06-08T03:07:37.147Z"
   },
   {
    "duration": 77,
    "start_time": "2024-06-08T03:08:12.468Z"
   },
   {
    "duration": 7,
    "start_time": "2024-06-08T03:08:31.253Z"
   },
   {
    "duration": 8,
    "start_time": "2024-06-08T03:09:11.135Z"
   },
   {
    "duration": 5,
    "start_time": "2024-06-08T03:09:38.035Z"
   },
   {
    "duration": 1477,
    "start_time": "2024-06-08T03:10:07.003Z"
   },
   {
    "duration": 11,
    "start_time": "2024-06-08T03:16:15.782Z"
   },
   {
    "duration": 11,
    "start_time": "2024-06-08T03:19:28.067Z"
   },
   {
    "duration": 21,
    "start_time": "2024-06-08T03:19:34.394Z"
   },
   {
    "duration": 78,
    "start_time": "2024-06-08T03:19:40.712Z"
   },
   {
    "duration": 129,
    "start_time": "2024-06-08T03:21:19.618Z"
   },
   {
    "duration": 94,
    "start_time": "2024-06-08T03:21:34.498Z"
   },
   {
    "duration": 100,
    "start_time": "2024-06-08T03:22:23.472Z"
   },
   {
    "duration": 93,
    "start_time": "2024-06-08T03:22:29.362Z"
   },
   {
    "duration": 89,
    "start_time": "2024-06-08T03:23:16.465Z"
   },
   {
    "duration": 100,
    "start_time": "2024-06-08T03:23:31.480Z"
   },
   {
    "duration": 93,
    "start_time": "2024-06-08T03:23:58.909Z"
   },
   {
    "duration": 94,
    "start_time": "2024-06-08T03:24:16.089Z"
   },
   {
    "duration": 105,
    "start_time": "2024-06-08T03:24:41.020Z"
   },
   {
    "duration": 74,
    "start_time": "2024-06-08T03:24:48.202Z"
   },
   {
    "duration": 93,
    "start_time": "2024-06-08T03:24:53.683Z"
   },
   {
    "duration": 95,
    "start_time": "2024-06-08T03:25:09.195Z"
   },
   {
    "duration": 116,
    "start_time": "2024-06-08T03:25:30.089Z"
   },
   {
    "duration": 7,
    "start_time": "2024-06-08T03:27:13.373Z"
   },
   {
    "duration": 85,
    "start_time": "2024-06-08T03:27:44.968Z"
   },
   {
    "duration": 87,
    "start_time": "2024-06-08T03:27:57.462Z"
   },
   {
    "duration": 5,
    "start_time": "2024-06-08T03:28:13.749Z"
   },
   {
    "duration": 6,
    "start_time": "2024-06-08T03:28:40.464Z"
   },
   {
    "duration": 4,
    "start_time": "2024-06-08T03:33:15.447Z"
   },
   {
    "duration": 10,
    "start_time": "2024-06-08T03:34:04.662Z"
   },
   {
    "duration": 864,
    "start_time": "2024-06-08T03:40:42.821Z"
   },
   {
    "duration": 7,
    "start_time": "2024-06-08T03:41:08.916Z"
   },
   {
    "duration": 115,
    "start_time": "2024-06-08T03:47:37.855Z"
   },
   {
    "duration": 35,
    "start_time": "2024-06-08T04:09:27.685Z"
   },
   {
    "duration": 46,
    "start_time": "2024-06-08T04:12:42.795Z"
   },
   {
    "duration": 49,
    "start_time": "2024-06-08T04:13:18.554Z"
   },
   {
    "duration": 66,
    "start_time": "2024-06-08T04:13:33.719Z"
   },
   {
    "duration": 299,
    "start_time": "2024-06-08T04:33:24.552Z"
   },
   {
    "duration": 483,
    "start_time": "2024-06-08T14:39:23.115Z"
   },
   {
    "duration": 1742,
    "start_time": "2024-06-08T14:39:25.880Z"
   },
   {
    "duration": 49,
    "start_time": "2024-06-08T14:39:29.339Z"
   },
   {
    "duration": 25,
    "start_time": "2024-06-08T14:39:32.318Z"
   },
   {
    "duration": 21,
    "start_time": "2024-06-08T14:39:35.222Z"
   },
   {
    "duration": 19,
    "start_time": "2024-06-08T14:39:37.883Z"
   },
   {
    "duration": 336,
    "start_time": "2024-06-08T14:39:40.549Z"
   },
   {
    "duration": 90,
    "start_time": "2024-06-08T14:39:46.534Z"
   },
   {
    "duration": 19,
    "start_time": "2024-06-08T14:39:50.250Z"
   },
   {
    "duration": 176,
    "start_time": "2024-06-08T14:39:54.677Z"
   },
   {
    "duration": 155,
    "start_time": "2024-06-08T14:39:56.917Z"
   },
   {
    "duration": 45,
    "start_time": "2024-06-08T14:39:59.240Z"
   },
   {
    "duration": 22,
    "start_time": "2024-06-08T14:40:01.635Z"
   },
   {
    "duration": 6,
    "start_time": "2024-06-08T14:40:07.287Z"
   },
   {
    "duration": 74,
    "start_time": "2024-06-08T14:40:38.282Z"
   },
   {
    "duration": 97,
    "start_time": "2024-06-08T14:46:23.715Z"
   },
   {
    "duration": 45,
    "start_time": "2024-06-08T14:47:41.650Z"
   },
   {
    "duration": 54,
    "start_time": "2024-06-08T14:49:48.476Z"
   },
   {
    "duration": 1372,
    "start_time": "2024-06-08T14:52:13.247Z"
   },
   {
    "duration": 74,
    "start_time": "2024-06-08T14:59:31.193Z"
   },
   {
    "duration": 55,
    "start_time": "2024-06-08T14:59:50.399Z"
   },
   {
    "duration": 77,
    "start_time": "2024-06-08T15:00:33.772Z"
   },
   {
    "duration": 70,
    "start_time": "2024-06-08T15:01:15.711Z"
   },
   {
    "duration": 61,
    "start_time": "2024-06-08T15:04:11.325Z"
   },
   {
    "duration": 70,
    "start_time": "2024-06-08T15:06:48.725Z"
   },
   {
    "duration": 53,
    "start_time": "2024-06-08T15:07:04.407Z"
   },
   {
    "duration": 340,
    "start_time": "2024-06-08T15:15:04.915Z"
   },
   {
    "duration": 105,
    "start_time": "2024-06-08T15:15:16.747Z"
   },
   {
    "duration": 96,
    "start_time": "2024-06-08T15:15:56.350Z"
   },
   {
    "duration": 101,
    "start_time": "2024-06-08T15:17:12.846Z"
   },
   {
    "duration": 67,
    "start_time": "2024-06-08T15:21:05.103Z"
   },
   {
    "duration": 68,
    "start_time": "2024-06-08T15:21:06.155Z"
   },
   {
    "duration": 108,
    "start_time": "2024-06-08T15:21:51.233Z"
   },
   {
    "duration": 103,
    "start_time": "2024-06-08T15:22:02.724Z"
   },
   {
    "duration": 17,
    "start_time": "2024-06-08T15:23:39.307Z"
   },
   {
    "duration": 13,
    "start_time": "2024-06-08T15:23:57.883Z"
   },
   {
    "duration": 18,
    "start_time": "2024-06-08T15:24:05.085Z"
   },
   {
    "duration": 18,
    "start_time": "2024-06-08T15:24:27.188Z"
   },
   {
    "duration": 9,
    "start_time": "2024-06-08T15:24:48.458Z"
   },
   {
    "duration": 18,
    "start_time": "2024-06-08T15:24:54.770Z"
   },
   {
    "duration": 678,
    "start_time": "2024-06-08T16:17:52.380Z"
   },
   {
    "duration": 683,
    "start_time": "2024-06-08T16:18:00.920Z"
   },
   {
    "duration": 20,
    "start_time": "2024-06-08T16:19:02.769Z"
   },
   {
    "duration": 115,
    "start_time": "2024-06-08T16:19:22.787Z"
   },
   {
    "duration": 10,
    "start_time": "2024-06-08T16:19:38.939Z"
   },
   {
    "duration": 9,
    "start_time": "2024-06-08T16:19:47.844Z"
   },
   {
    "duration": 8,
    "start_time": "2024-06-08T16:19:54.177Z"
   },
   {
    "duration": 112,
    "start_time": "2024-06-08T16:30:15.233Z"
   },
   {
    "duration": 8,
    "start_time": "2024-06-08T16:30:23.128Z"
   },
   {
    "duration": 8,
    "start_time": "2024-06-08T16:39:46.827Z"
   },
   {
    "duration": 24,
    "start_time": "2024-06-08T17:03:34.185Z"
   },
   {
    "duration": 46,
    "start_time": "2024-06-08T17:04:14.916Z"
   },
   {
    "duration": 67,
    "start_time": "2024-06-08T17:15:36.781Z"
   },
   {
    "duration": 615,
    "start_time": "2024-06-08T17:16:14.199Z"
   },
   {
    "duration": 78,
    "start_time": "2024-06-08T17:17:44.950Z"
   },
   {
    "duration": 458,
    "start_time": "2024-06-08T17:18:14.628Z"
   },
   {
    "duration": 1532,
    "start_time": "2024-06-08T17:18:16.781Z"
   },
   {
    "duration": 52,
    "start_time": "2024-06-08T17:18:19.981Z"
   },
   {
    "duration": 25,
    "start_time": "2024-06-08T17:18:21.711Z"
   },
   {
    "duration": 24,
    "start_time": "2024-06-08T17:18:23.113Z"
   },
   {
    "duration": 21,
    "start_time": "2024-06-08T17:18:24.403Z"
   },
   {
    "duration": 346,
    "start_time": "2024-06-08T17:18:25.734Z"
   },
   {
    "duration": 102,
    "start_time": "2024-06-08T17:18:32.923Z"
   },
   {
    "duration": 20,
    "start_time": "2024-06-08T17:18:36.419Z"
   },
   {
    "duration": 173,
    "start_time": "2024-06-08T17:18:40.582Z"
   },
   {
    "duration": 176,
    "start_time": "2024-06-08T17:18:42.904Z"
   },
   {
    "duration": 46,
    "start_time": "2024-06-08T17:18:45.076Z"
   },
   {
    "duration": 21,
    "start_time": "2024-06-08T17:18:57.564Z"
   },
   {
    "duration": 6,
    "start_time": "2024-06-08T17:18:59.848Z"
   },
   {
    "duration": 47,
    "start_time": "2024-06-08T17:19:04.380Z"
   },
   {
    "duration": 8,
    "start_time": "2024-06-08T17:19:09.445Z"
   },
   {
    "duration": 70,
    "start_time": "2024-06-08T17:19:16.497Z"
   },
   {
    "duration": 923,
    "start_time": "2024-06-08T17:19:30.146Z"
   },
   {
    "duration": 50,
    "start_time": "2024-06-08T17:20:00.918Z"
   },
   {
    "duration": 35,
    "start_time": "2024-06-08T17:35:02.221Z"
   },
   {
    "duration": 6,
    "start_time": "2024-06-08T17:48:31.457Z"
   },
   {
    "duration": 6,
    "start_time": "2024-06-08T17:48:41.598Z"
   },
   {
    "duration": 5,
    "start_time": "2024-06-08T17:49:17.034Z"
   },
   {
    "duration": 5,
    "start_time": "2024-06-08T17:49:26.753Z"
   },
   {
    "duration": 9,
    "start_time": "2024-06-08T17:51:59.504Z"
   },
   {
    "duration": 8,
    "start_time": "2024-06-08T17:52:47.951Z"
   },
   {
    "duration": 25,
    "start_time": "2024-06-08T17:53:05.179Z"
   },
   {
    "duration": 13,
    "start_time": "2024-06-08T17:53:22.521Z"
   },
   {
    "duration": 497,
    "start_time": "2024-06-08T19:33:54.838Z"
   },
   {
    "duration": 1897,
    "start_time": "2024-06-08T19:33:57.158Z"
   },
   {
    "duration": 69,
    "start_time": "2024-06-08T19:34:01.164Z"
   },
   {
    "duration": 29,
    "start_time": "2024-06-08T19:34:04.756Z"
   },
   {
    "duration": 23,
    "start_time": "2024-06-08T19:34:07.421Z"
   },
   {
    "duration": 29,
    "start_time": "2024-06-08T19:34:09.867Z"
   },
   {
    "duration": 395,
    "start_time": "2024-06-08T19:34:12.531Z"
   },
   {
    "duration": 105,
    "start_time": "2024-06-08T19:34:17.473Z"
   },
   {
    "duration": 23,
    "start_time": "2024-06-08T19:34:23.104Z"
   },
   {
    "duration": 179,
    "start_time": "2024-06-08T19:34:28.992Z"
   },
   {
    "duration": 194,
    "start_time": "2024-06-08T19:34:32.862Z"
   },
   {
    "duration": 157,
    "start_time": "2024-06-08T19:34:35.391Z"
   },
   {
    "duration": 47,
    "start_time": "2024-06-08T19:34:37.587Z"
   },
   {
    "duration": 30,
    "start_time": "2024-06-08T19:34:40.828Z"
   },
   {
    "duration": 6,
    "start_time": "2024-06-08T19:34:42.907Z"
   },
   {
    "duration": 53,
    "start_time": "2024-06-08T19:34:44.991Z"
   },
   {
    "duration": 9,
    "start_time": "2024-06-08T19:34:47.776Z"
   },
   {
    "duration": 69,
    "start_time": "2024-06-08T19:34:50.113Z"
   },
   {
    "duration": 89,
    "start_time": "2024-06-08T19:34:55.131Z"
   },
   {
    "duration": 44,
    "start_time": "2024-06-08T19:35:01.238Z"
   },
   {
    "duration": 6,
    "start_time": "2024-06-08T19:35:04.127Z"
   },
   {
    "duration": 5,
    "start_time": "2024-06-08T19:35:05.930Z"
   },
   {
    "duration": 7,
    "start_time": "2024-06-08T19:35:08.227Z"
   },
   {
    "duration": 6,
    "start_time": "2024-06-08T19:35:10.199Z"
   },
   {
    "duration": 1423,
    "start_time": "2024-06-08T19:35:12.230Z"
   },
   {
    "duration": 306,
    "start_time": "2024-06-08T19:35:16.005Z"
   },
   {
    "duration": 13,
    "start_time": "2024-06-08T19:35:44.590Z"
   },
   {
    "duration": 477,
    "start_time": "2024-06-08T20:19:55.525Z"
   },
   {
    "duration": 1562,
    "start_time": "2024-06-08T20:19:57.446Z"
   },
   {
    "duration": 59,
    "start_time": "2024-06-08T20:20:00.703Z"
   },
   {
    "duration": 31,
    "start_time": "2024-06-08T20:20:03.463Z"
   },
   {
    "duration": 22,
    "start_time": "2024-06-08T20:20:06.461Z"
   },
   {
    "duration": 22,
    "start_time": "2024-06-08T20:20:08.964Z"
   },
   {
    "duration": 361,
    "start_time": "2024-06-08T20:20:11.580Z"
   },
   {
    "duration": 114,
    "start_time": "2024-06-08T20:20:16.202Z"
   },
   {
    "duration": 22,
    "start_time": "2024-06-08T20:20:19.073Z"
   },
   {
    "duration": 181,
    "start_time": "2024-06-08T20:20:22.218Z"
   },
   {
    "duration": 173,
    "start_time": "2024-06-08T20:20:24.803Z"
   },
   {
    "duration": 47,
    "start_time": "2024-06-08T20:20:26.753Z"
   },
   {
    "duration": 28,
    "start_time": "2024-06-08T20:20:29.481Z"
   },
   {
    "duration": 6,
    "start_time": "2024-06-08T20:20:31.480Z"
   },
   {
    "duration": 63,
    "start_time": "2024-06-08T20:20:39.439Z"
   },
   {
    "duration": 8,
    "start_time": "2024-06-08T20:20:51.512Z"
   },
   {
    "duration": 335,
    "start_time": "2024-06-08T20:21:08.447Z"
   },
   {
    "duration": 12,
    "start_time": "2024-06-08T20:21:13.978Z"
   },
   {
    "duration": 17,
    "start_time": "2024-06-08T20:21:24.902Z"
   },
   {
    "duration": 21,
    "start_time": "2024-06-08T20:21:42.508Z"
   },
   {
    "duration": 13,
    "start_time": "2024-06-08T20:28:12.530Z"
   },
   {
    "duration": 15,
    "start_time": "2024-06-08T20:28:35.012Z"
   },
   {
    "duration": 9,
    "start_time": "2024-06-08T20:29:01.595Z"
   },
   {
    "duration": 10,
    "start_time": "2024-06-08T20:29:06.375Z"
   },
   {
    "duration": 10,
    "start_time": "2024-06-08T20:29:15.775Z"
   },
   {
    "duration": 10,
    "start_time": "2024-06-08T20:29:43.176Z"
   },
   {
    "duration": 13,
    "start_time": "2024-06-08T20:29:48.215Z"
   },
   {
    "duration": 12,
    "start_time": "2024-06-08T20:30:10.738Z"
   },
   {
    "duration": 22,
    "start_time": "2024-06-08T20:30:57.302Z"
   },
   {
    "duration": 13,
    "start_time": "2024-06-08T20:33:06.253Z"
   },
   {
    "duration": 16,
    "start_time": "2024-06-08T20:34:08.074Z"
   },
   {
    "duration": 22,
    "start_time": "2024-06-08T20:34:22.276Z"
   },
   {
    "duration": 29,
    "start_time": "2024-06-08T20:37:45.831Z"
   },
   {
    "duration": 14,
    "start_time": "2024-06-08T20:38:29.093Z"
   },
   {
    "duration": 23,
    "start_time": "2024-06-08T20:42:41.826Z"
   },
   {
    "duration": 33,
    "start_time": "2024-06-08T20:43:15.741Z"
   },
   {
    "duration": 33,
    "start_time": "2024-06-08T20:43:26.196Z"
   },
   {
    "duration": 25,
    "start_time": "2024-06-08T20:44:07.569Z"
   },
   {
    "duration": 31,
    "start_time": "2024-06-08T20:44:38.535Z"
   },
   {
    "duration": 47,
    "start_time": "2024-06-08T20:46:30.306Z"
   },
   {
    "duration": 40,
    "start_time": "2024-06-08T20:46:51.608Z"
   },
   {
    "duration": 45,
    "start_time": "2024-06-08T20:47:01.959Z"
   },
   {
    "duration": 31,
    "start_time": "2024-06-08T20:47:42.997Z"
   },
   {
    "duration": 20,
    "start_time": "2024-06-08T20:50:03.737Z"
   },
   {
    "duration": 10,
    "start_time": "2024-06-08T20:52:32.817Z"
   },
   {
    "duration": 12,
    "start_time": "2024-06-08T20:58:10.249Z"
   },
   {
    "duration": 499,
    "start_time": "2024-06-08T20:58:56.953Z"
   },
   {
    "duration": 1592,
    "start_time": "2024-06-08T20:58:58.840Z"
   },
   {
    "duration": 87,
    "start_time": "2024-06-08T20:59:01.996Z"
   },
   {
    "duration": 35,
    "start_time": "2024-06-08T20:59:03.430Z"
   },
   {
    "duration": 21,
    "start_time": "2024-06-08T20:59:04.804Z"
   },
   {
    "duration": 27,
    "start_time": "2024-06-08T20:59:06.125Z"
   },
   {
    "duration": 382,
    "start_time": "2024-06-08T20:59:07.470Z"
   },
   {
    "duration": 93,
    "start_time": "2024-06-08T20:59:13.088Z"
   },
   {
    "duration": 21,
    "start_time": "2024-06-08T20:59:15.517Z"
   },
   {
    "duration": 213,
    "start_time": "2024-06-08T20:59:17.432Z"
   },
   {
    "duration": 197,
    "start_time": "2024-06-08T20:59:19.780Z"
   },
   {
    "duration": 47,
    "start_time": "2024-06-08T20:59:21.702Z"
   },
   {
    "duration": 24,
    "start_time": "2024-06-08T20:59:25.331Z"
   },
   {
    "duration": 6,
    "start_time": "2024-06-08T20:59:26.858Z"
   },
   {
    "duration": 63,
    "start_time": "2024-06-08T20:59:28.898Z"
   },
   {
    "duration": 8,
    "start_time": "2024-06-08T20:59:31.630Z"
   },
   {
    "duration": 11,
    "start_time": "2024-06-08T20:59:33.252Z"
   },
   {
    "duration": 41,
    "start_time": "2024-06-08T20:59:40.478Z"
   },
   {
    "duration": 36,
    "start_time": "2024-06-08T21:00:58.158Z"
   },
   {
    "duration": 6,
    "start_time": "2024-06-08T21:01:02.164Z"
   },
   {
    "duration": 10,
    "start_time": "2024-06-08T21:01:03.902Z"
   },
   {
    "duration": 7,
    "start_time": "2024-06-08T21:01:06.219Z"
   },
   {
    "duration": 6,
    "start_time": "2024-06-08T21:01:08.091Z"
   },
   {
    "duration": 1446,
    "start_time": "2024-06-08T21:01:10.172Z"
   },
   {
    "duration": 356,
    "start_time": "2024-06-08T21:03:15.480Z"
   },
   {
    "duration": 19,
    "start_time": "2024-06-08T21:06:45.548Z"
   },
   {
    "duration": 21,
    "start_time": "2024-06-08T21:12:32.721Z"
   },
   {
    "duration": 10,
    "start_time": "2024-06-08T21:14:40.967Z"
   },
   {
    "duration": 10,
    "start_time": "2024-06-08T21:15:01.109Z"
   },
   {
    "duration": 15,
    "start_time": "2024-06-08T21:19:29.742Z"
   },
   {
    "duration": 350,
    "start_time": "2024-06-08T21:22:44.798Z"
   },
   {
    "duration": 11,
    "start_time": "2024-06-08T21:23:20.485Z"
   },
   {
    "duration": 13,
    "start_time": "2024-06-08T21:23:55.009Z"
   },
   {
    "duration": 13,
    "start_time": "2024-06-08T21:25:32.734Z"
   },
   {
    "duration": 11,
    "start_time": "2024-06-08T21:25:47.242Z"
   },
   {
    "duration": 10,
    "start_time": "2024-06-08T21:27:18.864Z"
   },
   {
    "duration": 8,
    "start_time": "2024-06-08T21:27:26.370Z"
   },
   {
    "duration": 9,
    "start_time": "2024-06-08T21:27:36.753Z"
   },
   {
    "duration": 11,
    "start_time": "2024-06-08T21:27:42.325Z"
   },
   {
    "duration": 12,
    "start_time": "2024-06-08T21:27:45.644Z"
   },
   {
    "duration": 11,
    "start_time": "2024-06-08T21:34:01.955Z"
   },
   {
    "duration": 23,
    "start_time": "2024-06-08T21:34:41.370Z"
   },
   {
    "duration": 344,
    "start_time": "2024-06-08T21:34:59.003Z"
   },
   {
    "duration": 58,
    "start_time": "2024-06-08T21:35:28.514Z"
   },
   {
    "duration": 6,
    "start_time": "2024-06-08T21:35:57.259Z"
   },
   {
    "duration": 5,
    "start_time": "2024-06-08T21:36:02.301Z"
   },
   {
    "duration": 5,
    "start_time": "2024-06-08T21:36:13.735Z"
   },
   {
    "duration": 8,
    "start_time": "2024-06-08T21:36:29.754Z"
   },
   {
    "duration": 74,
    "start_time": "2024-06-08T21:36:36.571Z"
   },
   {
    "duration": 51,
    "start_time": "2024-06-08T21:37:01.185Z"
   },
   {
    "duration": 10,
    "start_time": "2024-06-08T21:37:26.246Z"
   },
   {
    "duration": 55,
    "start_time": "2024-06-08T21:37:33.705Z"
   },
   {
    "duration": 12,
    "start_time": "2024-06-08T21:38:17.660Z"
   },
   {
    "duration": 7,
    "start_time": "2024-06-08T21:42:35.003Z"
   },
   {
    "duration": 11,
    "start_time": "2024-06-08T21:42:38.854Z"
   },
   {
    "duration": 54,
    "start_time": "2024-06-08T21:42:57.297Z"
   },
   {
    "duration": 11,
    "start_time": "2024-06-08T21:43:15.189Z"
   },
   {
    "duration": 25,
    "start_time": "2024-06-08T21:44:00.593Z"
   },
   {
    "duration": 8,
    "start_time": "2024-06-08T21:44:12.726Z"
   },
   {
    "duration": 7,
    "start_time": "2024-06-08T21:44:15.479Z"
   },
   {
    "duration": 12,
    "start_time": "2024-06-08T21:44:22.598Z"
   },
   {
    "duration": 11,
    "start_time": "2024-06-08T21:44:37.595Z"
   },
   {
    "duration": 508,
    "start_time": "2024-06-08T21:45:36.909Z"
   },
   {
    "duration": 1552,
    "start_time": "2024-06-08T21:45:37.422Z"
   },
   {
    "duration": 75,
    "start_time": "2024-06-08T21:45:38.979Z"
   },
   {
    "duration": 30,
    "start_time": "2024-06-08T21:45:39.059Z"
   },
   {
    "duration": 47,
    "start_time": "2024-06-08T21:45:39.094Z"
   },
   {
    "duration": 23,
    "start_time": "2024-06-08T21:45:39.144Z"
   },
   {
    "duration": 445,
    "start_time": "2024-06-08T21:45:39.170Z"
   },
   {
    "duration": 153,
    "start_time": "2024-06-08T21:45:39.624Z"
   },
   {
    "duration": 42,
    "start_time": "2024-06-08T21:45:39.781Z"
   },
   {
    "duration": 260,
    "start_time": "2024-06-08T21:45:39.827Z"
   },
   {
    "duration": 249,
    "start_time": "2024-06-08T21:45:40.090Z"
   },
   {
    "duration": 60,
    "start_time": "2024-06-08T21:45:40.342Z"
   },
   {
    "duration": 29,
    "start_time": "2024-06-08T21:45:40.425Z"
   },
   {
    "duration": 6,
    "start_time": "2024-06-08T21:45:40.462Z"
   },
   {
    "duration": 85,
    "start_time": "2024-06-08T21:45:40.471Z"
   },
   {
    "duration": 9,
    "start_time": "2024-06-08T21:45:40.560Z"
   },
   {
    "duration": 10,
    "start_time": "2024-06-08T21:45:40.572Z"
   },
   {
    "duration": 78,
    "start_time": "2024-06-08T21:45:40.585Z"
   },
   {
    "duration": 6,
    "start_time": "2024-06-08T21:45:40.667Z"
   },
   {
    "duration": 13,
    "start_time": "2024-06-08T21:45:40.676Z"
   },
   {
    "duration": 8,
    "start_time": "2024-06-08T21:45:40.722Z"
   },
   {
    "duration": 7,
    "start_time": "2024-06-08T21:45:40.734Z"
   },
   {
    "duration": 1469,
    "start_time": "2024-06-08T21:45:40.746Z"
   },
   {
    "duration": 380,
    "start_time": "2024-06-08T21:45:42.223Z"
   },
   {
    "duration": 30,
    "start_time": "2024-06-08T21:45:42.606Z"
   },
   {
    "duration": 11,
    "start_time": "2024-06-08T21:45:42.640Z"
   },
   {
    "duration": 14,
    "start_time": "2024-06-08T21:45:42.654Z"
   },
   {
    "duration": 13,
    "start_time": "2024-06-08T21:45:42.671Z"
   },
   {
    "duration": 4,
    "start_time": "2024-06-08T21:45:42.724Z"
   },
   {
    "duration": 5,
    "start_time": "2024-06-08T21:45:42.731Z"
   },
   {
    "duration": 7,
    "start_time": "2024-06-08T21:45:42.739Z"
   },
   {
    "duration": 4,
    "start_time": "2024-06-08T21:45:42.749Z"
   },
   {
    "duration": 4,
    "start_time": "2024-06-08T21:45:42.757Z"
   },
   {
    "duration": 3,
    "start_time": "2024-06-08T21:45:42.766Z"
   },
   {
    "duration": 3,
    "start_time": "2024-06-08T21:45:42.825Z"
   },
   {
    "duration": 4,
    "start_time": "2024-06-08T21:45:42.831Z"
   },
   {
    "duration": 19,
    "start_time": "2024-06-08T21:47:02.572Z"
   },
   {
    "duration": 16,
    "start_time": "2024-06-08T21:47:24.196Z"
   },
   {
    "duration": 16,
    "start_time": "2024-06-08T21:47:53.552Z"
   },
   {
    "duration": 1184,
    "start_time": "2024-06-08T21:55:36.608Z"
   },
   {
    "duration": 61,
    "start_time": "2024-06-08T21:55:48.249Z"
   },
   {
    "duration": 21,
    "start_time": "2024-06-08T21:56:56.881Z"
   },
   {
    "duration": 15,
    "start_time": "2024-06-08T21:59:52.818Z"
   },
   {
    "duration": 36,
    "start_time": "2024-06-08T22:00:31.610Z"
   },
   {
    "duration": 12,
    "start_time": "2024-06-08T22:11:38.420Z"
   },
   {
    "duration": 15,
    "start_time": "2024-06-08T22:11:56.888Z"
   },
   {
    "duration": 20,
    "start_time": "2024-06-08T22:14:07.732Z"
   },
   {
    "duration": 32,
    "start_time": "2024-06-08T22:14:18.937Z"
   },
   {
    "duration": 4,
    "start_time": "2024-06-08T22:41:40.424Z"
   },
   {
    "duration": 207,
    "start_time": "2024-06-08T22:42:26.760Z"
   },
   {
    "duration": 62,
    "start_time": "2024-06-08T22:46:01.674Z"
   },
   {
    "duration": 385,
    "start_time": "2024-06-08T22:46:22.338Z"
   },
   {
    "duration": 60,
    "start_time": "2024-06-08T22:47:00.209Z"
   },
   {
    "duration": 56,
    "start_time": "2024-06-08T22:47:37.884Z"
   },
   {
    "duration": 40,
    "start_time": "2024-06-08T23:02:20.690Z"
   },
   {
    "duration": 42,
    "start_time": "2024-06-08T23:02:25.086Z"
   },
   {
    "duration": 46,
    "start_time": "2024-06-08T23:02:26.831Z"
   },
   {
    "duration": 57,
    "start_time": "2024-06-08T23:02:28.252Z"
   },
   {
    "duration": 22,
    "start_time": "2024-06-08T23:19:18.892Z"
   },
   {
    "duration": 32,
    "start_time": "2024-06-08T23:21:06.328Z"
   },
   {
    "duration": 28,
    "start_time": "2024-06-08T23:22:00.281Z"
   },
   {
    "duration": 28,
    "start_time": "2024-06-08T23:24:12.370Z"
   },
   {
    "duration": 6,
    "start_time": "2024-06-08T23:29:44.586Z"
   },
   {
    "duration": 445,
    "start_time": "2024-06-08T23:30:07.361Z"
   },
   {
    "duration": 26,
    "start_time": "2024-06-08T23:30:22.278Z"
   },
   {
    "duration": 23,
    "start_time": "2024-06-08T23:30:32.710Z"
   },
   {
    "duration": 34,
    "start_time": "2024-06-08T23:30:39.450Z"
   },
   {
    "duration": 22,
    "start_time": "2024-06-08T23:31:18.288Z"
   },
   {
    "duration": 23,
    "start_time": "2024-06-08T23:32:39.043Z"
   },
   {
    "duration": 13,
    "start_time": "2024-06-08T23:33:04.559Z"
   },
   {
    "duration": 14,
    "start_time": "2024-06-08T23:33:28.079Z"
   },
   {
    "duration": 21,
    "start_time": "2024-06-08T23:37:58.903Z"
   },
   {
    "duration": 27,
    "start_time": "2024-06-08T23:38:19.028Z"
   },
   {
    "duration": 675,
    "start_time": "2024-06-08T23:38:38.827Z"
   },
   {
    "duration": 14,
    "start_time": "2024-06-08T23:39:21.804Z"
   },
   {
    "duration": 23,
    "start_time": "2024-06-08T23:39:25.293Z"
   },
   {
    "duration": 28,
    "start_time": "2024-06-08T23:39:31.173Z"
   },
   {
    "duration": 21,
    "start_time": "2024-06-08T23:39:58.596Z"
   },
   {
    "duration": 20,
    "start_time": "2024-06-08T23:40:13.338Z"
   },
   {
    "duration": 25,
    "start_time": "2024-06-08T23:40:55.716Z"
   },
   {
    "duration": 19,
    "start_time": "2024-06-08T23:42:34.990Z"
   },
   {
    "duration": 22,
    "start_time": "2024-06-08T23:44:22.865Z"
   },
   {
    "duration": 8,
    "start_time": "2024-06-08T23:50:32.286Z"
   },
   {
    "duration": 15,
    "start_time": "2024-06-08T23:50:39.624Z"
   },
   {
    "duration": 34,
    "start_time": "2024-06-08T23:56:54.579Z"
   },
   {
    "duration": 30,
    "start_time": "2024-06-08T23:57:22.045Z"
   },
   {
    "duration": 27,
    "start_time": "2024-06-09T00:10:22.161Z"
   },
   {
    "duration": 23,
    "start_time": "2024-06-09T00:10:22.195Z"
   },
   {
    "duration": 205,
    "start_time": "2024-06-09T00:10:22.221Z"
   },
   {
    "duration": 4,
    "start_time": "2024-06-09T00:10:22.431Z"
   },
   {
    "duration": 5,
    "start_time": "2024-06-09T00:10:22.440Z"
   },
   {
    "duration": 3,
    "start_time": "2024-06-09T00:10:22.449Z"
   },
   {
    "duration": 24,
    "start_time": "2024-06-09T00:12:27.027Z"
   },
   {
    "duration": 32,
    "start_time": "2024-06-09T00:18:25.324Z"
   },
   {
    "duration": 27,
    "start_time": "2024-06-09T00:19:13.007Z"
   },
   {
    "duration": 27,
    "start_time": "2024-06-09T00:19:23.603Z"
   },
   {
    "duration": 26,
    "start_time": "2024-06-09T00:19:25.801Z"
   },
   {
    "duration": 28,
    "start_time": "2024-06-09T00:19:29.312Z"
   },
   {
    "duration": 67,
    "start_time": "2024-06-09T00:21:48.287Z"
   },
   {
    "duration": 17,
    "start_time": "2024-06-09T00:28:10.337Z"
   },
   {
    "duration": 17,
    "start_time": "2024-06-09T00:28:18.925Z"
   },
   {
    "duration": 15,
    "start_time": "2024-06-09T00:28:40.402Z"
   },
   {
    "duration": 11,
    "start_time": "2024-06-09T00:28:47.335Z"
   },
   {
    "duration": 752,
    "start_time": "2024-06-09T00:30:20.422Z"
   },
   {
    "duration": 778,
    "start_time": "2024-06-09T00:30:44.470Z"
   },
   {
    "duration": 983,
    "start_time": "2024-06-09T00:31:13.920Z"
   },
   {
    "duration": 187,
    "start_time": "2024-06-09T00:32:57.840Z"
   },
   {
    "duration": 448,
    "start_time": "2024-06-09T00:33:17.990Z"
   },
   {
    "duration": 11,
    "start_time": "2024-06-09T00:35:16.575Z"
   },
   {
    "duration": 18,
    "start_time": "2024-06-09T00:35:21.561Z"
   },
   {
    "duration": 11,
    "start_time": "2024-06-09T00:36:14.400Z"
   },
   {
    "duration": 20,
    "start_time": "2024-06-09T00:36:16.173Z"
   },
   {
    "duration": 36,
    "start_time": "2024-06-09T00:49:31.193Z"
   },
   {
    "duration": 20,
    "start_time": "2024-06-09T00:49:40.380Z"
   },
   {
    "duration": 16,
    "start_time": "2024-06-09T00:50:07.127Z"
   },
   {
    "duration": 7,
    "start_time": "2024-06-09T00:50:23.596Z"
   },
   {
    "duration": 18,
    "start_time": "2024-06-09T00:51:19.890Z"
   },
   {
    "duration": 16,
    "start_time": "2024-06-09T00:51:26.937Z"
   },
   {
    "duration": 164,
    "start_time": "2024-06-09T01:12:12.093Z"
   },
   {
    "duration": 63,
    "start_time": "2024-06-09T01:12:23.655Z"
   },
   {
    "duration": 34,
    "start_time": "2024-06-09T01:13:31.896Z"
   },
   {
    "duration": 469,
    "start_time": "2024-06-09T02:45:17.967Z"
   },
   {
    "duration": 1660,
    "start_time": "2024-06-09T02:45:18.440Z"
   },
   {
    "duration": 58,
    "start_time": "2024-06-09T02:45:20.103Z"
   },
   {
    "duration": 28,
    "start_time": "2024-06-09T02:45:20.165Z"
   },
   {
    "duration": 51,
    "start_time": "2024-06-09T02:45:20.197Z"
   },
   {
    "duration": 23,
    "start_time": "2024-06-09T02:45:20.254Z"
   },
   {
    "duration": 363,
    "start_time": "2024-06-09T02:45:20.280Z"
   },
   {
    "duration": 99,
    "start_time": "2024-06-09T02:45:20.646Z"
   },
   {
    "duration": 21,
    "start_time": "2024-06-09T02:45:20.748Z"
   },
   {
    "duration": 206,
    "start_time": "2024-06-09T02:45:20.775Z"
   },
   {
    "duration": 167,
    "start_time": "2024-06-09T02:45:20.984Z"
   },
   {
    "duration": 45,
    "start_time": "2024-06-09T02:45:21.154Z"
   },
   {
    "duration": 44,
    "start_time": "2024-06-09T02:45:21.202Z"
   },
   {
    "duration": 6,
    "start_time": "2024-06-09T02:45:21.249Z"
   },
   {
    "duration": 80,
    "start_time": "2024-06-09T02:45:21.257Z"
   },
   {
    "duration": 11,
    "start_time": "2024-06-09T02:45:21.343Z"
   },
   {
    "duration": 11,
    "start_time": "2024-06-09T02:45:21.358Z"
   },
   {
    "duration": 71,
    "start_time": "2024-06-09T02:45:21.379Z"
   },
   {
    "duration": 6,
    "start_time": "2024-06-09T02:45:21.453Z"
   },
   {
    "duration": 5,
    "start_time": "2024-06-09T02:45:21.462Z"
   },
   {
    "duration": 6,
    "start_time": "2024-06-09T02:45:21.470Z"
   },
   {
    "duration": 6,
    "start_time": "2024-06-09T02:45:21.479Z"
   },
   {
    "duration": 1364,
    "start_time": "2024-06-09T02:45:21.488Z"
   },
   {
    "duration": 312,
    "start_time": "2024-06-09T02:45:22.855Z"
   },
   {
    "duration": 17,
    "start_time": "2024-06-09T02:45:23.170Z"
   },
   {
    "duration": 10,
    "start_time": "2024-06-09T02:45:23.190Z"
   },
   {
    "duration": 40,
    "start_time": "2024-06-09T02:45:23.202Z"
   },
   {
    "duration": 10,
    "start_time": "2024-06-09T02:45:23.249Z"
   },
   {
    "duration": 16,
    "start_time": "2024-06-09T02:45:23.262Z"
   },
   {
    "duration": 66,
    "start_time": "2024-06-09T02:45:23.281Z"
   },
   {
    "duration": 16,
    "start_time": "2024-06-09T02:45:23.350Z"
   },
   {
    "duration": 31,
    "start_time": "2024-06-09T02:45:23.370Z"
   },
   {
    "duration": 21,
    "start_time": "2024-06-09T02:45:23.434Z"
   },
   {
    "duration": 23,
    "start_time": "2024-06-09T02:45:23.458Z"
   },
   {
    "duration": 89,
    "start_time": "2024-06-09T02:45:23.483Z"
   },
   {
    "duration": 9,
    "start_time": "2024-06-09T02:45:23.575Z"
   },
   {
    "duration": 44,
    "start_time": "2024-06-09T02:45:23.589Z"
   },
   {
    "duration": 50,
    "start_time": "2024-06-09T02:45:23.635Z"
   },
   {
    "duration": 55,
    "start_time": "2024-06-09T02:45:23.687Z"
   },
   {
    "duration": 3870,
    "start_time": "2024-06-09T02:54:52.134Z"
   },
   {
    "duration": 3,
    "start_time": "2024-06-09T02:54:58.714Z"
   },
   {
    "duration": 10,
    "start_time": "2024-06-09T03:02:16.547Z"
   },
   {
    "duration": 7,
    "start_time": "2024-06-09T03:03:03.175Z"
   },
   {
    "duration": 18,
    "start_time": "2024-06-09T03:13:19.923Z"
   },
   {
    "duration": 155,
    "start_time": "2024-06-09T03:15:05.001Z"
   },
   {
    "duration": 54,
    "start_time": "2024-06-09T03:15:32.338Z"
   },
   {
    "duration": 49,
    "start_time": "2024-06-09T03:15:40.830Z"
   },
   {
    "duration": 30,
    "start_time": "2024-06-09T03:16:41.015Z"
   },
   {
    "duration": 29,
    "start_time": "2024-06-09T03:16:54.839Z"
   },
   {
    "duration": 18,
    "start_time": "2024-06-09T03:16:58.914Z"
   },
   {
    "duration": 54,
    "start_time": "2024-06-09T03:17:07.723Z"
   },
   {
    "duration": 4,
    "start_time": "2024-06-09T03:22:59.307Z"
   },
   {
    "duration": 24,
    "start_time": "2024-06-09T03:26:59.304Z"
   },
   {
    "duration": 42,
    "start_time": "2024-06-09T03:28:51.232Z"
   },
   {
    "duration": 26,
    "start_time": "2024-06-09T03:30:04.075Z"
   },
   {
    "duration": 31,
    "start_time": "2024-06-09T03:30:13.072Z"
   },
   {
    "duration": 25,
    "start_time": "2024-06-09T03:30:51.640Z"
   },
   {
    "duration": 25,
    "start_time": "2024-06-09T03:31:51.174Z"
   },
   {
    "duration": 32,
    "start_time": "2024-06-09T03:32:08.883Z"
   },
   {
    "duration": 304,
    "start_time": "2024-06-09T03:32:37.481Z"
   },
   {
    "duration": 1183,
    "start_time": "2024-06-09T03:33:17.124Z"
   },
   {
    "duration": 33,
    "start_time": "2024-06-09T03:33:30.553Z"
   },
   {
    "duration": 118,
    "start_time": "2024-06-09T03:34:03.737Z"
   },
   {
    "duration": 32,
    "start_time": "2024-06-09T03:34:19.677Z"
   },
   {
    "duration": 28,
    "start_time": "2024-06-09T03:36:22.405Z"
   },
   {
    "duration": 42,
    "start_time": "2024-06-09T03:37:15.904Z"
   },
   {
    "duration": 110,
    "start_time": "2024-06-09T03:39:03.045Z"
   },
   {
    "duration": 115,
    "start_time": "2024-06-09T03:39:15.489Z"
   },
   {
    "duration": 23,
    "start_time": "2024-06-09T03:41:28.381Z"
   },
   {
    "duration": 31,
    "start_time": "2024-06-09T03:47:25.868Z"
   },
   {
    "duration": 28,
    "start_time": "2024-06-09T03:48:59.864Z"
   },
   {
    "duration": 202,
    "start_time": "2024-06-09T03:49:23.503Z"
   },
   {
    "duration": 350,
    "start_time": "2024-06-09T03:49:36.756Z"
   },
   {
    "duration": 36,
    "start_time": "2024-06-09T03:53:08.551Z"
   },
   {
    "duration": 25,
    "start_time": "2024-06-09T03:54:48.810Z"
   },
   {
    "duration": 22,
    "start_time": "2024-06-09T03:55:16.121Z"
   },
   {
    "duration": 33,
    "start_time": "2024-06-09T03:55:38.864Z"
   },
   {
    "duration": 27,
    "start_time": "2024-06-09T03:56:52.150Z"
   },
   {
    "duration": 7,
    "start_time": "2024-06-09T03:58:15.979Z"
   },
   {
    "duration": 6,
    "start_time": "2024-06-09T03:58:20.315Z"
   },
   {
    "duration": 353,
    "start_time": "2024-06-09T03:58:22.929Z"
   },
   {
    "duration": 320,
    "start_time": "2024-06-09T03:58:39.470Z"
   },
   {
    "duration": 327,
    "start_time": "2024-06-09T03:59:00.702Z"
   },
   {
    "duration": 359,
    "start_time": "2024-06-09T03:59:11.219Z"
   },
   {
    "duration": 324,
    "start_time": "2024-06-09T03:59:17.353Z"
   },
   {
    "duration": 7,
    "start_time": "2024-06-09T04:01:29.494Z"
   },
   {
    "duration": 1419,
    "start_time": "2024-06-09T04:01:34.843Z"
   },
   {
    "duration": 325,
    "start_time": "2024-06-09T04:01:52.643Z"
   },
   {
    "duration": 312,
    "start_time": "2024-06-09T04:02:58.890Z"
   },
   {
    "duration": 341,
    "start_time": "2024-06-09T04:03:12.914Z"
   },
   {
    "duration": 346,
    "start_time": "2024-06-09T04:03:20.167Z"
   },
   {
    "duration": 340,
    "start_time": "2024-06-09T04:03:31.089Z"
   },
   {
    "duration": 332,
    "start_time": "2024-06-09T04:03:40.474Z"
   },
   {
    "duration": 382,
    "start_time": "2024-06-09T04:03:51.128Z"
   },
   {
    "duration": 339,
    "start_time": "2024-06-09T04:04:55.983Z"
   },
   {
    "duration": 344,
    "start_time": "2024-06-09T04:05:08.449Z"
   },
   {
    "duration": 399,
    "start_time": "2024-06-09T04:06:12.137Z"
   },
   {
    "duration": 373,
    "start_time": "2024-06-09T04:06:21.872Z"
   },
   {
    "duration": 351,
    "start_time": "2024-06-09T04:06:36.243Z"
   },
   {
    "duration": 534,
    "start_time": "2024-06-09T04:10:31.156Z"
   },
   {
    "duration": 368,
    "start_time": "2024-06-09T04:10:43.820Z"
   },
   {
    "duration": 344,
    "start_time": "2024-06-09T04:11:23.713Z"
   },
   {
    "duration": 7,
    "start_time": "2024-06-09T04:11:51.961Z"
   },
   {
    "duration": 347,
    "start_time": "2024-06-09T04:11:57.256Z"
   },
   {
    "duration": 350,
    "start_time": "2024-06-09T04:13:04.105Z"
   },
   {
    "duration": 394,
    "start_time": "2024-06-09T04:15:06.516Z"
   },
   {
    "duration": 251,
    "start_time": "2024-06-09T04:22:19.075Z"
   },
   {
    "duration": 258,
    "start_time": "2024-06-09T04:24:46.912Z"
   },
   {
    "duration": 6,
    "start_time": "2024-06-09T04:43:04.111Z"
   },
   {
    "duration": 6,
    "start_time": "2024-06-09T04:43:13.323Z"
   },
   {
    "duration": 239,
    "start_time": "2024-06-09T04:45:56.155Z"
   },
   {
    "duration": 247,
    "start_time": "2024-06-09T04:46:10.120Z"
   },
   {
    "duration": 6,
    "start_time": "2024-06-09T04:46:22.939Z"
   },
   {
    "duration": 311,
    "start_time": "2024-06-09T04:46:25.205Z"
   },
   {
    "duration": 14,
    "start_time": "2024-06-09T04:51:30.279Z"
   },
   {
    "duration": 12,
    "start_time": "2024-06-09T04:52:03.478Z"
   },
   {
    "duration": 12,
    "start_time": "2024-06-09T04:52:16.625Z"
   },
   {
    "duration": 13,
    "start_time": "2024-06-09T05:07:20.669Z"
   },
   {
    "duration": 185,
    "start_time": "2024-06-09T05:08:03.899Z"
   },
   {
    "duration": 50,
    "start_time": "2024-06-09T05:08:16.563Z"
   },
   {
    "duration": 217,
    "start_time": "2024-06-09T05:08:19.590Z"
   },
   {
    "duration": 234,
    "start_time": "2024-06-09T05:08:53.342Z"
   },
   {
    "duration": 12,
    "start_time": "2024-06-09T05:08:59.414Z"
   },
   {
    "duration": 206,
    "start_time": "2024-06-09T05:09:10.888Z"
   },
   {
    "duration": 14,
    "start_time": "2024-06-09T05:09:38.069Z"
   },
   {
    "duration": 10,
    "start_time": "2024-06-09T05:10:21.691Z"
   },
   {
    "duration": 23,
    "start_time": "2024-06-09T05:12:26.345Z"
   },
   {
    "duration": 35,
    "start_time": "2024-06-09T05:12:37.313Z"
   },
   {
    "duration": 241,
    "start_time": "2024-06-09T05:13:32.656Z"
   },
   {
    "duration": 242,
    "start_time": "2024-06-09T05:13:54.650Z"
   },
   {
    "duration": 243,
    "start_time": "2024-06-09T05:14:03.337Z"
   },
   {
    "duration": 275,
    "start_time": "2024-06-09T05:14:51.174Z"
   },
   {
    "duration": 417,
    "start_time": "2024-06-09T05:14:56.173Z"
   },
   {
    "duration": 35,
    "start_time": "2024-06-09T05:15:15.813Z"
   },
   {
    "duration": 285,
    "start_time": "2024-06-09T05:17:52.916Z"
   },
   {
    "duration": 658,
    "start_time": "2024-06-09T05:18:25.428Z"
   },
   {
    "duration": 282,
    "start_time": "2024-06-09T05:18:35.794Z"
   },
   {
    "duration": 8,
    "start_time": "2024-06-09T05:20:40.409Z"
   },
   {
    "duration": 275,
    "start_time": "2024-06-09T05:20:45.236Z"
   },
   {
    "duration": 271,
    "start_time": "2024-06-09T05:21:57.884Z"
   },
   {
    "duration": 266,
    "start_time": "2024-06-09T05:22:31.690Z"
   },
   {
    "duration": 35,
    "start_time": "2024-06-09T05:22:46.916Z"
   },
   {
    "duration": 260,
    "start_time": "2024-06-09T05:23:09.423Z"
   },
   {
    "duration": 267,
    "start_time": "2024-06-09T05:23:27.163Z"
   },
   {
    "duration": 265,
    "start_time": "2024-06-09T05:23:43.440Z"
   },
   {
    "duration": 397,
    "start_time": "2024-06-09T05:23:49.771Z"
   },
   {
    "duration": 35,
    "start_time": "2024-06-09T05:24:24.880Z"
   },
   {
    "duration": 293,
    "start_time": "2024-06-09T05:28:31.859Z"
   },
   {
    "duration": 318,
    "start_time": "2024-06-09T05:28:51.212Z"
   },
   {
    "duration": 291,
    "start_time": "2024-06-09T05:29:00.254Z"
   },
   {
    "duration": 292,
    "start_time": "2024-06-09T05:29:06.361Z"
   },
   {
    "duration": 290,
    "start_time": "2024-06-09T05:29:12.187Z"
   },
   {
    "duration": 286,
    "start_time": "2024-06-09T05:29:18.910Z"
   },
   {
    "duration": 4445,
    "start_time": "2024-06-09T17:23:42.651Z"
   },
   {
    "duration": 1716,
    "start_time": "2024-06-09T17:23:47.101Z"
   },
   {
    "duration": 47,
    "start_time": "2024-06-09T17:23:48.822Z"
   },
   {
    "duration": 55,
    "start_time": "2024-06-09T17:23:48.874Z"
   },
   {
    "duration": 23,
    "start_time": "2024-06-09T17:23:48.932Z"
   },
   {
    "duration": 21,
    "start_time": "2024-06-09T17:23:48.959Z"
   },
   {
    "duration": 433,
    "start_time": "2024-06-09T17:23:48.983Z"
   },
   {
    "duration": 128,
    "start_time": "2024-06-09T17:23:49.424Z"
   },
   {
    "duration": 24,
    "start_time": "2024-06-09T17:23:49.555Z"
   },
   {
    "duration": 264,
    "start_time": "2024-06-09T17:23:49.586Z"
   },
   {
    "duration": 203,
    "start_time": "2024-06-09T17:23:49.853Z"
   },
   {
    "duration": 74,
    "start_time": "2024-06-09T17:23:50.060Z"
   },
   {
    "duration": 26,
    "start_time": "2024-06-09T17:23:50.137Z"
   },
   {
    "duration": 7,
    "start_time": "2024-06-09T17:23:50.169Z"
   },
   {
    "duration": 84,
    "start_time": "2024-06-09T17:23:50.179Z"
   },
   {
    "duration": 10,
    "start_time": "2024-06-09T17:23:50.266Z"
   },
   {
    "duration": 10,
    "start_time": "2024-06-09T17:23:50.280Z"
   },
   {
    "duration": 42,
    "start_time": "2024-06-09T17:23:50.323Z"
   },
   {
    "duration": 6,
    "start_time": "2024-06-09T17:23:50.369Z"
   },
   {
    "duration": 45,
    "start_time": "2024-06-09T17:23:50.379Z"
   },
   {
    "duration": 8,
    "start_time": "2024-06-09T17:23:50.428Z"
   },
   {
    "duration": 5,
    "start_time": "2024-06-09T17:23:50.440Z"
   },
   {
    "duration": 1562,
    "start_time": "2024-06-09T17:23:50.448Z"
   },
   {
    "duration": 376,
    "start_time": "2024-06-09T17:23:52.014Z"
   },
   {
    "duration": 33,
    "start_time": "2024-06-09T17:23:52.394Z"
   },
   {
    "duration": 10,
    "start_time": "2024-06-09T17:23:52.430Z"
   },
   {
    "duration": 14,
    "start_time": "2024-06-09T17:23:52.443Z"
   },
   {
    "duration": 14,
    "start_time": "2024-06-09T17:23:52.466Z"
   },
   {
    "duration": 20,
    "start_time": "2024-06-09T17:23:52.522Z"
   },
   {
    "duration": 24,
    "start_time": "2024-06-09T17:23:52.546Z"
   },
   {
    "duration": 53,
    "start_time": "2024-06-09T17:23:52.574Z"
   },
   {
    "duration": 31,
    "start_time": "2024-06-09T17:23:52.630Z"
   },
   {
    "duration": 61,
    "start_time": "2024-06-09T17:23:52.665Z"
   },
   {
    "duration": 26,
    "start_time": "2024-06-09T17:23:52.729Z"
   },
   {
    "duration": 81,
    "start_time": "2024-06-09T17:23:52.758Z"
   },
   {
    "duration": 10,
    "start_time": "2024-06-09T17:23:52.842Z"
   },
   {
    "duration": 19,
    "start_time": "2024-06-09T17:23:52.855Z"
   },
   {
    "duration": 91,
    "start_time": "2024-06-09T17:23:52.877Z"
   },
   {
    "duration": 53,
    "start_time": "2024-06-09T17:23:52.971Z"
   },
   {
    "duration": 8,
    "start_time": "2024-06-09T17:23:53.028Z"
   },
   {
    "duration": 7,
    "start_time": "2024-06-09T17:23:53.040Z"
   },
   {
    "duration": 474,
    "start_time": "2024-06-09T17:23:53.051Z"
   },
   {
    "duration": 8,
    "start_time": "2024-06-09T17:23:53.528Z"
   },
   {
    "duration": 372,
    "start_time": "2024-06-09T17:23:53.540Z"
   },
   {
    "duration": 312,
    "start_time": "2024-06-09T17:23:53.923Z"
   },
   {
    "duration": 348,
    "start_time": "2024-06-09T17:32:29.496Z"
   },
   {
    "duration": 309,
    "start_time": "2024-06-09T17:33:11.019Z"
   },
   {
    "duration": 10,
    "start_time": "2024-06-09T17:35:22.670Z"
   },
   {
    "duration": 317,
    "start_time": "2024-06-09T17:35:30.763Z"
   },
   {
    "duration": 301,
    "start_time": "2024-06-09T17:35:35.732Z"
   },
   {
    "duration": 302,
    "start_time": "2024-06-09T17:35:40.630Z"
   },
   {
    "duration": 300,
    "start_time": "2024-06-09T17:35:46.825Z"
   },
   {
    "duration": 327,
    "start_time": "2024-06-09T17:39:04.255Z"
   },
   {
    "duration": 268,
    "start_time": "2024-06-09T17:41:12.665Z"
   },
   {
    "duration": 314,
    "start_time": "2024-06-09T17:41:25.399Z"
   },
   {
    "duration": 402,
    "start_time": "2024-06-09T17:42:45.779Z"
   },
   {
    "duration": 313,
    "start_time": "2024-06-09T17:43:21.224Z"
   },
   {
    "duration": 317,
    "start_time": "2024-06-09T17:43:58.380Z"
   },
   {
    "duration": 308,
    "start_time": "2024-06-09T17:45:17.403Z"
   },
   {
    "duration": 280,
    "start_time": "2024-06-09T17:45:53.562Z"
   },
   {
    "duration": 270,
    "start_time": "2024-06-09T17:46:02.216Z"
   },
   {
    "duration": 335,
    "start_time": "2024-06-09T17:46:14.181Z"
   },
   {
    "duration": 8,
    "start_time": "2024-06-09T17:47:17.625Z"
   },
   {
    "duration": 262,
    "start_time": "2024-06-09T17:47:26.110Z"
   },
   {
    "duration": 284,
    "start_time": "2024-06-09T17:47:38.455Z"
   },
   {
    "duration": 267,
    "start_time": "2024-06-09T17:47:55.982Z"
   },
   {
    "duration": 446,
    "start_time": "2024-06-09T18:14:01.226Z"
   },
   {
    "duration": 17,
    "start_time": "2024-06-09T18:14:08.355Z"
   },
   {
    "duration": 40,
    "start_time": "2024-06-09T18:15:29.818Z"
   },
   {
    "duration": 24,
    "start_time": "2024-06-09T18:18:36.010Z"
   },
   {
    "duration": 30,
    "start_time": "2024-06-09T18:18:39.416Z"
   },
   {
    "duration": 34,
    "start_time": "2024-06-09T18:18:46.728Z"
   },
   {
    "duration": 1042,
    "start_time": "2024-06-09T18:24:46.888Z"
   },
   {
    "duration": 326,
    "start_time": "2024-06-09T18:25:51.180Z"
   },
   {
    "duration": 6,
    "start_time": "2024-06-09T18:25:56.261Z"
   },
   {
    "duration": 17,
    "start_time": "2024-06-09T18:26:05.800Z"
   },
   {
    "duration": 25,
    "start_time": "2024-06-09T18:26:17.792Z"
   },
   {
    "duration": 26,
    "start_time": "2024-06-09T18:29:54.756Z"
   },
   {
    "duration": 18,
    "start_time": "2024-06-09T18:30:07.719Z"
   },
   {
    "duration": 24,
    "start_time": "2024-06-09T18:43:45.879Z"
   },
   {
    "duration": 25,
    "start_time": "2024-06-09T18:43:52.047Z"
   },
   {
    "duration": 28,
    "start_time": "2024-06-09T18:46:45.802Z"
   },
   {
    "duration": 22,
    "start_time": "2024-06-09T19:00:56.147Z"
   },
   {
    "duration": 17,
    "start_time": "2024-06-09T19:01:00.897Z"
   },
   {
    "duration": 17,
    "start_time": "2024-06-09T19:08:23.405Z"
   },
   {
    "duration": 7,
    "start_time": "2024-06-09T19:08:36.599Z"
   },
   {
    "duration": 214,
    "start_time": "2024-06-09T19:10:01.405Z"
   },
   {
    "duration": 399,
    "start_time": "2024-06-09T19:10:17.866Z"
   },
   {
    "duration": 407,
    "start_time": "2024-06-09T19:11:12.508Z"
   },
   {
    "duration": 1449,
    "start_time": "2024-06-09T19:11:42.614Z"
   },
   {
    "duration": 403,
    "start_time": "2024-06-09T19:12:05.382Z"
   },
   {
    "duration": 7,
    "start_time": "2024-06-09T19:12:54.391Z"
   },
   {
    "duration": 438,
    "start_time": "2024-06-09T19:12:58.974Z"
   },
   {
    "duration": 466,
    "start_time": "2024-06-09T19:15:06.608Z"
   },
   {
    "duration": 417,
    "start_time": "2024-06-09T19:15:22.254Z"
   },
   {
    "duration": 458,
    "start_time": "2024-06-09T19:44:29.165Z"
   },
   {
    "duration": 8,
    "start_time": "2024-06-09T20:07:56.698Z"
   },
   {
    "duration": 481,
    "start_time": "2024-06-09T20:08:08.200Z"
   },
   {
    "duration": 86,
    "start_time": "2024-06-09T20:08:52.160Z"
   },
   {
    "duration": 97,
    "start_time": "2024-06-09T20:09:28.528Z"
   },
   {
    "duration": 102,
    "start_time": "2024-06-09T20:09:38.481Z"
   },
   {
    "duration": 120,
    "start_time": "2024-06-09T20:19:44.065Z"
   },
   {
    "duration": 114,
    "start_time": "2024-06-09T20:19:54.838Z"
   },
   {
    "duration": 181,
    "start_time": "2024-06-09T20:20:18.833Z"
   },
   {
    "duration": 113,
    "start_time": "2024-06-09T20:20:34.825Z"
   },
   {
    "duration": 287,
    "start_time": "2024-06-09T20:21:20.076Z"
   },
   {
    "duration": 288,
    "start_time": "2024-06-09T20:21:28.145Z"
   },
   {
    "duration": 313,
    "start_time": "2024-06-09T20:22:12.357Z"
   },
   {
    "duration": 318,
    "start_time": "2024-06-09T20:23:18.420Z"
   },
   {
    "duration": 293,
    "start_time": "2024-06-09T20:24:32.371Z"
   },
   {
    "duration": 4,
    "start_time": "2024-06-09T20:32:31.384Z"
   },
   {
    "duration": 319,
    "start_time": "2024-06-09T20:32:33.818Z"
   },
   {
    "duration": 303,
    "start_time": "2024-06-09T20:32:49.196Z"
   },
   {
    "duration": 81,
    "start_time": "2024-06-09T20:33:18.036Z"
   },
   {
    "duration": 314,
    "start_time": "2024-06-09T20:33:22.365Z"
   },
   {
    "duration": 283,
    "start_time": "2024-06-09T20:33:34.182Z"
   },
   {
    "duration": 344,
    "start_time": "2024-06-09T20:33:49.586Z"
   },
   {
    "duration": 86,
    "start_time": "2024-06-09T20:34:24.101Z"
   },
   {
    "duration": 254,
    "start_time": "2024-06-09T20:34:25.946Z"
   },
   {
    "duration": 88,
    "start_time": "2024-06-09T20:34:32.254Z"
   },
   {
    "duration": 243,
    "start_time": "2024-06-09T20:34:33.947Z"
   },
   {
    "duration": 96,
    "start_time": "2024-06-09T20:35:05.099Z"
   },
   {
    "duration": 117,
    "start_time": "2024-06-09T20:36:49.555Z"
   },
   {
    "duration": 278,
    "start_time": "2024-06-09T20:37:07.590Z"
   },
   {
    "duration": 276,
    "start_time": "2024-06-09T20:37:20.281Z"
   },
   {
    "duration": 90,
    "start_time": "2024-06-09T20:37:48.942Z"
   },
   {
    "duration": 252,
    "start_time": "2024-06-09T20:37:52.231Z"
   },
   {
    "duration": 260,
    "start_time": "2024-06-09T20:46:00.519Z"
   },
   {
    "duration": 253,
    "start_time": "2024-06-09T20:46:36.493Z"
   },
   {
    "duration": 235,
    "start_time": "2024-06-09T20:46:55.547Z"
   },
   {
    "duration": 237,
    "start_time": "2024-06-09T20:47:05.373Z"
   },
   {
    "duration": 450,
    "start_time": "2024-06-09T20:47:24.187Z"
   },
   {
    "duration": 232,
    "start_time": "2024-06-09T20:47:36.408Z"
   },
   {
    "duration": 232,
    "start_time": "2024-06-09T20:47:49.483Z"
   },
   {
    "duration": 248,
    "start_time": "2024-06-09T20:48:31.030Z"
   },
   {
    "duration": 270,
    "start_time": "2024-06-09T20:49:34.824Z"
   },
   {
    "duration": 16,
    "start_time": "2024-06-09T20:58:27.622Z"
   },
   {
    "duration": 20,
    "start_time": "2024-06-09T20:59:22.257Z"
   },
   {
    "duration": 22,
    "start_time": "2024-06-09T20:59:27.918Z"
   },
   {
    "duration": 6,
    "start_time": "2024-06-09T20:59:46.776Z"
   },
   {
    "duration": 260,
    "start_time": "2024-06-09T20:59:52.885Z"
   },
   {
    "duration": 210,
    "start_time": "2024-06-09T21:00:36.148Z"
   },
   {
    "duration": 41,
    "start_time": "2024-06-09T21:01:22.518Z"
   },
   {
    "duration": 213,
    "start_time": "2024-06-09T21:09:44.060Z"
   },
   {
    "duration": 210,
    "start_time": "2024-06-09T21:14:02.672Z"
   },
   {
    "duration": 277,
    "start_time": "2024-06-09T21:16:25.072Z"
   },
   {
    "duration": 207,
    "start_time": "2024-06-09T21:16:50.610Z"
   },
   {
    "duration": 234,
    "start_time": "2024-06-09T21:18:05.518Z"
   },
   {
    "duration": 201,
    "start_time": "2024-06-09T21:19:39.072Z"
   },
   {
    "duration": 216,
    "start_time": "2024-06-09T21:20:12.940Z"
   },
   {
    "duration": 26,
    "start_time": "2024-06-09T21:21:53.889Z"
   },
   {
    "duration": 228,
    "start_time": "2024-06-09T21:22:49.707Z"
   },
   {
    "duration": 25,
    "start_time": "2024-06-09T21:22:52.031Z"
   },
   {
    "duration": 8,
    "start_time": "2024-06-09T21:26:52.067Z"
   },
   {
    "duration": 19,
    "start_time": "2024-06-09T21:27:04.206Z"
   },
   {
    "duration": 21,
    "start_time": "2024-06-09T21:27:17.091Z"
   },
   {
    "duration": 400,
    "start_time": "2024-06-09T21:27:27.298Z"
   },
   {
    "duration": 6,
    "start_time": "2024-06-09T21:27:50.749Z"
   },
   {
    "duration": 22,
    "start_time": "2024-06-09T21:28:00.914Z"
   },
   {
    "duration": 117,
    "start_time": "2024-06-09T21:28:45.017Z"
   },
   {
    "duration": 215,
    "start_time": "2024-06-09T21:28:50.647Z"
   },
   {
    "duration": 93,
    "start_time": "2024-06-09T21:28:52.312Z"
   },
   {
    "duration": 210,
    "start_time": "2024-06-09T21:29:04.214Z"
   },
   {
    "duration": 83,
    "start_time": "2024-06-09T21:29:14.010Z"
   },
   {
    "duration": 84,
    "start_time": "2024-06-09T21:29:41.511Z"
   },
   {
    "duration": 702,
    "start_time": "2024-06-09T21:29:48.684Z"
   },
   {
    "duration": 1658,
    "start_time": "2024-06-09T21:29:49.390Z"
   },
   {
    "duration": 59,
    "start_time": "2024-06-09T21:29:51.050Z"
   },
   {
    "duration": 33,
    "start_time": "2024-06-09T21:29:51.124Z"
   },
   {
    "duration": 24,
    "start_time": "2024-06-09T21:29:51.160Z"
   },
   {
    "duration": 52,
    "start_time": "2024-06-09T21:29:51.187Z"
   },
   {
    "duration": 380,
    "start_time": "2024-06-09T21:29:51.242Z"
   },
   {
    "duration": 111,
    "start_time": "2024-06-09T21:29:51.625Z"
   },
   {
    "duration": 26,
    "start_time": "2024-06-09T21:29:51.738Z"
   },
   {
    "duration": 196,
    "start_time": "2024-06-09T21:29:51.770Z"
   },
   {
    "duration": 173,
    "start_time": "2024-06-09T21:29:51.969Z"
   },
   {
    "duration": 47,
    "start_time": "2024-06-09T21:29:52.146Z"
   },
   {
    "duration": 47,
    "start_time": "2024-06-09T21:29:52.196Z"
   },
   {
    "duration": 6,
    "start_time": "2024-06-09T21:29:52.247Z"
   },
   {
    "duration": 78,
    "start_time": "2024-06-09T21:29:52.256Z"
   },
   {
    "duration": 10,
    "start_time": "2024-06-09T21:29:52.338Z"
   },
   {
    "duration": 10,
    "start_time": "2024-06-09T21:29:52.351Z"
   },
   {
    "duration": 71,
    "start_time": "2024-06-09T21:29:52.367Z"
   },
   {
    "duration": 6,
    "start_time": "2024-06-09T21:29:52.441Z"
   },
   {
    "duration": 5,
    "start_time": "2024-06-09T21:29:52.451Z"
   },
   {
    "duration": 7,
    "start_time": "2024-06-09T21:29:52.460Z"
   },
   {
    "duration": 6,
    "start_time": "2024-06-09T21:29:52.470Z"
   },
   {
    "duration": 1392,
    "start_time": "2024-06-09T21:29:52.523Z"
   },
   {
    "duration": 353,
    "start_time": "2024-06-09T21:29:53.917Z"
   },
   {
    "duration": 20,
    "start_time": "2024-06-09T21:29:54.273Z"
   },
   {
    "duration": 35,
    "start_time": "2024-06-09T21:29:54.296Z"
   },
   {
    "duration": 22,
    "start_time": "2024-06-09T21:29:54.335Z"
   },
   {
    "duration": 9,
    "start_time": "2024-06-09T21:29:54.366Z"
   },
   {
    "duration": 16,
    "start_time": "2024-06-09T21:29:54.378Z"
   },
   {
    "duration": 21,
    "start_time": "2024-06-09T21:29:54.424Z"
   },
   {
    "duration": 15,
    "start_time": "2024-06-09T21:29:54.449Z"
   },
   {
    "duration": 78,
    "start_time": "2024-06-09T21:29:54.468Z"
   },
   {
    "duration": 25,
    "start_time": "2024-06-09T21:29:54.549Z"
   },
   {
    "duration": 54,
    "start_time": "2024-06-09T21:29:54.577Z"
   },
   {
    "duration": 52,
    "start_time": "2024-06-09T21:29:54.634Z"
   },
   {
    "duration": 34,
    "start_time": "2024-06-09T21:29:54.689Z"
   },
   {
    "duration": 17,
    "start_time": "2024-06-09T21:29:54.726Z"
   },
   {
    "duration": 82,
    "start_time": "2024-06-09T21:29:54.746Z"
   },
   {
    "duration": 32,
    "start_time": "2024-06-09T21:29:54.831Z"
   },
   {
    "duration": 7,
    "start_time": "2024-06-09T21:29:54.866Z"
   },
   {
    "duration": 7,
    "start_time": "2024-06-09T21:29:54.876Z"
   },
   {
    "duration": 418,
    "start_time": "2024-06-09T21:29:54.925Z"
   },
   {
    "duration": 6,
    "start_time": "2024-06-09T21:29:55.346Z"
   },
   {
    "duration": 286,
    "start_time": "2024-06-09T21:29:55.357Z"
   },
   {
    "duration": 355,
    "start_time": "2024-06-09T21:29:55.646Z"
   },
   {
    "duration": 32,
    "start_time": "2024-06-09T21:29:56.004Z"
   },
   {
    "duration": 18,
    "start_time": "2024-06-09T21:29:56.039Z"
   },
   {
    "duration": 8,
    "start_time": "2024-06-09T21:29:56.060Z"
   },
   {
    "duration": 483,
    "start_time": "2024-06-09T21:29:56.071Z"
   },
   {
    "duration": 105,
    "start_time": "2024-06-09T21:29:56.557Z"
   },
   {
    "duration": 303,
    "start_time": "2024-06-09T21:29:56.665Z"
   },
   {
    "duration": 327,
    "start_time": "2024-06-09T21:29:56.971Z"
   },
   {
    "duration": 1238,
    "start_time": "2024-06-09T21:29:57.301Z"
   },
   {
    "duration": 294,
    "start_time": "2024-06-09T21:30:16.530Z"
   },
   {
    "duration": 245,
    "start_time": "2024-06-09T21:30:34.524Z"
   },
   {
    "duration": 15,
    "start_time": "2024-06-09T21:30:44.303Z"
   },
   {
    "duration": 29,
    "start_time": "2024-06-09T21:30:51.564Z"
   },
   {
    "duration": 715,
    "start_time": "2024-06-09T21:31:22.420Z"
   },
   {
    "duration": 1585,
    "start_time": "2024-06-09T21:31:23.139Z"
   },
   {
    "duration": 49,
    "start_time": "2024-06-09T21:31:24.728Z"
   },
   {
    "duration": 53,
    "start_time": "2024-06-09T21:31:24.780Z"
   },
   {
    "duration": 22,
    "start_time": "2024-06-09T21:31:24.838Z"
   },
   {
    "duration": 23,
    "start_time": "2024-06-09T21:31:24.863Z"
   },
   {
    "duration": 407,
    "start_time": "2024-06-09T21:31:24.889Z"
   },
   {
    "duration": 135,
    "start_time": "2024-06-09T21:31:25.300Z"
   },
   {
    "duration": 22,
    "start_time": "2024-06-09T21:31:25.438Z"
   },
   {
    "duration": 222,
    "start_time": "2024-06-09T21:31:25.463Z"
   },
   {
    "duration": 184,
    "start_time": "2024-06-09T21:31:25.688Z"
   },
   {
    "duration": 64,
    "start_time": "2024-06-09T21:31:25.875Z"
   },
   {
    "duration": 22,
    "start_time": "2024-06-09T21:31:25.943Z"
   },
   {
    "duration": 6,
    "start_time": "2024-06-09T21:31:25.972Z"
   },
   {
    "duration": 81,
    "start_time": "2024-06-09T21:31:25.981Z"
   },
   {
    "duration": 9,
    "start_time": "2024-06-09T21:31:26.066Z"
   },
   {
    "duration": 9,
    "start_time": "2024-06-09T21:31:26.079Z"
   },
   {
    "duration": 68,
    "start_time": "2024-06-09T21:31:26.091Z"
   },
   {
    "duration": 6,
    "start_time": "2024-06-09T21:31:26.162Z"
   },
   {
    "duration": 5,
    "start_time": "2024-06-09T21:31:26.172Z"
   },
   {
    "duration": 45,
    "start_time": "2024-06-09T21:31:26.181Z"
   },
   {
    "duration": 5,
    "start_time": "2024-06-09T21:31:26.230Z"
   },
   {
    "duration": 1433,
    "start_time": "2024-06-09T21:31:26.238Z"
   },
   {
    "duration": 356,
    "start_time": "2024-06-09T21:31:27.674Z"
   },
   {
    "duration": 21,
    "start_time": "2024-06-09T21:31:28.034Z"
   },
   {
    "duration": 11,
    "start_time": "2024-06-09T21:31:28.059Z"
   },
   {
    "duration": 52,
    "start_time": "2024-06-09T21:31:28.074Z"
   },
   {
    "duration": 10,
    "start_time": "2024-06-09T21:31:28.130Z"
   },
   {
    "duration": 18,
    "start_time": "2024-06-09T21:31:28.145Z"
   },
   {
    "duration": 69,
    "start_time": "2024-06-09T21:31:28.167Z"
   },
   {
    "duration": 15,
    "start_time": "2024-06-09T21:31:28.239Z"
   },
   {
    "duration": 67,
    "start_time": "2024-06-09T21:31:28.257Z"
   },
   {
    "duration": 21,
    "start_time": "2024-06-09T21:31:28.328Z"
   },
   {
    "duration": 26,
    "start_time": "2024-06-09T21:31:28.352Z"
   },
   {
    "duration": 91,
    "start_time": "2024-06-09T21:31:28.382Z"
   },
   {
    "duration": 10,
    "start_time": "2024-06-09T21:31:28.477Z"
   },
   {
    "duration": 45,
    "start_time": "2024-06-09T21:31:28.491Z"
   },
   {
    "duration": 88,
    "start_time": "2024-06-09T21:31:28.539Z"
   },
   {
    "duration": 38,
    "start_time": "2024-06-09T21:31:28.631Z"
   },
   {
    "duration": 9,
    "start_time": "2024-06-09T21:31:28.673Z"
   },
   {
    "duration": 9,
    "start_time": "2024-06-09T21:31:28.728Z"
   },
   {
    "duration": 469,
    "start_time": "2024-06-09T21:31:28.741Z"
   },
   {
    "duration": 10,
    "start_time": "2024-06-09T21:31:29.213Z"
   },
   {
    "duration": 273,
    "start_time": "2024-06-09T21:31:29.226Z"
   },
   {
    "duration": 362,
    "start_time": "2024-06-09T21:31:29.502Z"
   },
   {
    "duration": 23,
    "start_time": "2024-06-09T21:31:29.867Z"
   },
   {
    "duration": 43,
    "start_time": "2024-06-09T21:31:29.895Z"
   },
   {
    "duration": 8,
    "start_time": "2024-06-09T21:31:29.943Z"
   },
   {
    "duration": 486,
    "start_time": "2024-06-09T21:31:29.954Z"
   },
   {
    "duration": 95,
    "start_time": "2024-06-09T21:31:30.443Z"
   },
   {
    "duration": 282,
    "start_time": "2024-06-09T21:31:30.541Z"
   },
   {
    "duration": 333,
    "start_time": "2024-06-09T21:31:30.827Z"
   },
   {
    "duration": 26,
    "start_time": "2024-06-09T21:31:31.163Z"
   },
   {
    "duration": 707,
    "start_time": "2024-06-09T21:32:00.863Z"
   },
   {
    "duration": 1653,
    "start_time": "2024-06-09T21:32:01.573Z"
   },
   {
    "duration": 47,
    "start_time": "2024-06-09T21:32:03.229Z"
   },
   {
    "duration": 53,
    "start_time": "2024-06-09T21:32:03.280Z"
   },
   {
    "duration": 21,
    "start_time": "2024-06-09T21:32:03.338Z"
   },
   {
    "duration": 22,
    "start_time": "2024-06-09T21:32:03.362Z"
   },
   {
    "duration": 421,
    "start_time": "2024-06-09T21:32:03.424Z"
   },
   {
    "duration": 132,
    "start_time": "2024-06-09T21:32:03.856Z"
   },
   {
    "duration": 40,
    "start_time": "2024-06-09T21:32:03.991Z"
   },
   {
    "duration": 239,
    "start_time": "2024-06-09T21:32:04.036Z"
   },
   {
    "duration": 196,
    "start_time": "2024-06-09T21:32:04.278Z"
   },
   {
    "duration": 76,
    "start_time": "2024-06-09T21:32:04.478Z"
   },
   {
    "duration": 27,
    "start_time": "2024-06-09T21:32:04.557Z"
   },
   {
    "duration": 6,
    "start_time": "2024-06-09T21:32:04.592Z"
   },
   {
    "duration": 48,
    "start_time": "2024-06-09T21:32:04.625Z"
   },
   {
    "duration": 9,
    "start_time": "2024-06-09T21:32:04.677Z"
   },
   {
    "duration": 8,
    "start_time": "2024-06-09T21:32:04.722Z"
   },
   {
    "duration": 41,
    "start_time": "2024-06-09T21:32:04.733Z"
   },
   {
    "duration": 7,
    "start_time": "2024-06-09T21:32:04.777Z"
   },
   {
    "duration": 40,
    "start_time": "2024-06-09T21:32:04.787Z"
   },
   {
    "duration": 7,
    "start_time": "2024-06-09T21:32:04.831Z"
   },
   {
    "duration": 6,
    "start_time": "2024-06-09T21:32:04.841Z"
   },
   {
    "duration": 1411,
    "start_time": "2024-06-09T21:32:04.851Z"
   },
   {
    "duration": 375,
    "start_time": "2024-06-09T21:32:06.265Z"
   },
   {
    "duration": 22,
    "start_time": "2024-06-09T21:32:06.648Z"
   },
   {
    "duration": 12,
    "start_time": "2024-06-09T21:32:06.673Z"
   },
   {
    "duration": 38,
    "start_time": "2024-06-09T21:32:06.688Z"
   },
   {
    "duration": 10,
    "start_time": "2024-06-09T21:32:06.729Z"
   },
   {
    "duration": 16,
    "start_time": "2024-06-09T21:32:06.743Z"
   },
   {
    "duration": 20,
    "start_time": "2024-06-09T21:32:06.761Z"
   },
   {
    "duration": 14,
    "start_time": "2024-06-09T21:32:06.822Z"
   },
   {
    "duration": 31,
    "start_time": "2024-06-09T21:32:06.839Z"
   },
   {
    "duration": 57,
    "start_time": "2024-06-09T21:32:06.873Z"
   },
   {
    "duration": 25,
    "start_time": "2024-06-09T21:32:06.933Z"
   },
   {
    "duration": 82,
    "start_time": "2024-06-09T21:32:06.961Z"
   },
   {
    "duration": 9,
    "start_time": "2024-06-09T21:32:07.046Z"
   },
   {
    "duration": 17,
    "start_time": "2024-06-09T21:32:07.058Z"
   },
   {
    "duration": 85,
    "start_time": "2024-06-09T21:32:07.078Z"
   },
   {
    "duration": 34,
    "start_time": "2024-06-09T21:32:07.165Z"
   },
   {
    "duration": 8,
    "start_time": "2024-06-09T21:32:07.222Z"
   },
   {
    "duration": 7,
    "start_time": "2024-06-09T21:32:07.239Z"
   },
   {
    "duration": 449,
    "start_time": "2024-06-09T21:32:07.249Z"
   },
   {
    "duration": 6,
    "start_time": "2024-06-09T21:32:07.701Z"
   },
   {
    "duration": 276,
    "start_time": "2024-06-09T21:32:07.722Z"
   },
   {
    "duration": 330,
    "start_time": "2024-06-09T21:32:08.001Z"
   },
   {
    "duration": 21,
    "start_time": "2024-06-09T21:32:08.334Z"
   },
   {
    "duration": 19,
    "start_time": "2024-06-09T21:32:08.358Z"
   },
   {
    "duration": 8,
    "start_time": "2024-06-09T21:32:08.379Z"
   },
   {
    "duration": 461,
    "start_time": "2024-06-09T21:32:08.424Z"
   },
   {
    "duration": 99,
    "start_time": "2024-06-09T21:32:08.889Z"
   },
   {
    "duration": 278,
    "start_time": "2024-06-09T21:32:08.991Z"
   },
   {
    "duration": 319,
    "start_time": "2024-06-09T21:32:09.271Z"
   },
   {
    "duration": 1263,
    "start_time": "2024-06-09T21:32:09.593Z"
   },
   {
    "duration": 722,
    "start_time": "2024-06-09T21:33:41.181Z"
   },
   {
    "duration": 1612,
    "start_time": "2024-06-09T21:33:41.907Z"
   },
   {
    "duration": 55,
    "start_time": "2024-06-09T21:33:43.524Z"
   },
   {
    "duration": 57,
    "start_time": "2024-06-09T21:33:43.583Z"
   },
   {
    "duration": 26,
    "start_time": "2024-06-09T21:33:43.648Z"
   },
   {
    "duration": 62,
    "start_time": "2024-06-09T21:33:43.679Z"
   },
   {
    "duration": 432,
    "start_time": "2024-06-09T21:33:43.744Z"
   },
   {
    "duration": 144,
    "start_time": "2024-06-09T21:33:44.180Z"
   },
   {
    "duration": 24,
    "start_time": "2024-06-09T21:33:44.328Z"
   },
   {
    "duration": 247,
    "start_time": "2024-06-09T21:33:44.355Z"
   },
   {
    "duration": 231,
    "start_time": "2024-06-09T21:33:44.606Z"
   },
   {
    "duration": 81,
    "start_time": "2024-06-09T21:33:44.841Z"
   },
   {
    "duration": 28,
    "start_time": "2024-06-09T21:33:44.925Z"
   },
   {
    "duration": 6,
    "start_time": "2024-06-09T21:33:44.960Z"
   },
   {
    "duration": 90,
    "start_time": "2024-06-09T21:33:44.971Z"
   },
   {
    "duration": 10,
    "start_time": "2024-06-09T21:33:45.064Z"
   },
   {
    "duration": 9,
    "start_time": "2024-06-09T21:33:45.078Z"
   },
   {
    "duration": 71,
    "start_time": "2024-06-09T21:33:45.090Z"
   },
   {
    "duration": 7,
    "start_time": "2024-06-09T21:33:45.165Z"
   },
   {
    "duration": 6,
    "start_time": "2024-06-09T21:33:45.176Z"
   },
   {
    "duration": 7,
    "start_time": "2024-06-09T21:33:45.224Z"
   },
   {
    "duration": 6,
    "start_time": "2024-06-09T21:33:45.235Z"
   },
   {
    "duration": 1507,
    "start_time": "2024-06-09T21:33:45.244Z"
   },
   {
    "duration": 348,
    "start_time": "2024-06-09T21:33:46.754Z"
   },
   {
    "duration": 32,
    "start_time": "2024-06-09T21:33:47.105Z"
   },
   {
    "duration": 11,
    "start_time": "2024-06-09T21:33:47.141Z"
   },
   {
    "duration": 10,
    "start_time": "2024-06-09T21:33:47.155Z"
   },
   {
    "duration": 54,
    "start_time": "2024-06-09T21:33:47.169Z"
   },
   {
    "duration": 16,
    "start_time": "2024-06-09T21:33:47.226Z"
   },
   {
    "duration": 24,
    "start_time": "2024-06-09T21:33:47.246Z"
   },
   {
    "duration": 52,
    "start_time": "2024-06-09T21:33:47.274Z"
   },
   {
    "duration": 32,
    "start_time": "2024-06-09T21:33:47.329Z"
   },
   {
    "duration": 58,
    "start_time": "2024-06-09T21:33:47.364Z"
   },
   {
    "duration": 25,
    "start_time": "2024-06-09T21:33:47.425Z"
   },
   {
    "duration": 78,
    "start_time": "2024-06-09T21:33:47.453Z"
   },
   {
    "duration": 10,
    "start_time": "2024-06-09T21:33:47.534Z"
   },
   {
    "duration": 16,
    "start_time": "2024-06-09T21:33:47.547Z"
   },
   {
    "duration": 94,
    "start_time": "2024-06-09T21:33:47.566Z"
   },
   {
    "duration": 32,
    "start_time": "2024-06-09T21:33:47.663Z"
   },
   {
    "duration": 26,
    "start_time": "2024-06-09T21:33:47.698Z"
   },
   {
    "duration": 8,
    "start_time": "2024-06-09T21:33:47.735Z"
   },
   {
    "duration": 452,
    "start_time": "2024-06-09T21:33:47.746Z"
   },
   {
    "duration": 6,
    "start_time": "2024-06-09T21:33:48.201Z"
   },
   {
    "duration": 262,
    "start_time": "2024-06-09T21:33:48.223Z"
   },
   {
    "duration": 330,
    "start_time": "2024-06-09T21:33:48.488Z"
   },
   {
    "duration": 19,
    "start_time": "2024-06-09T21:33:48.824Z"
   },
   {
    "duration": 19,
    "start_time": "2024-06-09T21:33:48.846Z"
   },
   {
    "duration": 8,
    "start_time": "2024-06-09T21:33:48.869Z"
   },
   {
    "duration": 485,
    "start_time": "2024-06-09T21:33:48.880Z"
   },
   {
    "duration": 97,
    "start_time": "2024-06-09T21:33:49.370Z"
   },
   {
    "duration": 294,
    "start_time": "2024-06-09T21:33:49.470Z"
   },
   {
    "duration": 324,
    "start_time": "2024-06-09T21:33:49.767Z"
   },
   {
    "duration": 38,
    "start_time": "2024-06-09T21:33:50.094Z"
   },
   {
    "duration": 409,
    "start_time": "2024-06-09T21:35:44.902Z"
   },
   {
    "duration": 334,
    "start_time": "2024-06-09T21:36:06.381Z"
   },
   {
    "duration": 387,
    "start_time": "2024-06-09T21:38:46.964Z"
   },
   {
    "duration": 8,
    "start_time": "2024-06-09T21:39:30.050Z"
   },
   {
    "duration": 462,
    "start_time": "2024-06-09T21:39:34.945Z"
   },
   {
    "duration": 9,
    "start_time": "2024-06-09T21:54:58.823Z"
   },
   {
    "duration": 392,
    "start_time": "2024-06-09T21:55:02.270Z"
   },
   {
    "duration": 401,
    "start_time": "2024-06-09T21:55:20.186Z"
   },
   {
    "duration": 4284,
    "start_time": "2024-06-09T23:21:31.463Z"
   },
   {
    "duration": 1693,
    "start_time": "2024-06-09T23:21:35.751Z"
   },
   {
    "duration": 64,
    "start_time": "2024-06-09T23:21:37.447Z"
   },
   {
    "duration": 25,
    "start_time": "2024-06-09T23:21:37.515Z"
   },
   {
    "duration": 21,
    "start_time": "2024-06-09T23:21:37.543Z"
   },
   {
    "duration": 20,
    "start_time": "2024-06-09T23:21:37.602Z"
   },
   {
    "duration": 378,
    "start_time": "2024-06-09T23:21:37.625Z"
   },
   {
    "duration": 104,
    "start_time": "2024-06-09T23:21:38.005Z"
   },
   {
    "duration": 21,
    "start_time": "2024-06-09T23:21:38.112Z"
   },
   {
    "duration": 208,
    "start_time": "2024-06-09T23:21:38.138Z"
   },
   {
    "duration": 170,
    "start_time": "2024-06-09T23:21:38.348Z"
   },
   {
    "duration": 51,
    "start_time": "2024-06-09T23:21:38.522Z"
   },
   {
    "duration": 41,
    "start_time": "2024-06-09T23:21:38.579Z"
   },
   {
    "duration": 6,
    "start_time": "2024-06-09T23:21:38.623Z"
   },
   {
    "duration": 72,
    "start_time": "2024-06-09T23:21:38.633Z"
   },
   {
    "duration": 7,
    "start_time": "2024-06-09T23:21:38.708Z"
   },
   {
    "duration": 11,
    "start_time": "2024-06-09T23:21:38.718Z"
   },
   {
    "duration": 72,
    "start_time": "2024-06-09T23:21:38.733Z"
   },
   {
    "duration": 6,
    "start_time": "2024-06-09T23:21:38.808Z"
   },
   {
    "duration": 6,
    "start_time": "2024-06-09T23:21:38.817Z"
   },
   {
    "duration": 7,
    "start_time": "2024-06-09T23:21:38.826Z"
   },
   {
    "duration": 5,
    "start_time": "2024-06-09T23:21:38.837Z"
   },
   {
    "duration": 1378,
    "start_time": "2024-06-09T23:21:38.846Z"
   },
   {
    "duration": 337,
    "start_time": "2024-06-09T23:21:40.227Z"
   },
   {
    "duration": 21,
    "start_time": "2024-06-09T23:21:40.566Z"
   },
   {
    "duration": 10,
    "start_time": "2024-06-09T23:21:40.601Z"
   },
   {
    "duration": 10,
    "start_time": "2024-06-09T23:21:40.614Z"
   },
   {
    "duration": 10,
    "start_time": "2024-06-09T23:21:40.637Z"
   },
   {
    "duration": 51,
    "start_time": "2024-06-09T23:21:40.650Z"
   },
   {
    "duration": 21,
    "start_time": "2024-06-09T23:21:40.705Z"
   },
   {
    "duration": 15,
    "start_time": "2024-06-09T23:21:40.730Z"
   },
   {
    "duration": 72,
    "start_time": "2024-06-09T23:21:40.748Z"
   },
   {
    "duration": 19,
    "start_time": "2024-06-09T23:21:40.823Z"
   },
   {
    "duration": 55,
    "start_time": "2024-06-09T23:21:40.846Z"
   },
   {
    "duration": 51,
    "start_time": "2024-06-09T23:21:40.905Z"
   },
   {
    "duration": 9,
    "start_time": "2024-06-09T23:21:40.959Z"
   },
   {
    "duration": 15,
    "start_time": "2024-06-09T23:21:41.001Z"
   },
   {
    "duration": 51,
    "start_time": "2024-06-09T23:21:41.019Z"
   },
   {
    "duration": 55,
    "start_time": "2024-06-09T23:21:41.073Z"
   },
   {
    "duration": 6,
    "start_time": "2024-06-09T23:21:41.131Z"
   },
   {
    "duration": 7,
    "start_time": "2024-06-09T23:21:41.140Z"
   },
   {
    "duration": 441,
    "start_time": "2024-06-09T23:21:41.150Z"
   },
   {
    "duration": 9,
    "start_time": "2024-06-09T23:21:41.594Z"
   },
   {
    "duration": 281,
    "start_time": "2024-06-09T23:21:41.607Z"
   },
   {
    "duration": 399,
    "start_time": "2024-06-09T23:21:41.891Z"
   },
   {
    "duration": 18,
    "start_time": "2024-06-09T23:21:42.301Z"
   },
   {
    "duration": 18,
    "start_time": "2024-06-09T23:21:42.321Z"
   },
   {
    "duration": 8,
    "start_time": "2024-06-09T23:21:42.341Z"
   },
   {
    "duration": 505,
    "start_time": "2024-06-09T23:21:42.352Z"
   },
   {
    "duration": 95,
    "start_time": "2024-06-09T23:21:42.860Z"
   },
   {
    "duration": 283,
    "start_time": "2024-06-09T23:21:42.958Z"
   },
   {
    "duration": 301,
    "start_time": "2024-06-09T23:21:43.245Z"
   },
   {
    "duration": 25,
    "start_time": "2024-06-09T23:21:43.548Z"
   },
   {
    "duration": 442,
    "start_time": "2024-06-09T23:21:43.576Z"
   },
   {
    "duration": 820,
    "start_time": "2024-06-10T00:15:57.872Z"
   },
   {
    "duration": 1591,
    "start_time": "2024-06-10T00:15:58.696Z"
   },
   {
    "duration": 48,
    "start_time": "2024-06-10T00:16:00.289Z"
   },
   {
    "duration": 24,
    "start_time": "2024-06-10T00:16:00.342Z"
   },
   {
    "duration": 48,
    "start_time": "2024-06-10T00:16:00.369Z"
   },
   {
    "duration": 20,
    "start_time": "2024-06-10T00:16:00.420Z"
   },
   {
    "duration": 381,
    "start_time": "2024-06-10T00:16:00.443Z"
   },
   {
    "duration": 116,
    "start_time": "2024-06-10T00:16:00.827Z"
   },
   {
    "duration": 22,
    "start_time": "2024-06-10T00:16:00.946Z"
   },
   {
    "duration": 244,
    "start_time": "2024-06-10T00:16:00.975Z"
   },
   {
    "duration": 189,
    "start_time": "2024-06-10T00:16:01.222Z"
   },
   {
    "duration": 51,
    "start_time": "2024-06-10T00:16:01.415Z"
   },
   {
    "duration": 54,
    "start_time": "2024-06-10T00:16:01.470Z"
   },
   {
    "duration": 6,
    "start_time": "2024-06-10T00:16:01.527Z"
   },
   {
    "duration": 77,
    "start_time": "2024-06-10T00:16:01.536Z"
   },
   {
    "duration": 9,
    "start_time": "2024-06-10T00:16:01.616Z"
   },
   {
    "duration": 8,
    "start_time": "2024-06-10T00:16:01.628Z"
   },
   {
    "duration": 73,
    "start_time": "2024-06-10T00:16:01.639Z"
   },
   {
    "duration": 6,
    "start_time": "2024-06-10T00:16:01.715Z"
   },
   {
    "duration": 5,
    "start_time": "2024-06-10T00:16:01.724Z"
   },
   {
    "duration": 6,
    "start_time": "2024-06-10T00:16:01.733Z"
   },
   {
    "duration": 5,
    "start_time": "2024-06-10T00:16:01.743Z"
   },
   {
    "duration": 1339,
    "start_time": "2024-06-10T00:16:01.802Z"
   },
   {
    "duration": 368,
    "start_time": "2024-06-10T00:16:03.143Z"
   },
   {
    "duration": 19,
    "start_time": "2024-06-10T00:16:03.514Z"
   },
   {
    "duration": 11,
    "start_time": "2024-06-10T00:16:03.535Z"
   },
   {
    "duration": 10,
    "start_time": "2024-06-10T00:16:03.549Z"
   },
   {
    "duration": 9,
    "start_time": "2024-06-10T00:16:03.606Z"
   },
   {
    "duration": 16,
    "start_time": "2024-06-10T00:16:03.618Z"
   },
   {
    "duration": 20,
    "start_time": "2024-06-10T00:16:03.639Z"
   },
   {
    "duration": 51,
    "start_time": "2024-06-10T00:16:03.662Z"
   },
   {
    "duration": 28,
    "start_time": "2024-06-10T00:16:03.716Z"
   },
   {
    "duration": 55,
    "start_time": "2024-06-10T00:16:03.748Z"
   },
   {
    "duration": 24,
    "start_time": "2024-06-10T00:16:03.806Z"
   },
   {
    "duration": 77,
    "start_time": "2024-06-10T00:16:03.833Z"
   },
   {
    "duration": 10,
    "start_time": "2024-06-10T00:16:03.912Z"
   },
   {
    "duration": 17,
    "start_time": "2024-06-10T00:16:03.925Z"
   },
   {
    "duration": 91,
    "start_time": "2024-06-10T00:16:03.944Z"
   },
   {
    "duration": 32,
    "start_time": "2024-06-10T00:16:04.038Z"
   },
   {
    "duration": 28,
    "start_time": "2024-06-10T00:16:04.073Z"
   },
   {
    "duration": 7,
    "start_time": "2024-06-10T00:16:04.105Z"
   },
   {
    "duration": 441,
    "start_time": "2024-06-10T00:16:04.115Z"
   },
   {
    "duration": 6,
    "start_time": "2024-06-10T00:16:04.559Z"
   },
   {
    "duration": 270,
    "start_time": "2024-06-10T00:16:04.568Z"
   },
   {
    "duration": 331,
    "start_time": "2024-06-10T00:16:04.840Z"
   },
   {
    "duration": 31,
    "start_time": "2024-06-10T00:16:05.175Z"
   },
   {
    "duration": 18,
    "start_time": "2024-06-10T00:16:05.209Z"
   },
   {
    "duration": 7,
    "start_time": "2024-06-10T00:16:05.230Z"
   },
   {
    "duration": 474,
    "start_time": "2024-06-10T00:16:05.241Z"
   },
   {
    "duration": 140,
    "start_time": "2024-06-10T00:16:05.719Z"
   },
   {
    "duration": 309,
    "start_time": "2024-06-10T00:16:05.862Z"
   },
   {
    "duration": 309,
    "start_time": "2024-06-10T00:16:06.173Z"
   },
   {
    "duration": 35,
    "start_time": "2024-06-10T00:16:06.485Z"
   },
   {
    "duration": 451,
    "start_time": "2024-06-10T00:16:06.523Z"
   },
   {
    "duration": 125,
    "start_time": "2024-06-10T00:16:42.987Z"
   },
   {
    "duration": 109,
    "start_time": "2024-06-10T00:23:06.521Z"
   },
   {
    "duration": 278,
    "start_time": "2024-06-10T00:23:17.084Z"
   },
   {
    "duration": 227,
    "start_time": "2024-06-10T00:23:46.787Z"
   },
   {
    "duration": 369,
    "start_time": "2024-06-10T00:24:05.393Z"
   },
   {
    "duration": 1085,
    "start_time": "2024-06-10T00:29:23.836Z"
   },
   {
    "duration": 131,
    "start_time": "2024-06-10T00:29:38.830Z"
   },
   {
    "duration": 79,
    "start_time": "2024-06-10T00:30:26.420Z"
   },
   {
    "duration": 202,
    "start_time": "2024-06-10T00:30:58.501Z"
   },
   {
    "duration": 205,
    "start_time": "2024-06-10T00:31:23.744Z"
   },
   {
    "duration": 200,
    "start_time": "2024-06-10T00:31:32.680Z"
   },
   {
    "duration": 562,
    "start_time": "2024-06-10T00:33:20.433Z"
   },
   {
    "duration": 7,
    "start_time": "2024-06-10T00:36:20.333Z"
   },
   {
    "duration": 559,
    "start_time": "2024-06-10T00:37:04.864Z"
   },
   {
    "duration": 7,
    "start_time": "2024-06-10T00:46:09.995Z"
   },
   {
    "duration": 553,
    "start_time": "2024-06-10T00:46:18.431Z"
   },
   {
    "duration": 530,
    "start_time": "2024-06-10T00:48:08.834Z"
   },
   {
    "duration": 13,
    "start_time": "2024-06-10T00:49:25.252Z"
   },
   {
    "duration": 249,
    "start_time": "2024-06-10T00:50:09.535Z"
   },
   {
    "duration": 238,
    "start_time": "2024-06-10T00:50:32.071Z"
   },
   {
    "duration": 12,
    "start_time": "2024-06-10T00:50:52.955Z"
   },
   {
    "duration": 264,
    "start_time": "2024-06-10T00:51:06.765Z"
   },
   {
    "duration": 75,
    "start_time": "2024-06-10T00:52:56.442Z"
   },
   {
    "duration": 238,
    "start_time": "2024-06-10T00:54:07.168Z"
   },
   {
    "duration": 12,
    "start_time": "2024-06-10T01:02:11.481Z"
   },
   {
    "duration": 536,
    "start_time": "2024-06-10T01:06:06.377Z"
   },
   {
    "duration": 62,
    "start_time": "2024-06-10T01:08:30.720Z"
   },
   {
    "duration": 85,
    "start_time": "2024-06-10T01:09:08.921Z"
   },
   {
    "duration": 92,
    "start_time": "2024-06-10T01:09:32.750Z"
   },
   {
    "duration": 95,
    "start_time": "2024-06-10T01:09:42.847Z"
   },
   {
    "duration": 85,
    "start_time": "2024-06-10T01:09:52.907Z"
   },
   {
    "duration": 88,
    "start_time": "2024-06-10T01:10:12.231Z"
   },
   {
    "duration": 93,
    "start_time": "2024-06-10T01:10:46.474Z"
   },
   {
    "duration": 96,
    "start_time": "2024-06-10T01:21:46.006Z"
   },
   {
    "duration": 87,
    "start_time": "2024-06-10T01:22:17.567Z"
   },
   {
    "duration": 99,
    "start_time": "2024-06-10T01:25:31.041Z"
   },
   {
    "duration": 114,
    "start_time": "2024-06-10T01:26:36.216Z"
   },
   {
    "duration": 107,
    "start_time": "2024-06-10T01:26:53.595Z"
   },
   {
    "duration": 83,
    "start_time": "2024-06-10T01:32:02.335Z"
   },
   {
    "duration": 278,
    "start_time": "2024-06-10T01:34:47.963Z"
   },
   {
    "duration": 75,
    "start_time": "2024-06-10T01:35:05.220Z"
   },
   {
    "duration": 83,
    "start_time": "2024-06-10T01:35:28.847Z"
   },
   {
    "duration": 33,
    "start_time": "2024-06-10T01:35:31.236Z"
   },
   {
    "duration": 145,
    "start_time": "2024-06-10T01:38:40.216Z"
   },
   {
    "duration": 49,
    "start_time": "2024-06-10T01:38:45.678Z"
   },
   {
    "duration": 437,
    "start_time": "2024-06-10T01:41:26.494Z"
   },
   {
    "duration": 396,
    "start_time": "2024-06-10T01:42:59.449Z"
   },
   {
    "duration": 12,
    "start_time": "2024-06-10T01:50:33.425Z"
   },
   {
    "duration": 283,
    "start_time": "2024-06-10T01:54:05.832Z"
   },
   {
    "duration": 271,
    "start_time": "2024-06-10T01:54:30.345Z"
   },
   {
    "duration": 25,
    "start_time": "2024-06-10T01:57:25.506Z"
   },
   {
    "duration": 464,
    "start_time": "2024-06-10T02:18:35.151Z"
   },
   {
    "duration": 4475,
    "start_time": "2024-06-10T03:58:33.825Z"
   },
   {
    "duration": 1744,
    "start_time": "2024-06-10T03:58:38.305Z"
   },
   {
    "duration": 81,
    "start_time": "2024-06-10T03:58:40.052Z"
   },
   {
    "duration": 28,
    "start_time": "2024-06-10T03:58:40.137Z"
   },
   {
    "duration": 54,
    "start_time": "2024-06-10T03:58:40.172Z"
   },
   {
    "duration": 22,
    "start_time": "2024-06-10T03:58:40.230Z"
   },
   {
    "duration": 394,
    "start_time": "2024-06-10T03:58:40.255Z"
   },
   {
    "duration": 118,
    "start_time": "2024-06-10T03:58:40.652Z"
   },
   {
    "duration": 21,
    "start_time": "2024-06-10T03:58:40.773Z"
   },
   {
    "duration": 199,
    "start_time": "2024-06-10T03:58:40.797Z"
   },
   {
    "duration": 203,
    "start_time": "2024-06-10T03:58:40.999Z"
   },
   {
    "duration": 74,
    "start_time": "2024-06-10T03:58:41.205Z"
   },
   {
    "duration": 44,
    "start_time": "2024-06-10T03:58:41.287Z"
   },
   {
    "duration": 5,
    "start_time": "2024-06-10T03:58:41.340Z"
   },
   {
    "duration": 75,
    "start_time": "2024-06-10T03:58:41.349Z"
   },
   {
    "duration": 8,
    "start_time": "2024-06-10T03:58:41.428Z"
   },
   {
    "duration": 9,
    "start_time": "2024-06-10T03:58:41.439Z"
   },
   {
    "duration": 79,
    "start_time": "2024-06-10T03:58:41.451Z"
   },
   {
    "duration": 7,
    "start_time": "2024-06-10T03:58:41.533Z"
   },
   {
    "duration": 5,
    "start_time": "2024-06-10T03:58:41.544Z"
   },
   {
    "duration": 6,
    "start_time": "2024-06-10T03:58:41.553Z"
   },
   {
    "duration": 60,
    "start_time": "2024-06-10T03:58:41.562Z"
   },
   {
    "duration": 1394,
    "start_time": "2024-06-10T03:58:41.625Z"
   },
   {
    "duration": 343,
    "start_time": "2024-06-10T03:58:43.024Z"
   },
   {
    "duration": 20,
    "start_time": "2024-06-10T03:58:43.370Z"
   },
   {
    "duration": 31,
    "start_time": "2024-06-10T03:58:43.395Z"
   },
   {
    "duration": 11,
    "start_time": "2024-06-10T03:58:43.429Z"
   },
   {
    "duration": 12,
    "start_time": "2024-06-10T03:58:43.444Z"
   },
   {
    "duration": 62,
    "start_time": "2024-06-10T03:58:43.460Z"
   },
   {
    "duration": 20,
    "start_time": "2024-06-10T03:58:43.526Z"
   },
   {
    "duration": 15,
    "start_time": "2024-06-10T03:58:43.550Z"
   },
   {
    "duration": 71,
    "start_time": "2024-06-10T03:58:43.569Z"
   },
   {
    "duration": 20,
    "start_time": "2024-06-10T03:58:43.643Z"
   },
   {
    "duration": 59,
    "start_time": "2024-06-10T03:58:43.667Z"
   },
   {
    "duration": 54,
    "start_time": "2024-06-10T03:58:43.729Z"
   },
   {
    "duration": 38,
    "start_time": "2024-06-10T03:58:43.786Z"
   },
   {
    "duration": 18,
    "start_time": "2024-06-10T03:58:43.827Z"
   },
   {
    "duration": 91,
    "start_time": "2024-06-10T03:58:43.849Z"
   },
   {
    "duration": 35,
    "start_time": "2024-06-10T03:58:43.943Z"
   },
   {
    "duration": 7,
    "start_time": "2024-06-10T03:58:43.980Z"
   },
   {
    "duration": 6,
    "start_time": "2024-06-10T03:58:44.025Z"
   },
   {
    "duration": 505,
    "start_time": "2024-06-10T03:58:44.035Z"
   },
   {
    "duration": 7,
    "start_time": "2024-06-10T03:58:44.545Z"
   },
   {
    "duration": 295,
    "start_time": "2024-06-10T03:58:44.556Z"
   },
   {
    "duration": 300,
    "start_time": "2024-06-10T03:58:44.854Z"
   },
   {
    "duration": 20,
    "start_time": "2024-06-10T03:58:45.157Z"
   },
   {
    "duration": 44,
    "start_time": "2024-06-10T03:58:45.180Z"
   },
   {
    "duration": 10,
    "start_time": "2024-06-10T03:58:45.226Z"
   },
   {
    "duration": 462,
    "start_time": "2024-06-10T03:58:45.239Z"
   },
   {
    "duration": 152,
    "start_time": "2024-06-10T03:58:45.704Z"
   },
   {
    "duration": 252,
    "start_time": "2024-06-10T03:58:45.859Z"
   },
   {
    "duration": 299,
    "start_time": "2024-06-10T03:58:46.114Z"
   },
   {
    "duration": 30,
    "start_time": "2024-06-10T03:58:46.422Z"
   },
   {
    "duration": 488,
    "start_time": "2024-06-10T03:58:46.456Z"
   },
   {
    "duration": 678,
    "start_time": "2024-06-10T03:58:46.947Z"
   },
   {
    "duration": 279,
    "start_time": "2024-06-10T03:58:47.628Z"
   },
   {
    "duration": 293,
    "start_time": "2024-06-10T03:58:47.911Z"
   },
   {
    "duration": 34,
    "start_time": "2024-06-10T03:58:48.207Z"
   },
   {
    "duration": 415,
    "start_time": "2024-06-10T03:58:48.244Z"
   },
   {
    "duration": 121,
    "start_time": "2024-06-10T03:58:48.663Z"
   },
   {
    "duration": 37,
    "start_time": "2024-06-10T03:58:48.787Z"
   },
   {
    "duration": 448,
    "start_time": "2024-06-10T03:58:48.830Z"
   },
   {
    "duration": 423,
    "start_time": "2024-06-10T04:02:16.132Z"
   },
   {
    "duration": 553,
    "start_time": "2024-06-10T04:07:12.876Z"
   },
   {
    "duration": 613,
    "start_time": "2024-06-10T04:07:51.915Z"
   },
   {
    "duration": 690,
    "start_time": "2024-06-10T04:10:25.201Z"
   },
   {
    "duration": 634,
    "start_time": "2024-06-10T04:10:43.312Z"
   },
   {
    "duration": 452,
    "start_time": "2024-06-10T04:13:23.395Z"
   },
   {
    "duration": 579,
    "start_time": "2024-06-10T04:13:42.553Z"
   },
   {
    "duration": 551,
    "start_time": "2024-06-10T04:13:53.595Z"
   },
   {
    "duration": 587,
    "start_time": "2024-06-10T04:14:35.942Z"
   },
   {
    "duration": 329,
    "start_time": "2024-06-10T04:14:59.784Z"
   },
   {
    "duration": 345,
    "start_time": "2024-06-10T04:15:10.483Z"
   },
   {
    "duration": 520,
    "start_time": "2024-06-10T04:15:16.874Z"
   },
   {
    "duration": 353,
    "start_time": "2024-06-10T04:15:33.748Z"
   },
   {
    "duration": 8,
    "start_time": "2024-06-10T04:15:49.430Z"
   },
   {
    "duration": 251,
    "start_time": "2024-06-10T04:15:53.798Z"
   },
   {
    "duration": 298,
    "start_time": "2024-06-10T04:16:05.911Z"
   },
   {
    "duration": 370,
    "start_time": "2024-06-10T04:16:13.014Z"
   },
   {
    "duration": 738,
    "start_time": "2024-06-10T04:16:41.522Z"
   },
   {
    "duration": 4329,
    "start_time": "2024-06-10T14:55:23.105Z"
   },
   {
    "duration": 1703,
    "start_time": "2024-06-10T14:55:27.438Z"
   },
   {
    "duration": 43,
    "start_time": "2024-06-10T14:55:29.144Z"
   },
   {
    "duration": 45,
    "start_time": "2024-06-10T14:55:29.191Z"
   },
   {
    "duration": 20,
    "start_time": "2024-06-10T14:55:29.241Z"
   },
   {
    "duration": 21,
    "start_time": "2024-06-10T14:55:29.264Z"
   },
   {
    "duration": 390,
    "start_time": "2024-06-10T14:55:29.288Z"
   },
   {
    "duration": 108,
    "start_time": "2024-06-10T14:55:29.681Z"
   },
   {
    "duration": 22,
    "start_time": "2024-06-10T14:55:29.792Z"
   },
   {
    "duration": 177,
    "start_time": "2024-06-10T14:55:29.832Z"
   },
   {
    "duration": 185,
    "start_time": "2024-06-10T14:55:30.012Z"
   },
   {
    "duration": 62,
    "start_time": "2024-06-10T14:55:30.200Z"
   },
   {
    "duration": 22,
    "start_time": "2024-06-10T14:55:30.265Z"
   },
   {
    "duration": 6,
    "start_time": "2024-06-10T14:55:30.293Z"
   },
   {
    "duration": 47,
    "start_time": "2024-06-10T14:55:30.332Z"
   },
   {
    "duration": 7,
    "start_time": "2024-06-10T14:55:30.382Z"
   },
   {
    "duration": 7,
    "start_time": "2024-06-10T14:55:30.393Z"
   },
   {
    "duration": 37,
    "start_time": "2024-06-10T14:55:30.432Z"
   },
   {
    "duration": 6,
    "start_time": "2024-06-10T14:55:30.472Z"
   },
   {
    "duration": 5,
    "start_time": "2024-06-10T14:55:30.482Z"
   },
   {
    "duration": 42,
    "start_time": "2024-06-10T14:55:30.492Z"
   },
   {
    "duration": 6,
    "start_time": "2024-06-10T14:55:30.537Z"
   },
   {
    "duration": 1350,
    "start_time": "2024-06-10T14:55:30.546Z"
   },
   {
    "duration": 329,
    "start_time": "2024-06-10T14:55:31.899Z"
   },
   {
    "duration": 20,
    "start_time": "2024-06-10T14:55:32.235Z"
   },
   {
    "duration": 9,
    "start_time": "2024-06-10T14:55:32.258Z"
   },
   {
    "duration": 10,
    "start_time": "2024-06-10T14:55:32.270Z"
   },
   {
    "duration": 51,
    "start_time": "2024-06-10T14:55:32.284Z"
   },
   {
    "duration": 20,
    "start_time": "2024-06-10T14:55:32.338Z"
   },
   {
    "duration": 20,
    "start_time": "2024-06-10T14:55:32.361Z"
   },
   {
    "duration": 51,
    "start_time": "2024-06-10T14:55:32.386Z"
   },
   {
    "duration": 30,
    "start_time": "2024-06-10T14:55:32.440Z"
   },
   {
    "duration": 18,
    "start_time": "2024-06-10T14:55:32.472Z"
   },
   {
    "duration": 52,
    "start_time": "2024-06-10T14:55:32.493Z"
   },
   {
    "duration": 47,
    "start_time": "2024-06-10T14:55:32.548Z"
   },
   {
    "duration": 40,
    "start_time": "2024-06-10T14:55:32.598Z"
   },
   {
    "duration": 15,
    "start_time": "2024-06-10T14:55:32.641Z"
   },
   {
    "duration": 76,
    "start_time": "2024-06-10T14:55:32.659Z"
   },
   {
    "duration": 32,
    "start_time": "2024-06-10T14:55:32.738Z"
   },
   {
    "duration": 11,
    "start_time": "2024-06-10T14:55:32.773Z"
   },
   {
    "duration": 36,
    "start_time": "2024-06-10T14:55:32.797Z"
   },
   {
    "duration": 416,
    "start_time": "2024-06-10T14:55:32.836Z"
   },
   {
    "duration": 6,
    "start_time": "2024-06-10T14:55:33.254Z"
   },
   {
    "duration": 277,
    "start_time": "2024-06-10T14:55:33.263Z"
   },
   {
    "duration": 281,
    "start_time": "2024-06-10T14:55:33.543Z"
   },
   {
    "duration": 19,
    "start_time": "2024-06-10T14:55:33.832Z"
   },
   {
    "duration": 18,
    "start_time": "2024-06-10T14:55:33.853Z"
   },
   {
    "duration": 7,
    "start_time": "2024-06-10T14:55:33.874Z"
   },
   {
    "duration": 463,
    "start_time": "2024-06-10T14:55:33.884Z"
   },
   {
    "duration": 125,
    "start_time": "2024-06-10T14:55:34.350Z"
   },
   {
    "duration": 256,
    "start_time": "2024-06-10T14:55:34.477Z"
   },
   {
    "duration": 297,
    "start_time": "2024-06-10T14:55:34.736Z"
   },
   {
    "duration": 25,
    "start_time": "2024-06-10T14:55:35.036Z"
   },
   {
    "duration": 493,
    "start_time": "2024-06-10T14:55:35.064Z"
   },
   {
    "duration": 573,
    "start_time": "2024-06-10T14:55:35.560Z"
   },
   {
    "duration": 284,
    "start_time": "2024-06-10T14:55:36.135Z"
   },
   {
    "duration": 286,
    "start_time": "2024-06-10T14:55:36.423Z"
   },
   {
    "duration": 40,
    "start_time": "2024-06-10T14:55:36.712Z"
   },
   {
    "duration": 428,
    "start_time": "2024-06-10T14:55:36.756Z"
   },
   {
    "duration": 100,
    "start_time": "2024-06-10T14:55:37.187Z"
   },
   {
    "duration": 27,
    "start_time": "2024-06-10T14:55:37.290Z"
   },
   {
    "duration": 412,
    "start_time": "2024-06-10T14:55:37.333Z"
   },
   {
    "duration": 13,
    "start_time": "2024-06-10T16:41:25.875Z"
   },
   {
    "duration": 456,
    "start_time": "2024-06-10T16:42:02.281Z"
   },
   {
    "duration": 1095,
    "start_time": "2024-06-10T16:42:34.993Z"
   },
   {
    "duration": 1363,
    "start_time": "2024-06-10T16:42:52.522Z"
   },
   {
    "duration": 1036,
    "start_time": "2024-06-10T16:43:19.015Z"
   },
   {
    "duration": 517,
    "start_time": "2024-06-10T16:43:26.610Z"
   },
   {
    "duration": 1073,
    "start_time": "2024-06-10T16:43:56.518Z"
   },
   {
    "duration": 631,
    "start_time": "2024-06-10T16:44:15.940Z"
   },
   {
    "duration": 974,
    "start_time": "2024-06-10T16:46:20.107Z"
   },
   {
    "duration": 593,
    "start_time": "2024-06-10T16:46:39.014Z"
   },
   {
    "duration": 664,
    "start_time": "2024-06-10T16:58:21.274Z"
   },
   {
    "duration": 787,
    "start_time": "2024-06-10T16:59:18.045Z"
   },
   {
    "duration": 718,
    "start_time": "2024-06-10T17:20:32.086Z"
   },
   {
    "duration": 709,
    "start_time": "2024-06-10T17:22:05.625Z"
   },
   {
    "duration": 8210,
    "start_time": "2024-06-10T17:22:12.690Z"
   },
   {
    "duration": 11,
    "start_time": "2024-06-10T17:41:35.916Z"
   },
   {
    "duration": 4,
    "start_time": "2024-06-10T17:44:53.922Z"
   },
   {
    "duration": 7,
    "start_time": "2024-06-10T17:45:06.319Z"
   },
   {
    "duration": 28,
    "start_time": "2024-06-10T17:45:14.960Z"
   },
   {
    "duration": 362,
    "start_time": "2024-06-10T17:51:15.238Z"
   },
   {
    "duration": 316,
    "start_time": "2024-06-10T17:51:52.963Z"
   },
   {
    "duration": 303,
    "start_time": "2024-06-10T17:52:09.104Z"
   },
   {
    "duration": 234,
    "start_time": "2024-06-10T18:21:41.847Z"
   },
   {
    "duration": 210,
    "start_time": "2024-06-10T18:22:00.657Z"
   },
   {
    "duration": 205,
    "start_time": "2024-06-10T18:23:44.380Z"
   },
   {
    "duration": 233,
    "start_time": "2024-06-10T18:23:48.966Z"
   },
   {
    "duration": 226,
    "start_time": "2024-06-10T18:23:50.793Z"
   },
   {
    "duration": 217,
    "start_time": "2024-06-10T18:25:46.703Z"
   },
   {
    "duration": 5,
    "start_time": "2024-06-10T18:26:05.831Z"
   },
   {
    "duration": 14,
    "start_time": "2024-06-10T18:26:12.708Z"
   },
   {
    "duration": 212,
    "start_time": "2024-06-10T18:27:29.726Z"
   },
   {
    "duration": 15,
    "start_time": "2024-06-10T18:27:31.970Z"
   },
   {
    "duration": 26,
    "start_time": "2024-06-10T18:31:37.196Z"
   },
   {
    "duration": 16,
    "start_time": "2024-06-10T18:31:44.042Z"
   },
   {
    "duration": 12,
    "start_time": "2024-06-10T19:04:18.058Z"
   },
   {
    "duration": 115,
    "start_time": "2024-06-10T19:05:21.669Z"
   },
   {
    "duration": 240,
    "start_time": "2024-06-10T19:42:43.302Z"
   },
   {
    "duration": 226,
    "start_time": "2024-06-10T19:43:36.279Z"
   },
   {
    "duration": 244,
    "start_time": "2024-06-10T20:02:09.072Z"
   },
   {
    "duration": 1129,
    "start_time": "2024-06-10T20:02:23.758Z"
   },
   {
    "duration": 629,
    "start_time": "2024-06-10T20:02:52.754Z"
   },
   {
    "duration": 646,
    "start_time": "2024-06-10T20:07:06.862Z"
   },
   {
    "duration": 644,
    "start_time": "2024-06-10T20:07:17.007Z"
   },
   {
    "duration": 634,
    "start_time": "2024-06-10T20:07:23.609Z"
   },
   {
    "duration": 653,
    "start_time": "2024-06-10T20:08:13.699Z"
   },
   {
    "duration": 644,
    "start_time": "2024-06-10T20:08:33.301Z"
   },
   {
    "duration": 650,
    "start_time": "2024-06-10T20:11:01.923Z"
   },
   {
    "duration": 662,
    "start_time": "2024-06-10T20:11:18.778Z"
   },
   {
    "duration": 1196,
    "start_time": "2024-06-10T20:12:22.616Z"
   },
   {
    "duration": 559,
    "start_time": "2024-06-10T20:12:34.215Z"
   },
   {
    "duration": 564,
    "start_time": "2024-06-10T20:12:38.534Z"
   },
   {
    "duration": 569,
    "start_time": "2024-06-10T20:12:49.186Z"
   },
   {
    "duration": 493,
    "start_time": "2024-06-10T20:15:07.301Z"
   },
   {
    "duration": 376,
    "start_time": "2024-06-10T20:15:29.947Z"
   },
   {
    "duration": 449,
    "start_time": "2024-06-10T20:15:37.871Z"
   },
   {
    "duration": 382,
    "start_time": "2024-06-10T20:15:45.318Z"
   },
   {
    "duration": 388,
    "start_time": "2024-06-10T20:15:51.932Z"
   },
   {
    "duration": 459,
    "start_time": "2024-06-10T20:16:25.909Z"
   },
   {
    "duration": 387,
    "start_time": "2024-06-10T20:18:56.027Z"
   },
   {
    "duration": 406,
    "start_time": "2024-06-10T20:19:07.328Z"
   },
   {
    "duration": 405,
    "start_time": "2024-06-10T20:24:53.886Z"
   },
   {
    "duration": 404,
    "start_time": "2024-06-10T20:25:23.560Z"
   },
   {
    "duration": 400,
    "start_time": "2024-06-10T20:25:50.863Z"
   },
   {
    "duration": 388,
    "start_time": "2024-06-10T20:26:50.186Z"
   },
   {
    "duration": 368,
    "start_time": "2024-06-10T20:33:43.167Z"
   },
   {
    "duration": 27,
    "start_time": "2024-06-10T20:55:51.093Z"
   },
   {
    "duration": 17,
    "start_time": "2024-06-10T20:56:15.808Z"
   },
   {
    "duration": 6,
    "start_time": "2024-06-10T20:56:25.917Z"
   },
   {
    "duration": 390,
    "start_time": "2024-06-10T20:56:29.173Z"
   },
   {
    "duration": 8,
    "start_time": "2024-06-10T20:56:31.073Z"
   },
   {
    "duration": 21,
    "start_time": "2024-06-10T20:56:32.567Z"
   },
   {
    "duration": 21,
    "start_time": "2024-06-10T20:57:09.524Z"
   },
   {
    "duration": 13,
    "start_time": "2024-06-10T21:16:01.412Z"
   },
   {
    "duration": 5,
    "start_time": "2024-06-10T21:16:25.906Z"
   },
   {
    "duration": 95,
    "start_time": "2024-06-10T21:16:33.270Z"
   },
   {
    "duration": 224,
    "start_time": "2024-06-10T21:17:00.405Z"
   },
   {
    "duration": 14,
    "start_time": "2024-06-10T21:17:36.622Z"
   },
   {
    "duration": 102,
    "start_time": "2024-06-10T21:17:51.964Z"
   },
   {
    "duration": 1200,
    "start_time": "2024-06-10T21:45:59.678Z"
   },
   {
    "duration": 16,
    "start_time": "2024-06-10T21:46:13.277Z"
   },
   {
    "duration": 17,
    "start_time": "2024-06-10T21:46:34.548Z"
   },
   {
    "duration": 16,
    "start_time": "2024-06-10T21:46:42.906Z"
   },
   {
    "duration": 620,
    "start_time": "2024-06-10T21:49:38.502Z"
   },
   {
    "duration": 10,
    "start_time": "2024-06-10T21:50:17.108Z"
   },
   {
    "duration": 577,
    "start_time": "2024-06-10T21:50:32.816Z"
   },
   {
    "duration": 14,
    "start_time": "2024-06-10T21:50:41.042Z"
   },
   {
    "duration": 12,
    "start_time": "2024-06-10T21:51:20.140Z"
   },
   {
    "duration": 21,
    "start_time": "2024-06-10T21:54:50.976Z"
   },
   {
    "duration": 14,
    "start_time": "2024-06-10T21:55:10.888Z"
   },
   {
    "duration": 485,
    "start_time": "2024-06-10T21:56:44.542Z"
   },
   {
    "duration": 513,
    "start_time": "2024-06-10T21:57:42.130Z"
   },
   {
    "duration": 613,
    "start_time": "2024-06-10T21:57:52.202Z"
   },
   {
    "duration": 534,
    "start_time": "2024-06-10T21:58:05.399Z"
   },
   {
    "duration": 323,
    "start_time": "2024-06-10T21:58:22.872Z"
   },
   {
    "duration": 708,
    "start_time": "2024-06-10T21:58:41.972Z"
   },
   {
    "duration": 1726,
    "start_time": "2024-06-10T21:58:42.684Z"
   },
   {
    "duration": 51,
    "start_time": "2024-06-10T21:58:44.412Z"
   },
   {
    "duration": 24,
    "start_time": "2024-06-10T21:58:44.466Z"
   },
   {
    "duration": 46,
    "start_time": "2024-06-10T21:58:44.495Z"
   },
   {
    "duration": 19,
    "start_time": "2024-06-10T21:58:44.545Z"
   },
   {
    "duration": 367,
    "start_time": "2024-06-10T21:58:44.567Z"
   },
   {
    "duration": 98,
    "start_time": "2024-06-10T21:58:44.937Z"
   },
   {
    "duration": 25,
    "start_time": "2024-06-10T21:58:45.038Z"
   },
   {
    "duration": 200,
    "start_time": "2024-06-10T21:58:45.066Z"
   },
   {
    "duration": 167,
    "start_time": "2024-06-10T21:58:45.269Z"
   },
   {
    "duration": 44,
    "start_time": "2024-06-10T21:58:45.439Z"
   },
   {
    "duration": 21,
    "start_time": "2024-06-10T21:58:45.486Z"
   },
   {
    "duration": 6,
    "start_time": "2024-06-10T21:58:45.538Z"
   },
   {
    "duration": 48,
    "start_time": "2024-06-10T21:58:45.547Z"
   },
   {
    "duration": 41,
    "start_time": "2024-06-10T21:58:45.597Z"
   },
   {
    "duration": 7,
    "start_time": "2024-06-10T21:58:45.641Z"
   },
   {
    "duration": 38,
    "start_time": "2024-06-10T21:58:45.651Z"
   },
   {
    "duration": 41,
    "start_time": "2024-06-10T21:58:45.692Z"
   },
   {
    "duration": 6,
    "start_time": "2024-06-10T21:58:45.735Z"
   },
   {
    "duration": 6,
    "start_time": "2024-06-10T21:58:45.744Z"
   },
   {
    "duration": 8,
    "start_time": "2024-06-10T21:58:45.753Z"
   },
   {
    "duration": 1347,
    "start_time": "2024-06-10T21:58:45.764Z"
   },
   {
    "duration": 352,
    "start_time": "2024-06-10T21:58:47.114Z"
   },
   {
    "duration": 24,
    "start_time": "2024-06-10T21:58:47.469Z"
   },
   {
    "duration": 13,
    "start_time": "2024-06-10T21:58:47.496Z"
   },
   {
    "duration": 12,
    "start_time": "2024-06-10T21:58:47.533Z"
   },
   {
    "duration": 10,
    "start_time": "2024-06-10T21:58:47.548Z"
   },
   {
    "duration": 15,
    "start_time": "2024-06-10T21:58:47.561Z"
   },
   {
    "duration": 64,
    "start_time": "2024-06-10T21:58:47.579Z"
   },
   {
    "duration": 14,
    "start_time": "2024-06-10T21:58:47.646Z"
   },
   {
    "duration": 29,
    "start_time": "2024-06-10T21:58:47.663Z"
   },
   {
    "duration": 55,
    "start_time": "2024-06-10T21:58:47.695Z"
   },
   {
    "duration": 28,
    "start_time": "2024-06-10T21:58:47.753Z"
   },
   {
    "duration": 84,
    "start_time": "2024-06-10T21:58:47.784Z"
   },
   {
    "duration": 12,
    "start_time": "2024-06-10T21:58:47.872Z"
   },
   {
    "duration": 16,
    "start_time": "2024-06-10T21:58:47.886Z"
   },
   {
    "duration": 77,
    "start_time": "2024-06-10T21:58:47.905Z"
   },
   {
    "duration": 50,
    "start_time": "2024-06-10T21:58:47.985Z"
   },
   {
    "duration": 8,
    "start_time": "2024-06-10T21:58:48.038Z"
   },
   {
    "duration": 7,
    "start_time": "2024-06-10T21:58:48.055Z"
   },
   {
    "duration": 447,
    "start_time": "2024-06-10T21:58:48.065Z"
   },
   {
    "duration": 5,
    "start_time": "2024-06-10T21:58:48.516Z"
   },
   {
    "duration": 259,
    "start_time": "2024-06-10T21:58:48.534Z"
   },
   {
    "duration": 290,
    "start_time": "2024-06-10T21:58:48.795Z"
   },
   {
    "duration": 18,
    "start_time": "2024-06-10T21:58:49.089Z"
   },
   {
    "duration": 39,
    "start_time": "2024-06-10T21:58:49.110Z"
   },
   {
    "duration": 7,
    "start_time": "2024-06-10T21:58:49.151Z"
   },
   {
    "duration": 460,
    "start_time": "2024-06-10T21:58:49.162Z"
   },
   {
    "duration": 124,
    "start_time": "2024-06-10T21:58:49.624Z"
   },
   {
    "duration": 234,
    "start_time": "2024-06-10T21:58:49.752Z"
   },
   {
    "duration": 298,
    "start_time": "2024-06-10T21:58:49.989Z"
   },
   {
    "duration": 25,
    "start_time": "2024-06-10T21:58:50.289Z"
   },
   {
    "duration": 429,
    "start_time": "2024-06-10T21:58:50.332Z"
   },
   {
    "duration": 567,
    "start_time": "2024-06-10T21:58:50.765Z"
   },
   {
    "duration": 297,
    "start_time": "2024-06-10T21:58:51.336Z"
   },
   {
    "duration": 287,
    "start_time": "2024-06-10T21:58:51.638Z"
   },
   {
    "duration": 25,
    "start_time": "2024-06-10T21:58:51.932Z"
   },
   {
    "duration": 401,
    "start_time": "2024-06-10T21:58:51.960Z"
   },
   {
    "duration": 893,
    "start_time": "2024-06-10T21:58:52.365Z"
   },
   {
    "duration": 0,
    "start_time": "2024-06-10T21:58:53.261Z"
   },
   {
    "duration": 0,
    "start_time": "2024-06-10T21:58:53.265Z"
   },
   {
    "duration": 0,
    "start_time": "2024-06-10T21:58:53.267Z"
   },
   {
    "duration": 0,
    "start_time": "2024-06-10T21:58:53.269Z"
   },
   {
    "duration": 0,
    "start_time": "2024-06-10T21:58:53.271Z"
   },
   {
    "duration": 0,
    "start_time": "2024-06-10T21:58:53.274Z"
   },
   {
    "duration": 442,
    "start_time": "2024-06-10T22:00:29.452Z"
   },
   {
    "duration": 447,
    "start_time": "2024-06-10T22:00:34.938Z"
   },
   {
    "duration": 23,
    "start_time": "2024-06-10T22:00:37.971Z"
   },
   {
    "duration": 7,
    "start_time": "2024-06-10T22:00:49.735Z"
   },
   {
    "duration": 23,
    "start_time": "2024-06-10T22:00:52.361Z"
   },
   {
    "duration": 4,
    "start_time": "2024-06-10T22:03:13.530Z"
   },
   {
    "duration": 690,
    "start_time": "2024-06-10T22:05:44.372Z"
   },
   {
    "duration": 1592,
    "start_time": "2024-06-10T22:05:45.066Z"
   },
   {
    "duration": 42,
    "start_time": "2024-06-10T22:05:46.660Z"
   },
   {
    "duration": 45,
    "start_time": "2024-06-10T22:05:46.707Z"
   },
   {
    "duration": 20,
    "start_time": "2024-06-10T22:05:46.754Z"
   },
   {
    "duration": 56,
    "start_time": "2024-06-10T22:05:46.777Z"
   },
   {
    "duration": 369,
    "start_time": "2024-06-10T22:05:46.836Z"
   },
   {
    "duration": 106,
    "start_time": "2024-06-10T22:05:47.208Z"
   },
   {
    "duration": 28,
    "start_time": "2024-06-10T22:05:47.320Z"
   },
   {
    "duration": 215,
    "start_time": "2024-06-10T22:05:47.355Z"
   },
   {
    "duration": 162,
    "start_time": "2024-06-10T22:05:47.573Z"
   },
   {
    "duration": 45,
    "start_time": "2024-06-10T22:05:47.738Z"
   },
   {
    "duration": 47,
    "start_time": "2024-06-10T22:05:47.785Z"
   },
   {
    "duration": 6,
    "start_time": "2024-06-10T22:05:47.835Z"
   },
   {
    "duration": 46,
    "start_time": "2024-06-10T22:05:47.845Z"
   },
   {
    "duration": 41,
    "start_time": "2024-06-10T22:05:47.893Z"
   },
   {
    "duration": 8,
    "start_time": "2024-06-10T22:05:47.936Z"
   },
   {
    "duration": 40,
    "start_time": "2024-06-10T22:05:47.947Z"
   },
   {
    "duration": 6,
    "start_time": "2024-06-10T22:05:47.990Z"
   },
   {
    "duration": 37,
    "start_time": "2024-06-10T22:05:47.999Z"
   },
   {
    "duration": 6,
    "start_time": "2024-06-10T22:05:48.039Z"
   },
   {
    "duration": 6,
    "start_time": "2024-06-10T22:05:48.048Z"
   },
   {
    "duration": 1319,
    "start_time": "2024-06-10T22:05:48.057Z"
   },
   {
    "duration": 334,
    "start_time": "2024-06-10T22:05:49.378Z"
   },
   {
    "duration": 27,
    "start_time": "2024-06-10T22:05:49.715Z"
   },
   {
    "duration": 11,
    "start_time": "2024-06-10T22:05:49.746Z"
   },
   {
    "duration": 9,
    "start_time": "2024-06-10T22:05:49.761Z"
   },
   {
    "duration": 9,
    "start_time": "2024-06-10T22:05:49.779Z"
   },
   {
    "duration": 51,
    "start_time": "2024-06-10T22:05:49.791Z"
   },
   {
    "duration": 19,
    "start_time": "2024-06-10T22:05:49.846Z"
   },
   {
    "duration": 13,
    "start_time": "2024-06-10T22:05:49.867Z"
   },
   {
    "duration": 68,
    "start_time": "2024-06-10T22:05:49.883Z"
   },
   {
    "duration": 18,
    "start_time": "2024-06-10T22:05:49.954Z"
   },
   {
    "duration": 59,
    "start_time": "2024-06-10T22:05:49.975Z"
   },
   {
    "duration": 47,
    "start_time": "2024-06-10T22:05:50.037Z"
   },
   {
    "duration": 8,
    "start_time": "2024-06-10T22:05:50.087Z"
   },
   {
    "duration": 44,
    "start_time": "2024-06-10T22:05:50.097Z"
   },
   {
    "duration": 50,
    "start_time": "2024-06-10T22:05:50.144Z"
   },
   {
    "duration": 58,
    "start_time": "2024-06-10T22:05:50.197Z"
   },
   {
    "duration": 8,
    "start_time": "2024-06-10T22:05:50.258Z"
   },
   {
    "duration": 7,
    "start_time": "2024-06-10T22:05:50.269Z"
   },
   {
    "duration": 471,
    "start_time": "2024-06-10T22:05:50.279Z"
   },
   {
    "duration": 6,
    "start_time": "2024-06-10T22:05:50.753Z"
   },
   {
    "duration": 273,
    "start_time": "2024-06-10T22:05:50.763Z"
   },
   {
    "duration": 290,
    "start_time": "2024-06-10T22:05:51.039Z"
   },
   {
    "duration": 25,
    "start_time": "2024-06-10T22:05:51.332Z"
   },
   {
    "duration": 25,
    "start_time": "2024-06-10T22:05:51.361Z"
   },
   {
    "duration": 10,
    "start_time": "2024-06-10T22:05:51.398Z"
   },
   {
    "duration": 475,
    "start_time": "2024-06-10T22:05:51.411Z"
   },
   {
    "duration": 140,
    "start_time": "2024-06-10T22:05:51.890Z"
   },
   {
    "duration": 236,
    "start_time": "2024-06-10T22:05:52.033Z"
   },
   {
    "duration": 280,
    "start_time": "2024-06-10T22:05:52.271Z"
   },
   {
    "duration": 24,
    "start_time": "2024-06-10T22:05:52.554Z"
   },
   {
    "duration": 430,
    "start_time": "2024-06-10T22:05:52.580Z"
   },
   {
    "duration": 575,
    "start_time": "2024-06-10T22:05:53.013Z"
   },
   {
    "duration": 286,
    "start_time": "2024-06-10T22:05:53.590Z"
   },
   {
    "duration": 280,
    "start_time": "2024-06-10T22:05:53.879Z"
   },
   {
    "duration": 24,
    "start_time": "2024-06-10T22:05:54.161Z"
   },
   {
    "duration": 388,
    "start_time": "2024-06-10T22:05:54.189Z"
   },
   {
    "duration": 470,
    "start_time": "2024-06-10T22:05:54.581Z"
   },
   {
    "duration": 7,
    "start_time": "2024-06-10T22:05:55.054Z"
   },
   {
    "duration": 21,
    "start_time": "2024-06-10T22:05:55.064Z"
   },
   {
    "duration": 2029,
    "start_time": "2024-06-10T22:05:55.088Z"
   },
   {
    "duration": 22,
    "start_time": "2024-06-10T22:05:57.120Z"
   },
   {
    "duration": 40,
    "start_time": "2024-06-10T22:05:57.145Z"
   },
   {
    "duration": 101,
    "start_time": "2024-06-10T22:05:57.188Z"
   },
   {
    "duration": 24,
    "start_time": "2024-06-10T22:05:57.292Z"
   },
   {
    "duration": 418,
    "start_time": "2024-06-10T22:05:57.332Z"
   },
   {
    "duration": 30,
    "start_time": "2024-06-10T22:21:26.804Z"
   },
   {
    "duration": 31,
    "start_time": "2024-06-10T22:21:40.009Z"
   },
   {
    "duration": 35,
    "start_time": "2024-06-10T22:21:44.050Z"
   },
   {
    "duration": 31,
    "start_time": "2024-06-10T22:22:06.052Z"
   },
   {
    "duration": 17,
    "start_time": "2024-06-10T22:23:31.690Z"
   },
   {
    "duration": 42,
    "start_time": "2024-06-10T22:23:41.217Z"
   },
   {
    "duration": 46,
    "start_time": "2024-06-10T22:24:30.397Z"
   },
   {
    "duration": 32,
    "start_time": "2024-06-10T22:25:17.637Z"
   },
   {
    "duration": 688,
    "start_time": "2024-06-10T22:35:47.197Z"
   },
   {
    "duration": 1555,
    "start_time": "2024-06-10T22:35:47.888Z"
   },
   {
    "duration": 43,
    "start_time": "2024-06-10T22:35:49.446Z"
   },
   {
    "duration": 50,
    "start_time": "2024-06-10T22:35:49.492Z"
   },
   {
    "duration": 21,
    "start_time": "2024-06-10T22:35:49.546Z"
   },
   {
    "duration": 23,
    "start_time": "2024-06-10T22:35:49.571Z"
   },
   {
    "duration": 340,
    "start_time": "2024-06-10T22:35:49.633Z"
   },
   {
    "duration": 106,
    "start_time": "2024-06-10T22:35:49.976Z"
   },
   {
    "duration": 20,
    "start_time": "2024-06-10T22:35:50.085Z"
   },
   {
    "duration": 196,
    "start_time": "2024-06-10T22:35:50.108Z"
   },
   {
    "duration": 168,
    "start_time": "2024-06-10T22:35:50.307Z"
   },
   {
    "duration": 57,
    "start_time": "2024-06-10T22:35:50.478Z"
   },
   {
    "duration": 22,
    "start_time": "2024-06-10T22:35:50.538Z"
   },
   {
    "duration": 6,
    "start_time": "2024-06-10T22:35:50.566Z"
   },
   {
    "duration": 78,
    "start_time": "2024-06-10T22:35:50.575Z"
   },
   {
    "duration": 8,
    "start_time": "2024-06-10T22:35:50.656Z"
   },
   {
    "duration": 8,
    "start_time": "2024-06-10T22:35:50.667Z"
   },
   {
    "duration": 84,
    "start_time": "2024-06-10T22:35:50.677Z"
   },
   {
    "duration": 6,
    "start_time": "2024-06-10T22:35:50.766Z"
   },
   {
    "duration": 6,
    "start_time": "2024-06-10T22:35:50.775Z"
   },
   {
    "duration": 6,
    "start_time": "2024-06-10T22:35:50.785Z"
   },
   {
    "duration": 39,
    "start_time": "2024-06-10T22:35:50.795Z"
   },
   {
    "duration": 1329,
    "start_time": "2024-06-10T22:35:50.836Z"
   },
   {
    "duration": 330,
    "start_time": "2024-06-10T22:35:52.168Z"
   },
   {
    "duration": 36,
    "start_time": "2024-06-10T22:35:52.501Z"
   },
   {
    "duration": 10,
    "start_time": "2024-06-10T22:35:52.541Z"
   },
   {
    "duration": 12,
    "start_time": "2024-06-10T22:35:52.554Z"
   },
   {
    "duration": 10,
    "start_time": "2024-06-10T22:35:52.568Z"
   },
   {
    "duration": 54,
    "start_time": "2024-06-10T22:35:52.580Z"
   },
   {
    "duration": 19,
    "start_time": "2024-06-10T22:35:52.637Z"
   },
   {
    "duration": 14,
    "start_time": "2024-06-10T22:35:52.659Z"
   },
   {
    "duration": 68,
    "start_time": "2024-06-10T22:35:52.676Z"
   },
   {
    "duration": 19,
    "start_time": "2024-06-10T22:35:52.747Z"
   },
   {
    "duration": 25,
    "start_time": "2024-06-10T22:35:52.769Z"
   },
   {
    "duration": 80,
    "start_time": "2024-06-10T22:35:52.796Z"
   },
   {
    "duration": 8,
    "start_time": "2024-06-10T22:35:52.879Z"
   },
   {
    "duration": 44,
    "start_time": "2024-06-10T22:35:52.890Z"
   },
   {
    "duration": 53,
    "start_time": "2024-06-10T22:35:52.937Z"
   },
   {
    "duration": 61,
    "start_time": "2024-06-10T22:35:52.994Z"
   },
   {
    "duration": 6,
    "start_time": "2024-06-10T22:35:53.058Z"
   },
   {
    "duration": 6,
    "start_time": "2024-06-10T22:35:53.074Z"
   },
   {
    "duration": 461,
    "start_time": "2024-06-10T22:35:53.083Z"
   },
   {
    "duration": 5,
    "start_time": "2024-06-10T22:35:53.548Z"
   },
   {
    "duration": 286,
    "start_time": "2024-06-10T22:35:53.557Z"
   },
   {
    "duration": 284,
    "start_time": "2024-06-10T22:35:53.847Z"
   },
   {
    "duration": 22,
    "start_time": "2024-06-10T22:35:54.134Z"
   },
   {
    "duration": 18,
    "start_time": "2024-06-10T22:35:54.159Z"
   },
   {
    "duration": 8,
    "start_time": "2024-06-10T22:35:54.180Z"
   },
   {
    "duration": 465,
    "start_time": "2024-06-10T22:35:54.191Z"
   },
   {
    "duration": 134,
    "start_time": "2024-06-10T22:35:54.659Z"
   },
   {
    "duration": 246,
    "start_time": "2024-06-10T22:35:54.796Z"
   },
   {
    "duration": 301,
    "start_time": "2024-06-10T22:35:55.045Z"
   },
   {
    "duration": 24,
    "start_time": "2024-06-10T22:35:55.349Z"
   },
   {
    "duration": 431,
    "start_time": "2024-06-10T22:35:55.375Z"
   },
   {
    "duration": 564,
    "start_time": "2024-06-10T22:35:55.809Z"
   },
   {
    "duration": 290,
    "start_time": "2024-06-10T22:35:56.377Z"
   },
   {
    "duration": 257,
    "start_time": "2024-06-10T22:35:56.670Z"
   },
   {
    "duration": 23,
    "start_time": "2024-06-10T22:35:56.930Z"
   },
   {
    "duration": 411,
    "start_time": "2024-06-10T22:35:56.955Z"
   },
   {
    "duration": 461,
    "start_time": "2024-06-10T22:35:57.370Z"
   },
   {
    "duration": 8,
    "start_time": "2024-06-10T22:35:57.834Z"
   },
   {
    "duration": 23,
    "start_time": "2024-06-10T22:35:57.844Z"
   },
   {
    "duration": 2067,
    "start_time": "2024-06-10T22:35:57.870Z"
   },
   {
    "duration": 8,
    "start_time": "2024-06-10T22:35:59.939Z"
   },
   {
    "duration": 34,
    "start_time": "2024-06-10T22:35:59.950Z"
   },
   {
    "duration": 116,
    "start_time": "2024-06-10T22:35:59.987Z"
   },
   {
    "duration": 37,
    "start_time": "2024-06-10T22:36:00.105Z"
   },
   {
    "duration": 413,
    "start_time": "2024-06-10T22:36:00.145Z"
   },
   {
    "duration": 19,
    "start_time": "2024-06-10T22:53:07.665Z"
   },
   {
    "duration": 19,
    "start_time": "2024-06-10T22:53:11.517Z"
   },
   {
    "duration": 21,
    "start_time": "2024-06-10T22:54:50.837Z"
   },
   {
    "duration": 1443,
    "start_time": "2024-06-10T22:55:38.001Z"
   },
   {
    "duration": 4,
    "start_time": "2024-06-10T22:55:39.999Z"
   },
   {
    "duration": 1496,
    "start_time": "2024-06-10T22:55:41.327Z"
   },
   {
    "duration": 42,
    "start_time": "2024-06-10T22:55:42.826Z"
   },
   {
    "duration": 26,
    "start_time": "2024-06-10T22:55:46.807Z"
   },
   {
    "duration": 19,
    "start_time": "2024-06-10T22:55:49.160Z"
   },
   {
    "duration": 22,
    "start_time": "2024-06-10T22:55:51.290Z"
   },
   {
    "duration": 340,
    "start_time": "2024-06-10T22:55:53.481Z"
   },
   {
    "duration": 81,
    "start_time": "2024-06-10T22:56:04.360Z"
   },
   {
    "duration": 20,
    "start_time": "2024-06-10T22:56:07.729Z"
   },
   {
    "duration": 161,
    "start_time": "2024-06-10T22:56:17.714Z"
   },
   {
    "duration": 146,
    "start_time": "2024-06-10T22:56:19.827Z"
   },
   {
    "duration": 36,
    "start_time": "2024-06-10T22:56:23.745Z"
   },
   {
    "duration": 22,
    "start_time": "2024-06-10T22:56:33.239Z"
   },
   {
    "duration": 6,
    "start_time": "2024-06-10T22:56:38.684Z"
   },
   {
    "duration": 5,
    "start_time": "2024-06-10T23:03:57.864Z"
   },
   {
    "duration": 50,
    "start_time": "2024-06-10T23:04:00.311Z"
   },
   {
    "duration": 7,
    "start_time": "2024-06-10T23:04:44.278Z"
   },
   {
    "duration": 8,
    "start_time": "2024-06-10T23:05:25.294Z"
   },
   {
    "duration": 40,
    "start_time": "2024-06-10T23:05:46.039Z"
   },
   {
    "duration": 5,
    "start_time": "2024-06-10T23:05:51.357Z"
   },
   {
    "duration": 6,
    "start_time": "2024-06-10T23:05:53.347Z"
   },
   {
    "duration": 5,
    "start_time": "2024-06-10T23:05:56.459Z"
   },
   {
    "duration": 5,
    "start_time": "2024-06-10T23:05:58.346Z"
   },
   {
    "duration": 1301,
    "start_time": "2024-06-10T23:06:04.000Z"
   },
   {
    "duration": 325,
    "start_time": "2024-06-10T23:06:31.294Z"
   },
   {
    "duration": 19,
    "start_time": "2024-06-10T23:07:51.864Z"
   },
   {
    "duration": 10,
    "start_time": "2024-06-10T23:08:06.605Z"
   },
   {
    "duration": 10,
    "start_time": "2024-06-10T23:08:13.525Z"
   },
   {
    "duration": 11,
    "start_time": "2024-06-10T23:08:38.641Z"
   },
   {
    "duration": 10,
    "start_time": "2024-06-10T23:08:50.938Z"
   },
   {
    "duration": 15,
    "start_time": "2024-06-10T23:08:59.159Z"
   },
   {
    "duration": 20,
    "start_time": "2024-06-10T23:09:40.979Z"
   },
   {
    "duration": 15,
    "start_time": "2024-06-10T23:16:45.202Z"
   },
   {
    "duration": 14,
    "start_time": "2024-06-10T23:19:07.343Z"
   },
   {
    "duration": 28,
    "start_time": "2024-06-10T23:19:11.846Z"
   },
   {
    "duration": 18,
    "start_time": "2024-06-10T23:19:16.095Z"
   },
   {
    "duration": 30,
    "start_time": "2024-06-10T23:19:21.793Z"
   },
   {
    "duration": 49,
    "start_time": "2024-06-10T23:19:47.304Z"
   },
   {
    "duration": 10,
    "start_time": "2024-06-10T23:20:01.468Z"
   },
   {
    "duration": 17,
    "start_time": "2024-06-10T23:20:16.396Z"
   },
   {
    "duration": 29,
    "start_time": "2024-06-10T23:21:55.455Z"
   },
   {
    "duration": 48,
    "start_time": "2024-06-10T23:21:57.990Z"
   },
   {
    "duration": 56,
    "start_time": "2024-06-10T23:22:04.835Z"
   },
   {
    "duration": 10,
    "start_time": "2024-06-10T23:22:08.210Z"
   },
   {
    "duration": 15,
    "start_time": "2024-06-10T23:22:14.571Z"
   },
   {
    "duration": 49,
    "start_time": "2024-06-10T23:23:26.439Z"
   },
   {
    "duration": 31,
    "start_time": "2024-06-10T23:23:30.490Z"
   },
   {
    "duration": 6,
    "start_time": "2024-06-10T23:31:10.513Z"
   },
   {
    "duration": 7,
    "start_time": "2024-06-10T23:31:12.501Z"
   },
   {
    "duration": 368,
    "start_time": "2024-06-10T23:31:14.669Z"
   },
   {
    "duration": 5,
    "start_time": "2024-06-10T23:31:18.145Z"
   },
   {
    "duration": 273,
    "start_time": "2024-06-10T23:31:20.524Z"
   },
   {
    "duration": 252,
    "start_time": "2024-06-10T23:31:23.950Z"
   },
   {
    "duration": 267,
    "start_time": "2024-06-10T23:31:37.780Z"
   },
   {
    "duration": 263,
    "start_time": "2024-06-10T23:33:08.393Z"
   },
   {
    "duration": 274,
    "start_time": "2024-06-10T23:37:39.113Z"
   },
   {
    "duration": 19,
    "start_time": "2024-06-10T23:37:47.528Z"
   },
   {
    "duration": 21,
    "start_time": "2024-06-10T23:37:59.698Z"
   },
   {
    "duration": 7,
    "start_time": "2024-06-10T23:38:01.943Z"
   },
   {
    "duration": 37,
    "start_time": "2024-06-10T23:38:36.410Z"
   },
   {
    "duration": 7,
    "start_time": "2024-06-10T23:38:38.754Z"
   },
   {
    "duration": 448,
    "start_time": "2024-06-10T23:38:43.999Z"
   },
   {
    "duration": 483,
    "start_time": "2024-06-10T23:39:47.999Z"
   },
   {
    "duration": 102,
    "start_time": "2024-06-10T23:39:55.842Z"
   },
   {
    "duration": 116,
    "start_time": "2024-06-10T23:42:55.945Z"
   },
   {
    "duration": 110,
    "start_time": "2024-06-10T23:43:51.376Z"
   },
   {
    "duration": 113,
    "start_time": "2024-06-10T23:44:10.090Z"
   },
   {
    "duration": 113,
    "start_time": "2024-06-10T23:44:25.112Z"
   },
   {
    "duration": 272,
    "start_time": "2024-06-10T23:47:00.374Z"
   },
   {
    "duration": 193,
    "start_time": "2024-06-10T23:48:01.726Z"
   },
   {
    "duration": 24,
    "start_time": "2024-06-10T23:49:54.563Z"
   },
   {
    "duration": 391,
    "start_time": "2024-06-10T23:50:00.634Z"
   },
   {
    "duration": 230,
    "start_time": "2024-06-10T23:55:55.088Z"
   },
   {
    "duration": 510,
    "start_time": "2024-06-10T23:56:39.053Z"
   },
   {
    "duration": 295,
    "start_time": "2024-06-10T23:56:41.169Z"
   },
   {
    "duration": 273,
    "start_time": "2024-06-10T23:56:59.786Z"
   },
   {
    "duration": 269,
    "start_time": "2024-06-10T23:57:16.205Z"
   },
   {
    "duration": 255,
    "start_time": "2024-06-10T23:59:57.505Z"
   },
   {
    "duration": 28,
    "start_time": "2024-06-11T00:00:24.523Z"
   },
   {
    "duration": 401,
    "start_time": "2024-06-11T00:02:43.145Z"
   },
   {
    "duration": 420,
    "start_time": "2024-06-11T00:05:03.324Z"
   },
   {
    "duration": 6,
    "start_time": "2024-06-11T00:05:05.789Z"
   },
   {
    "duration": 22,
    "start_time": "2024-06-11T00:05:08.352Z"
   },
   {
    "duration": 1930,
    "start_time": "2024-06-11T00:14:33.740Z"
   },
   {
    "duration": 8,
    "start_time": "2024-06-11T00:14:35.934Z"
   },
   {
    "duration": 35,
    "start_time": "2024-06-11T00:16:46.017Z"
   },
   {
    "duration": 36,
    "start_time": "2024-06-11T00:17:08.694Z"
   },
   {
    "duration": 36,
    "start_time": "2024-06-11T00:17:24.453Z"
   },
   {
    "duration": 36,
    "start_time": "2024-06-11T00:17:32.438Z"
   },
   {
    "duration": 28,
    "start_time": "2024-06-11T00:17:47.536Z"
   },
   {
    "duration": 36,
    "start_time": "2024-06-11T00:17:55.585Z"
   },
   {
    "duration": 34,
    "start_time": "2024-06-11T00:18:12.634Z"
   },
   {
    "duration": 366,
    "start_time": "2024-06-11T00:21:16.456Z"
   },
   {
    "duration": 4,
    "start_time": "2024-06-11T00:21:18.865Z"
   },
   {
    "duration": 7,
    "start_time": "2024-06-11T00:21:21.638Z"
   },
   {
    "duration": 18,
    "start_time": "2024-06-11T00:22:37.414Z"
   },
   {
    "duration": 1234,
    "start_time": "2024-06-11T00:25:37.784Z"
   },
   {
    "duration": 17,
    "start_time": "2024-06-11T00:26:33.631Z"
   },
   {
    "duration": 128,
    "start_time": "2024-06-11T00:27:17.645Z"
   },
   {
    "duration": 22,
    "start_time": "2024-06-11T00:27:40.958Z"
   },
   {
    "duration": 16,
    "start_time": "2024-06-11T00:28:05.076Z"
   },
   {
    "duration": 16,
    "start_time": "2024-06-11T00:28:18.078Z"
   },
   {
    "duration": 6,
    "start_time": "2024-06-11T00:28:29.537Z"
   },
   {
    "duration": 18,
    "start_time": "2024-06-11T00:28:31.360Z"
   },
   {
    "duration": 1883,
    "start_time": "2024-06-11T00:28:38.750Z"
   },
   {
    "duration": 8,
    "start_time": "2024-06-11T00:28:43.793Z"
   },
   {
    "duration": 2536,
    "start_time": "2024-06-11T00:28:45.690Z"
   },
   {
    "duration": 26,
    "start_time": "2024-06-11T00:31:05.270Z"
   },
   {
    "duration": 699,
    "start_time": "2024-06-11T00:31:21.845Z"
   },
   {
    "duration": 1702,
    "start_time": "2024-06-11T00:31:22.548Z"
   },
   {
    "duration": 56,
    "start_time": "2024-06-11T00:31:24.253Z"
   },
   {
    "duration": 53,
    "start_time": "2024-06-11T00:31:24.313Z"
   },
   {
    "duration": 25,
    "start_time": "2024-06-11T00:31:24.369Z"
   },
   {
    "duration": 52,
    "start_time": "2024-06-11T00:31:24.398Z"
   },
   {
    "duration": 410,
    "start_time": "2024-06-11T00:31:24.455Z"
   },
   {
    "duration": 106,
    "start_time": "2024-06-11T00:31:24.868Z"
   },
   {
    "duration": 23,
    "start_time": "2024-06-11T00:31:24.976Z"
   },
   {
    "duration": 212,
    "start_time": "2024-06-11T00:31:25.007Z"
   },
   {
    "duration": 214,
    "start_time": "2024-06-11T00:31:25.222Z"
   },
   {
    "duration": 57,
    "start_time": "2024-06-11T00:31:25.441Z"
   },
   {
    "duration": 49,
    "start_time": "2024-06-11T00:31:25.503Z"
   },
   {
    "duration": 5,
    "start_time": "2024-06-11T00:31:25.556Z"
   },
   {
    "duration": 71,
    "start_time": "2024-06-11T00:31:25.564Z"
   },
   {
    "duration": 8,
    "start_time": "2024-06-11T00:31:25.638Z"
   },
   {
    "duration": 7,
    "start_time": "2024-06-11T00:31:25.649Z"
   },
   {
    "duration": 75,
    "start_time": "2024-06-11T00:31:25.659Z"
   },
   {
    "duration": 6,
    "start_time": "2024-06-11T00:31:25.737Z"
   },
   {
    "duration": 5,
    "start_time": "2024-06-11T00:31:25.746Z"
   },
   {
    "duration": 7,
    "start_time": "2024-06-11T00:31:25.754Z"
   },
   {
    "duration": 5,
    "start_time": "2024-06-11T00:31:25.764Z"
   },
   {
    "duration": 1422,
    "start_time": "2024-06-11T00:31:25.773Z"
   },
   {
    "duration": 356,
    "start_time": "2024-06-11T00:31:27.201Z"
   },
   {
    "duration": 22,
    "start_time": "2024-06-11T00:31:27.560Z"
   },
   {
    "duration": 12,
    "start_time": "2024-06-11T00:31:27.587Z"
   },
   {
    "duration": 40,
    "start_time": "2024-06-11T00:31:27.602Z"
   },
   {
    "duration": 13,
    "start_time": "2024-06-11T00:31:27.655Z"
   },
   {
    "duration": 19,
    "start_time": "2024-06-11T00:31:27.671Z"
   },
   {
    "duration": 57,
    "start_time": "2024-06-11T00:31:27.694Z"
   },
   {
    "duration": 16,
    "start_time": "2024-06-11T00:31:27.755Z"
   },
   {
    "duration": 70,
    "start_time": "2024-06-11T00:31:27.774Z"
   },
   {
    "duration": 24,
    "start_time": "2024-06-11T00:31:27.847Z"
   },
   {
    "duration": 30,
    "start_time": "2024-06-11T00:31:27.874Z"
   },
   {
    "duration": 51,
    "start_time": "2024-06-11T00:31:27.937Z"
   },
   {
    "duration": 10,
    "start_time": "2024-06-11T00:31:27.991Z"
   },
   {
    "duration": 17,
    "start_time": "2024-06-11T00:31:28.032Z"
   },
   {
    "duration": 80,
    "start_time": "2024-06-11T00:31:28.053Z"
   },
   {
    "duration": 31,
    "start_time": "2024-06-11T00:31:28.137Z"
   },
   {
    "duration": 8,
    "start_time": "2024-06-11T00:31:28.171Z"
   },
   {
    "duration": 8,
    "start_time": "2024-06-11T00:31:28.182Z"
   },
   {
    "duration": 493,
    "start_time": "2024-06-11T00:31:28.193Z"
   },
   {
    "duration": 7,
    "start_time": "2024-06-11T00:31:28.689Z"
   },
   {
    "duration": 337,
    "start_time": "2024-06-11T00:31:28.700Z"
   },
   {
    "duration": 282,
    "start_time": "2024-06-11T00:31:29.040Z"
   },
   {
    "duration": 25,
    "start_time": "2024-06-11T00:31:29.325Z"
   },
   {
    "duration": 19,
    "start_time": "2024-06-11T00:31:29.354Z"
   },
   {
    "duration": 9,
    "start_time": "2024-06-11T00:31:29.376Z"
   },
   {
    "duration": 465,
    "start_time": "2024-06-11T00:31:29.389Z"
   },
   {
    "duration": 140,
    "start_time": "2024-06-11T00:31:29.857Z"
   },
   {
    "duration": 284,
    "start_time": "2024-06-11T00:31:29.999Z"
   },
   {
    "duration": 443,
    "start_time": "2024-06-11T00:31:30.286Z"
   },
   {
    "duration": 24,
    "start_time": "2024-06-11T00:31:30.733Z"
   },
   {
    "duration": 447,
    "start_time": "2024-06-11T00:31:30.760Z"
   },
   {
    "duration": 648,
    "start_time": "2024-06-11T00:31:31.213Z"
   },
   {
    "duration": 290,
    "start_time": "2024-06-11T00:31:31.864Z"
   },
   {
    "duration": 269,
    "start_time": "2024-06-11T00:31:32.157Z"
   },
   {
    "duration": 37,
    "start_time": "2024-06-11T00:31:32.429Z"
   },
   {
    "duration": 408,
    "start_time": "2024-06-11T00:31:32.469Z"
   },
   {
    "duration": 452,
    "start_time": "2024-06-11T00:31:32.880Z"
   },
   {
    "duration": 7,
    "start_time": "2024-06-11T00:31:33.336Z"
   },
   {
    "duration": 22,
    "start_time": "2024-06-11T00:31:33.347Z"
   },
   {
    "duration": 2003,
    "start_time": "2024-06-11T00:31:33.372Z"
   },
   {
    "duration": 8,
    "start_time": "2024-06-11T00:31:35.378Z"
   },
   {
    "duration": 53,
    "start_time": "2024-06-11T00:31:35.389Z"
   },
   {
    "duration": 98,
    "start_time": "2024-06-11T00:31:35.445Z"
   },
   {
    "duration": 26,
    "start_time": "2024-06-11T00:31:35.547Z"
   },
   {
    "duration": 437,
    "start_time": "2024-06-11T00:31:35.576Z"
   },
   {
    "duration": 392,
    "start_time": "2024-06-11T00:35:37.698Z"
   },
   {
    "duration": 7,
    "start_time": "2024-06-11T00:57:19.736Z"
   },
   {
    "duration": 705,
    "start_time": "2024-06-11T01:13:34.404Z"
   },
   {
    "duration": 1556,
    "start_time": "2024-06-11T01:13:35.113Z"
   },
   {
    "duration": 44,
    "start_time": "2024-06-11T01:13:36.671Z"
   },
   {
    "duration": 38,
    "start_time": "2024-06-11T01:13:36.717Z"
   },
   {
    "duration": 21,
    "start_time": "2024-06-11T01:13:36.761Z"
   },
   {
    "duration": 57,
    "start_time": "2024-06-11T01:13:36.785Z"
   },
   {
    "duration": 368,
    "start_time": "2024-06-11T01:13:36.845Z"
   },
   {
    "duration": 97,
    "start_time": "2024-06-11T01:13:37.215Z"
   },
   {
    "duration": 35,
    "start_time": "2024-06-11T01:13:37.315Z"
   },
   {
    "duration": 217,
    "start_time": "2024-06-11T01:13:37.353Z"
   },
   {
    "duration": 163,
    "start_time": "2024-06-11T01:13:37.573Z"
   },
   {
    "duration": 43,
    "start_time": "2024-06-11T01:13:37.740Z"
   },
   {
    "duration": 24,
    "start_time": "2024-06-11T01:13:37.786Z"
   },
   {
    "duration": 5,
    "start_time": "2024-06-11T01:13:37.839Z"
   },
   {
    "duration": 49,
    "start_time": "2024-06-11T01:13:37.847Z"
   },
   {
    "duration": 40,
    "start_time": "2024-06-11T01:13:37.899Z"
   },
   {
    "duration": 7,
    "start_time": "2024-06-11T01:13:37.942Z"
   },
   {
    "duration": 40,
    "start_time": "2024-06-11T01:13:37.952Z"
   },
   {
    "duration": 38,
    "start_time": "2024-06-11T01:13:37.994Z"
   },
   {
    "duration": 5,
    "start_time": "2024-06-11T01:13:38.035Z"
   },
   {
    "duration": 6,
    "start_time": "2024-06-11T01:13:38.043Z"
   },
   {
    "duration": 5,
    "start_time": "2024-06-11T01:13:38.053Z"
   },
   {
    "duration": 1316,
    "start_time": "2024-06-11T01:13:38.061Z"
   },
   {
    "duration": 334,
    "start_time": "2024-06-11T01:13:39.381Z"
   },
   {
    "duration": 27,
    "start_time": "2024-06-11T01:13:39.718Z"
   },
   {
    "duration": 11,
    "start_time": "2024-06-11T01:13:39.747Z"
   },
   {
    "duration": 11,
    "start_time": "2024-06-11T01:13:39.761Z"
   },
   {
    "duration": 10,
    "start_time": "2024-06-11T01:13:39.775Z"
   },
   {
    "duration": 58,
    "start_time": "2024-06-11T01:13:39.788Z"
   },
   {
    "duration": 23,
    "start_time": "2024-06-11T01:13:39.849Z"
   },
   {
    "duration": 14,
    "start_time": "2024-06-11T01:13:39.875Z"
   },
   {
    "duration": 64,
    "start_time": "2024-06-11T01:13:39.892Z"
   },
   {
    "duration": 19,
    "start_time": "2024-06-11T01:13:39.958Z"
   },
   {
    "duration": 53,
    "start_time": "2024-06-11T01:13:39.980Z"
   },
   {
    "duration": 49,
    "start_time": "2024-06-11T01:13:40.036Z"
   },
   {
    "duration": 9,
    "start_time": "2024-06-11T01:13:40.088Z"
   },
   {
    "duration": 46,
    "start_time": "2024-06-11T01:13:40.099Z"
   },
   {
    "duration": 51,
    "start_time": "2024-06-11T01:13:40.147Z"
   },
   {
    "duration": 56,
    "start_time": "2024-06-11T01:13:40.201Z"
   },
   {
    "duration": 7,
    "start_time": "2024-06-11T01:13:40.260Z"
   },
   {
    "duration": 6,
    "start_time": "2024-06-11T01:13:40.276Z"
   },
   {
    "duration": 444,
    "start_time": "2024-06-11T01:13:40.285Z"
   },
   {
    "duration": 6,
    "start_time": "2024-06-11T01:13:40.733Z"
   },
   {
    "duration": 280,
    "start_time": "2024-06-11T01:13:40.741Z"
   },
   {
    "duration": 277,
    "start_time": "2024-06-11T01:13:41.024Z"
   },
   {
    "duration": 32,
    "start_time": "2024-06-11T01:13:41.305Z"
   },
   {
    "duration": 20,
    "start_time": "2024-06-11T01:13:41.340Z"
   },
   {
    "duration": 12,
    "start_time": "2024-06-11T01:13:41.363Z"
   },
   {
    "duration": 464,
    "start_time": "2024-06-11T01:13:41.378Z"
   },
   {
    "duration": 146,
    "start_time": "2024-06-11T01:13:41.849Z"
   },
   {
    "duration": 236,
    "start_time": "2024-06-11T01:13:41.997Z"
   },
   {
    "duration": 290,
    "start_time": "2024-06-11T01:13:42.237Z"
   },
   {
    "duration": 22,
    "start_time": "2024-06-11T01:13:42.533Z"
   },
   {
    "duration": 416,
    "start_time": "2024-06-11T01:13:42.558Z"
   },
   {
    "duration": 563,
    "start_time": "2024-06-11T01:13:42.979Z"
   },
   {
    "duration": 288,
    "start_time": "2024-06-11T01:13:43.545Z"
   },
   {
    "duration": 271,
    "start_time": "2024-06-11T01:13:43.836Z"
   },
   {
    "duration": 39,
    "start_time": "2024-06-11T01:13:44.110Z"
   },
   {
    "duration": 392,
    "start_time": "2024-06-11T01:13:44.152Z"
   },
   {
    "duration": 465,
    "start_time": "2024-06-11T01:13:44.547Z"
   },
   {
    "duration": 18,
    "start_time": "2024-06-11T01:13:45.015Z"
   },
   {
    "duration": 21,
    "start_time": "2024-06-11T01:13:45.036Z"
   },
   {
    "duration": 2067,
    "start_time": "2024-06-11T01:13:45.059Z"
   },
   {
    "duration": 19,
    "start_time": "2024-06-11T01:13:47.130Z"
   },
   {
    "duration": 39,
    "start_time": "2024-06-11T01:13:47.152Z"
   },
   {
    "duration": 109,
    "start_time": "2024-06-11T01:13:47.194Z"
   },
   {
    "duration": 31,
    "start_time": "2024-06-11T01:13:47.306Z"
   },
   {
    "duration": 446,
    "start_time": "2024-06-11T01:13:47.340Z"
   }
  ],
  "colab": {
   "provenance": []
  },
  "kernelspec": {
   "display_name": "Python [conda env:base] *",
   "language": "python",
   "name": "conda-base-py"
  },
  "language_info": {
   "codemirror_mode": {
    "name": "ipython",
    "version": 3
   },
   "file_extension": ".py",
   "mimetype": "text/x-python",
   "name": "python",
   "nbconvert_exporter": "python",
   "pygments_lexer": "ipython3",
   "version": "3.11.7"
  },
  "toc": {
   "base_numbering": 1,
   "nav_menu": {},
   "number_sections": true,
   "sideBar": true,
   "skip_h1_title": true,
   "title_cell": "Table of Contents",
   "title_sidebar": "Contents",
   "toc_cell": false,
   "toc_position": {},
   "toc_section_display": true,
   "toc_window_display": false
  },
  "vscode": {
   "interpreter": {
    "hash": "01a7be9ec63e704a62cefc5fe7a4756944464ee731be31632bdf42a4cb4688cf"
   }
  }
 },
 "nbformat": 4,
 "nbformat_minor": 5
}
